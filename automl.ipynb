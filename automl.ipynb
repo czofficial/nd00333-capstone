{
  "cells": [
    {
      "cell_type": "markdown",
      "source": [
        "## Automated ML\n",
        "\n",
        "This project is part of the Udacity Azure ML Nanodegree."
      ],
      "metadata": {}
    },
    {
      "cell_type": "code",
      "source": [
        "import azureml.core\n",
        "\n",
        "print(\"SDK version:\", azureml.core.VERSION)"
      ],
      "outputs": [
        {
          "output_type": "stream",
          "name": "stdout",
          "text": [
            "SDK version: 1.26.0\n"
          ]
        }
      ],
      "execution_count": 1,
      "metadata": {
        "gather": {
          "logged": 1618919941200
        },
        "jupyter": {
          "outputs_hidden": false,
          "source_hidden": false
        },
        "nteract": {
          "transient": {
            "deleting": false
          }
        }
      }
    },
    {
      "cell_type": "markdown",
      "source": [
        "### Overview\n",
        "Please refer to the Github README file for a comprehensive overview of the project, including all details regarding the dataset.\n",
        "\n",
        "As this is a Mercedes-Benz used car price prediction project, I will be performing an Azure AutoML Regressor in order to retrieve the best model for a price prediction.\n",
        "\n",
        "Steps in this notebook include:\n",
        "- Experiment\n",
        "- Compute\n",
        "- Dataset\n",
        "- AutoML Configuration\n",
        "- Run Details\n",
        "- Best Model\n",
        "- Model Depyloment"
      ],
      "metadata": {}
    },
    {
      "cell_type": "markdown",
      "source": [
        "### Experiment\n",
        "\n",
        "Creates the experiment called 'mercedes-price-prediction-experiment'."
      ],
      "metadata": {
        "nteract": {
          "transient": {
            "deleting": false
          }
        }
      }
    },
    {
      "cell_type": "code",
      "source": [
        "from azureml.core.experiment import Experiment\n",
        "from azureml.core.workspace import Workspace\n",
        "\n",
        "ws = Workspace.from_config()\n",
        "\n",
        "experiment_name = 'mercedes-price-prediction'\n",
        "\n",
        "experiment = Experiment(ws, experiment_name)\n",
        "\n",
        "print(ws.name, ws.resource_group, ws.location, ws.subscription_id, sep = '\\n')\n",
        "print('\\n')\n",
        "print(experiment)"
      ],
      "outputs": [
        {
          "output_type": "stream",
          "name": "stdout",
          "text": [
            "udacity-ws\n",
            "udacity-rg\n",
            "westeurope\n",
            "939d1c66-7864-4f15-8560-5c793c4110c8\n",
            "\n",
            "\n",
            "Experiment(Name: mercedes-price-prediction,\n",
            "Workspace: udacity-ws)\n"
          ]
        }
      ],
      "execution_count": 2,
      "metadata": {
        "gather": {
          "logged": 1618919949249
        },
        "jupyter": {
          "outputs_hidden": false,
          "source_hidden": false
        },
        "nteract": {
          "transient": {
            "deleting": false
          }
        }
      }
    },
    {
      "cell_type": "markdown",
      "source": [
        "### Compute\n",
        "\n",
        "Chooses the already existing compute cluster.\n",
        "\n",
        "If it didn't exist, it'll be created instead."
      ],
      "metadata": {
        "nteract": {
          "transient": {
            "deleting": false
          }
        }
      }
    },
    {
      "cell_type": "code",
      "source": [
        "from azureml.core.compute import ComputeTarget, AmlCompute\n",
        "from azureml.core.compute_target import ComputeTargetException\n",
        "\n",
        "# Choose a name for your CPU cluster\n",
        "cpu_cluster_name = \"mercedes-cc\"\n",
        "\n",
        "# Verify that cluster does not exist already\n",
        "try:\n",
        "    cpu_cluster = ComputeTarget(workspace=ws, name=cpu_cluster_name)\n",
        "    print('Found existing cluster, use it.')\n",
        "except ComputeTargetException:\n",
        "    compute_config = AmlCompute.provisioning_configuration(vm_size='STANDARD_D2_V2',\n",
        "                                                              max_nodes=4)\n",
        "    cpu_cluster = ComputeTarget.create(ws, cpu_cluster_name, compute_config)\n",
        "\n",
        "cpu_cluster.wait_for_completion(show_output=True)"
      ],
      "outputs": [
        {
          "output_type": "stream",
          "name": "stdout",
          "text": [
            "Found existing cluster, use it.\n",
            "Succeeded\n",
            "AmlCompute wait for completion finished\n",
            "\n",
            "Minimum number of nodes requested have been provisioned\n"
          ]
        }
      ],
      "execution_count": 3,
      "metadata": {
        "collapsed": true,
        "jupyter": {
          "source_hidden": false,
          "outputs_hidden": false
        },
        "nteract": {
          "transient": {
            "deleting": false
          }
        },
        "gather": {
          "logged": 1618919954068
        }
      }
    },
    {
      "cell_type": "markdown",
      "source": [
        "### Dataset\n",
        "\n",
        "Loads the already registered dataset called 'mercedes'.\n",
        "\n",
        "Prints out if dataset was found or not."
      ],
      "metadata": {
        "nteract": {
          "transient": {
            "deleting": false
          }
        }
      }
    },
    {
      "cell_type": "code",
      "source": [
        "found = False\n",
        "key = \"mercedes\"\n",
        "\n",
        "if key in ws.datasets.keys():\n",
        "    found = True\n",
        "    dataset = ws.datasets[key]\n",
        "    print(\"dataset found\")\n",
        "\n",
        "if not found:\n",
        "    print(\"dataset not found\")"
      ],
      "outputs": [
        {
          "output_type": "stream",
          "name": "stdout",
          "text": [
            "dataset found\n"
          ]
        }
      ],
      "execution_count": 4,
      "metadata": {
        "collapsed": true,
        "jupyter": {
          "source_hidden": false,
          "outputs_hidden": false
        },
        "nteract": {
          "transient": {
            "deleting": false
          }
        },
        "gather": {
          "logged": 1618919962766
        }
      }
    },
    {
      "cell_type": "markdown",
      "source": [
        "Prints out an overview of the dataset to ensure the quality of the dataset. For instance, 13.119 datapoints are available in each column. The price ranges from 650 to 159.999 British Pounds. This sounds reasonable for a Mercedes-Benz car, considering the average year of registration (2017)."
      ],
      "metadata": {
        "nteract": {
          "transient": {
            "deleting": false
          }
        }
      }
    },
    {
      "cell_type": "code",
      "source": [
        "df = dataset.to_pandas_dataframe()\n",
        "\n",
        "df.describe()"
      ],
      "outputs": [
        {
          "output_type": "execute_result",
          "execution_count": 5,
          "data": {
            "text/plain": "               year          price        mileage           tax           mpg  \\\ncount  13119.000000   13119.000000   13119.000000  13119.000000  13119.000000   \nmean    2017.296288   24698.596920   21949.559037    129.972178     55.155843   \nstd        2.224709   11842.675542   21176.512267     65.260286     15.220082   \nmin     1970.000000     650.000000       1.000000      0.000000      1.100000   \n25%     2016.000000   17450.000000    6097.500000    125.000000     45.600000   \n50%     2018.000000   22480.000000   15189.000000    145.000000     56.500000   \n75%     2019.000000   28980.000000   31779.500000    145.000000     64.200000   \nmax     2020.000000  159999.000000  259000.000000    580.000000    217.300000   \n\n         engineSize  \ncount  13119.000000  \nmean       2.071530  \nstd        0.572426  \nmin        0.000000  \n25%        1.800000  \n50%        2.000000  \n75%        2.100000  \nmax        6.200000  ",
            "text/html": "<div>\n<style scoped>\n    .dataframe tbody tr th:only-of-type {\n        vertical-align: middle;\n    }\n\n    .dataframe tbody tr th {\n        vertical-align: top;\n    }\n\n    .dataframe thead th {\n        text-align: right;\n    }\n</style>\n<table border=\"1\" class=\"dataframe\">\n  <thead>\n    <tr style=\"text-align: right;\">\n      <th></th>\n      <th>year</th>\n      <th>price</th>\n      <th>mileage</th>\n      <th>tax</th>\n      <th>mpg</th>\n      <th>engineSize</th>\n    </tr>\n  </thead>\n  <tbody>\n    <tr>\n      <th>count</th>\n      <td>13119.000000</td>\n      <td>13119.000000</td>\n      <td>13119.000000</td>\n      <td>13119.000000</td>\n      <td>13119.000000</td>\n      <td>13119.000000</td>\n    </tr>\n    <tr>\n      <th>mean</th>\n      <td>2017.296288</td>\n      <td>24698.596920</td>\n      <td>21949.559037</td>\n      <td>129.972178</td>\n      <td>55.155843</td>\n      <td>2.071530</td>\n    </tr>\n    <tr>\n      <th>std</th>\n      <td>2.224709</td>\n      <td>11842.675542</td>\n      <td>21176.512267</td>\n      <td>65.260286</td>\n      <td>15.220082</td>\n      <td>0.572426</td>\n    </tr>\n    <tr>\n      <th>min</th>\n      <td>1970.000000</td>\n      <td>650.000000</td>\n      <td>1.000000</td>\n      <td>0.000000</td>\n      <td>1.100000</td>\n      <td>0.000000</td>\n    </tr>\n    <tr>\n      <th>25%</th>\n      <td>2016.000000</td>\n      <td>17450.000000</td>\n      <td>6097.500000</td>\n      <td>125.000000</td>\n      <td>45.600000</td>\n      <td>1.800000</td>\n    </tr>\n    <tr>\n      <th>50%</th>\n      <td>2018.000000</td>\n      <td>22480.000000</td>\n      <td>15189.000000</td>\n      <td>145.000000</td>\n      <td>56.500000</td>\n      <td>2.000000</td>\n    </tr>\n    <tr>\n      <th>75%</th>\n      <td>2019.000000</td>\n      <td>28980.000000</td>\n      <td>31779.500000</td>\n      <td>145.000000</td>\n      <td>64.200000</td>\n      <td>2.100000</td>\n    </tr>\n    <tr>\n      <th>max</th>\n      <td>2020.000000</td>\n      <td>159999.000000</td>\n      <td>259000.000000</td>\n      <td>580.000000</td>\n      <td>217.300000</td>\n      <td>6.200000</td>\n    </tr>\n  </tbody>\n</table>\n</div>"
          },
          "metadata": {}
        }
      ],
      "execution_count": 5,
      "metadata": {
        "collapsed": true,
        "jupyter": {
          "source_hidden": false,
          "outputs_hidden": false
        },
        "nteract": {
          "transient": {
            "deleting": false
          }
        },
        "gather": {
          "logged": 1618919974379
        }
      }
    },
    {
      "cell_type": "markdown",
      "source": [
        "Prints out the first 5 rows of the dataset."
      ],
      "metadata": {
        "nteract": {
          "transient": {
            "deleting": false
          }
        }
      }
    },
    {
      "cell_type": "code",
      "source": [
        "df.head(5)"
      ],
      "outputs": [
        {
          "output_type": "execute_result",
          "execution_count": 6,
          "data": {
            "text/plain": "       model  year  price transmission  mileage fuelType  tax   mpg  \\\n0        SLK  2005   5200    Automatic    63000   Petrol  325  32.1   \n1    S Class  2017  34948    Automatic    27000   Hybrid   20  61.4   \n2   SL CLASS  2016  49948    Automatic     6200   Petrol  555  28.0   \n3    G Class  2016  61948    Automatic    16000   Petrol  325  30.4   \n4    G Class  2016  73948    Automatic     4000   Petrol  325  30.1   \n\n   engineSize  \n0         1.8  \n1         2.1  \n2         5.5  \n3         4.0  \n4         4.0  ",
            "text/html": "<div>\n<style scoped>\n    .dataframe tbody tr th:only-of-type {\n        vertical-align: middle;\n    }\n\n    .dataframe tbody tr th {\n        vertical-align: top;\n    }\n\n    .dataframe thead th {\n        text-align: right;\n    }\n</style>\n<table border=\"1\" class=\"dataframe\">\n  <thead>\n    <tr style=\"text-align: right;\">\n      <th></th>\n      <th>model</th>\n      <th>year</th>\n      <th>price</th>\n      <th>transmission</th>\n      <th>mileage</th>\n      <th>fuelType</th>\n      <th>tax</th>\n      <th>mpg</th>\n      <th>engineSize</th>\n    </tr>\n  </thead>\n  <tbody>\n    <tr>\n      <th>0</th>\n      <td>SLK</td>\n      <td>2005</td>\n      <td>5200</td>\n      <td>Automatic</td>\n      <td>63000</td>\n      <td>Petrol</td>\n      <td>325</td>\n      <td>32.1</td>\n      <td>1.8</td>\n    </tr>\n    <tr>\n      <th>1</th>\n      <td>S Class</td>\n      <td>2017</td>\n      <td>34948</td>\n      <td>Automatic</td>\n      <td>27000</td>\n      <td>Hybrid</td>\n      <td>20</td>\n      <td>61.4</td>\n      <td>2.1</td>\n    </tr>\n    <tr>\n      <th>2</th>\n      <td>SL CLASS</td>\n      <td>2016</td>\n      <td>49948</td>\n      <td>Automatic</td>\n      <td>6200</td>\n      <td>Petrol</td>\n      <td>555</td>\n      <td>28.0</td>\n      <td>5.5</td>\n    </tr>\n    <tr>\n      <th>3</th>\n      <td>G Class</td>\n      <td>2016</td>\n      <td>61948</td>\n      <td>Automatic</td>\n      <td>16000</td>\n      <td>Petrol</td>\n      <td>325</td>\n      <td>30.4</td>\n      <td>4.0</td>\n    </tr>\n    <tr>\n      <th>4</th>\n      <td>G Class</td>\n      <td>2016</td>\n      <td>73948</td>\n      <td>Automatic</td>\n      <td>4000</td>\n      <td>Petrol</td>\n      <td>325</td>\n      <td>30.1</td>\n      <td>4.0</td>\n    </tr>\n  </tbody>\n</table>\n</div>"
          },
          "metadata": {}
        }
      ],
      "execution_count": 6,
      "metadata": {
        "collapsed": true,
        "jupyter": {
          "source_hidden": false,
          "outputs_hidden": false
        },
        "nteract": {
          "transient": {
            "deleting": false
          }
        },
        "gather": {
          "logged": 1618919977190
        }
      }
    },
    {
      "cell_type": "markdown",
      "source": [
        "### AutoML Configuration\n",
        "Considering the overall high quality of the dataset, I chose to timeout the experiment after 15 minutes and to enable early stopping. Since the price column is a numeric value, it makes sense to use an easy to understand metric such as a (normalized) mean absolute error as the primary metric.\n",
        "\n",
        "As I want to predict numerical values (prices in British Pounds), it make sense to use a regression as task."
      ],
      "metadata": {}
    },
    {
      "cell_type": "code",
      "source": [
        "from azureml.train.automl import AutoMLConfig\n",
        "\n",
        "# automl settings\n",
        "automl_settings = {\n",
        "    \"experiment_timeout_minutes\": 15,\n",
        "    \"max_concurrent_iterations\": 5,\n",
        "    \"primary_metric\": \"normalized_mean_absolute_error\",\n",
        "    \"featurization\": 'auto',\n",
        "    \"enable_early_stopping\": True,\n",
        "}\n",
        "\n",
        "# automl config\n",
        "automl_regressor = AutoMLConfig(\n",
        "    compute_target=cpu_cluster,\n",
        "    task=\"regression\",\n",
        "    training_data=dataset,\n",
        "    label_column_name=\"price\",\n",
        "    **automl_settings\n",
        "    )"
      ],
      "outputs": [],
      "execution_count": 7,
      "metadata": {
        "gather": {
          "logged": 1618919981550
        },
        "jupyter": {
          "outputs_hidden": false,
          "source_hidden": false
        },
        "nteract": {
          "transient": {
            "deleting": false
          }
        }
      }
    },
    {
      "cell_type": "markdown",
      "source": [
        "### Run Details\n",
        "\n",
        "Shows the different experiments."
      ],
      "metadata": {}
    },
    {
      "cell_type": "code",
      "source": [
        "from azureml.widgets import RunDetails\n",
        "\n",
        "# Submit experiment\n",
        "automl_run = experiment.submit(automl_regressor, show_output=True)\n",
        "\n",
        "RunDetails(automl_run).show()\n",
        "automl_run.wait_for_completion(show_output=True)"
      ],
      "outputs": [
        {
          "output_type": "stream",
          "name": "stdout",
          "text": [
            "Submitting remote run.\n",
            "No run_configuration provided, running on mercedes-cc with default configuration\n",
            "Running on remote compute: mercedes-cc\n"
          ]
        },
        {
          "output_type": "display_data",
          "data": {
            "text/plain": "<IPython.core.display.HTML object>",
            "text/html": "<table style=\"width:100%\"><tr><th>Experiment</th><th>Id</th><th>Type</th><th>Status</th><th>Details Page</th><th>Docs Page</th></tr><tr><td>mercedes-price-prediction</td><td>AutoML_b88cfcdf-7f5e-447d-8a2f-0f268afeff64</td><td>automl</td><td>NotStarted</td><td><a href=\"https://ml.azure.com/runs/AutoML_b88cfcdf-7f5e-447d-8a2f-0f268afeff64?wsid=/subscriptions/939d1c66-7864-4f15-8560-5c793c4110c8/resourcegroups/udacity-rg/workspaces/udacity-ws&amp;tid=58798559-b4aa-42d5-a222-d57c24dbd4fa\" target=\"_blank\" rel=\"noopener\">Link to Azure Machine Learning studio</a></td><td><a href=\"https://docs.microsoft.com/en-us/python/api/overview/azure/ml/intro?view=azure-ml-py\" target=\"_blank\" rel=\"noopener\">Link to Documentation</a></td></tr></table>"
          },
          "metadata": {}
        },
        {
          "output_type": "stream",
          "name": "stdout",
          "text": [
            "\n",
            "Current status: FeaturesGeneration. Generating features for the dataset.\n",
            "Current status: DatasetCrossValidationSplit. Generating individually featurized CV splits.\n",
            "Current status: ModelSelection. Beginning model selection.\n",
            "\n",
            "****************************************************************************************************\n",
            "DATA GUARDRAILS: \n",
            "\n",
            "TYPE:         Cross validation\n",
            "STATUS:       DONE\n",
            "DESCRIPTION:  Each iteration of the trained model was validated through cross-validation.\n",
            "              \n",
            "DETAILS:      \n",
            "+---------------------------------+\n",
            "|Number of folds                  |\n",
            "+=================================+\n",
            "|3                                |\n",
            "+---------------------------------+\n",
            "\n",
            "****************************************************************************************************\n",
            "\n",
            "TYPE:         Missing feature values imputation\n",
            "STATUS:       PASSED\n",
            "DESCRIPTION:  No feature missing values were detected in the training data.\n",
            "              Learn more about missing value imputation: https://aka.ms/AutomatedMLFeaturization\n",
            "\n",
            "****************************************************************************************************\n",
            "\n",
            "TYPE:         High cardinality feature detection\n",
            "STATUS:       PASSED\n",
            "DESCRIPTION:  Your inputs were analyzed, and no high cardinality features were detected.\n",
            "              Learn more about high cardinality feature handling: https://aka.ms/AutomatedMLFeaturization\n",
            "\n",
            "****************************************************************************************************\n",
            "\n",
            "****************************************************************************************************\n",
            "ITERATION: The iteration being evaluated.\n",
            "PIPELINE: A summary description of the pipeline being evaluated.\n",
            "DURATION: Time taken for the current iteration.\n",
            "METRIC: The result of computing score on the fitted pipeline.\n",
            "BEST: The best observed score thus far.\n",
            "****************************************************************************************************\n",
            "\n",
            " ITERATION   PIPELINE                                       DURATION      METRIC      BEST\n",
            "         1   MaxAbsScaler XGBoostRegressor                  0:00:45       0.0151    0.0151\n",
            "         4   MaxAbsScaler DecisionTree                      0:00:41       0.0211    0.0151\n",
            "         2   StandardScalerWrapper DecisionTree             0:00:52       0.0252    0.0151\n",
            "         5   MaxAbsScaler DecisionTree                      0:01:55       0.0189    0.0151\n",
            "         7   MaxAbsScaler DecisionTree                      0:00:41       0.0252    0.0151\n",
            "         0   MaxAbsScaler LightGBM                          0:02:28       0.0113    0.0113\n",
            "         3   MaxAbsScaler DecisionTree                      0:02:42       0.0213    0.0113\n",
            "         8   MaxAbsScaler DecisionTree                      0:00:44       0.0189    0.0113\n",
            "         9   MaxAbsScaler DecisionTree                      0:00:44       0.0270    0.0113\n",
            "         6   MaxAbsScaler DecisionTree                      0:02:48       0.0213    0.0113\n",
            "        10   MaxAbsScaler SGD                               0:00:38       0.0208    0.0113\n",
            "        11   MaxAbsScaler DecisionTree                      0:00:49       0.0222    0.0113\n",
            "        12   MaxAbsScaler DecisionTree                      0:00:46       0.0171    0.0113\n",
            "        13   MaxAbsScaler ElasticNet                        0:00:57       0.0206    0.0113\n",
            "        14   MaxAbsScaler DecisionTree                      0:00:43       0.0244    0.0113\n",
            "        16   MaxAbsScaler DecisionTree                      0:00:41       0.0214    0.0113\n",
            "        15   MaxAbsScaler DecisionTree                      0:00:52       0.0251    0.0113\n",
            "        17   MaxAbsScaler DecisionTree                      0:00:42       0.0247    0.0113\n",
            "        18   MaxAbsScaler DecisionTree                      0:00:48       0.0189    0.0113\n",
            "        19   MaxAbsScaler DecisionTree                      0:00:45       0.0234    0.0113\n",
            "        20   MaxAbsScaler DecisionTree                      0:00:50       0.0187    0.0113\n",
            "        21   MaxAbsScaler DecisionTree                      0:00:46       0.0239    0.0113\n",
            "        22   MaxAbsScaler DecisionTree                      0:00:49       0.0176    0.0113\n",
            "        23   MaxAbsScaler DecisionTree                      0:00:41       0.0272    0.0113\n",
            "        24   MaxAbsScaler RandomForest                      0:01:01       0.0198    0.0113\n",
            "        25   MaxAbsScaler LightGBM                          0:00:48       0.0211    0.0113\n",
            "        26   MaxAbsScaler DecisionTree                      0:00:47       0.0157    0.0113\n",
            "        27   MaxAbsScaler RandomForest                      0:00:47       0.0221    0.0113\n",
            "        28   MaxAbsScaler ExtremeRandomTrees                0:00:46       0.0177    0.0113\n",
            "        29   MaxAbsScaler RandomForest                      0:01:01       0.0178    0.0113\n",
            "        30   MaxAbsScaler LightGBM                          0:00:46       0.0233    0.0113\n",
            "        31   MaxAbsScaler RandomForest                      0:00:48       0.0228    0.0113\n",
            "        32   MaxAbsScaler RandomForest                      0:00:53       0.0304    0.0113\n",
            "        33   MaxAbsScaler ExtremeRandomTrees                0:00:59       0.0237    0.0113\n",
            "        34   MaxAbsScaler RandomForest                      0:00:51       0.0257    0.0113\n",
            "        35   MaxAbsScaler LightGBM                          0:00:34       0.0243    0.0113\n",
            "        36                                                  0:00:07          nan    0.0113\n",
            "        37                                                  0:00:22          nan    0.0113\n",
            "        38    VotingEnsemble                                0:01:13       0.0113    0.0113\n",
            "        39    StackEnsemble                                 0:01:12       0.0113    0.0113\n"
          ]
        },
        {
          "output_type": "display_data",
          "data": {
            "text/plain": "_AutoMLWidget(widget_settings={'childWidgetDisplay': 'popup', 'send_telemetry': False, 'log_level': 'INFO', 's…",
            "application/vnd.jupyter.widget-view+json": {
              "version_major": 2,
              "version_minor": 0,
              "model_id": "130637480f7b4cf39940310ba266c361"
            }
          },
          "metadata": {}
        },
        {
          "output_type": "display_data",
          "data": {
            "application/aml.mini.widget.v1": "{\"status\": \"Completed\", \"workbench_run_details_uri\": \"https://ml.azure.com/runs/AutoML_b88cfcdf-7f5e-447d-8a2f-0f268afeff64?wsid=/subscriptions/939d1c66-7864-4f15-8560-5c793c4110c8/resourcegroups/udacity-rg/workspaces/udacity-ws&tid=58798559-b4aa-42d5-a222-d57c24dbd4fa\", \"run_id\": \"AutoML_b88cfcdf-7f5e-447d-8a2f-0f268afeff64\", \"run_properties\": {\"run_id\": \"AutoML_b88cfcdf-7f5e-447d-8a2f-0f268afeff64\", \"created_utc\": \"2021-04-20T11:59:50.206843Z\", \"properties\": {\"num_iterations\": \"1000\", \"training_type\": \"TrainFull\", \"acquisition_function\": \"EI\", \"primary_metric\": \"normalized_mean_absolute_error\", \"train_split\": \"0\", \"acquisition_parameter\": \"0\", \"num_cross_validation\": null, \"target\": \"mercedes-cc\", \"AMLSettingsJsonString\": \"{\\\"path\\\":null,\\\"name\\\":\\\"mercedes-price-prediction\\\",\\\"subscription_id\\\":\\\"939d1c66-7864-4f15-8560-5c793c4110c8\\\",\\\"resource_group\\\":\\\"udacity-rg\\\",\\\"workspace_name\\\":\\\"udacity-ws\\\",\\\"region\\\":\\\"westeurope\\\",\\\"compute_target\\\":\\\"mercedes-cc\\\",\\\"spark_service\\\":null,\\\"azure_service\\\":\\\"remote\\\",\\\"many_models\\\":false,\\\"pipeline_fetch_max_batch_size\\\":1,\\\"enable_batch_run\\\":false,\\\"enable_run_restructure\\\":false,\\\"iterations\\\":1000,\\\"primary_metric\\\":\\\"normalized_mean_absolute_error\\\",\\\"task_type\\\":\\\"regression\\\",\\\"data_script\\\":null,\\\"test_size\\\":0.0,\\\"validation_size\\\":0.0,\\\"n_cross_validations\\\":null,\\\"y_min\\\":null,\\\"y_max\\\":null,\\\"num_classes\\\":null,\\\"featurization\\\":\\\"auto\\\",\\\"_ignore_package_version_incompatibilities\\\":false,\\\"is_timeseries\\\":false,\\\"max_cores_per_iteration\\\":1,\\\"max_concurrent_iterations\\\":5,\\\"iteration_timeout_minutes\\\":null,\\\"mem_in_mb\\\":null,\\\"enforce_time_on_windows\\\":false,\\\"experiment_timeout_minutes\\\":15,\\\"experiment_exit_score\\\":null,\\\"whitelist_models\\\":null,\\\"blacklist_algos\\\":[\\\"TensorFlowDNN\\\",\\\"TensorFlowLinearRegressor\\\"],\\\"supported_models\\\":[\\\"DecisionTree\\\",\\\"ExtremeRandomTrees\\\",\\\"TensorFlowLinearRegressor\\\",\\\"ElasticNet\\\",\\\"RandomForest\\\",\\\"XGBoostRegressor\\\",\\\"SGD\\\",\\\"FastLinearRegressor\\\",\\\"OnlineGradientDescentRegressor\\\",\\\"LassoLars\\\",\\\"GradientBoosting\\\",\\\"LightGBM\\\",\\\"KNN\\\",\\\"TensorFlowDNN\\\"],\\\"private_models\\\":[],\\\"auto_blacklist\\\":true,\\\"blacklist_samples_reached\\\":false,\\\"exclude_nan_labels\\\":true,\\\"verbosity\\\":20,\\\"_debug_log\\\":\\\"azureml_automl.log\\\",\\\"show_warnings\\\":false,\\\"model_explainability\\\":true,\\\"service_url\\\":null,\\\"sdk_url\\\":null,\\\"sdk_packages\\\":null,\\\"enable_onnx_compatible_models\\\":false,\\\"enable_split_onnx_featurizer_estimator_models\\\":false,\\\"vm_type\\\":\\\"STANDARD_DS2_V2\\\",\\\"telemetry_verbosity\\\":20,\\\"send_telemetry\\\":true,\\\"enable_dnn\\\":false,\\\"scenario\\\":\\\"SDK-1.13.0\\\",\\\"environment_label\\\":null,\\\"save_mlflow\\\":false,\\\"force_text_dnn\\\":false,\\\"enable_feature_sweeping\\\":true,\\\"enable_early_stopping\\\":true,\\\"early_stopping_n_iters\\\":10,\\\"metrics\\\":null,\\\"enable_metric_confidence\\\":false,\\\"enable_ensembling\\\":true,\\\"enable_stack_ensembling\\\":true,\\\"ensemble_iterations\\\":15,\\\"enable_tf\\\":false,\\\"enable_subsampling\\\":null,\\\"subsample_seed\\\":null,\\\"enable_nimbusml\\\":false,\\\"enable_streaming\\\":false,\\\"force_streaming\\\":false,\\\"track_child_runs\\\":true,\\\"allowed_private_models\\\":[],\\\"label_column_name\\\":\\\"price\\\",\\\"weight_column_name\\\":null,\\\"cv_split_column_names\\\":null,\\\"enable_local_managed\\\":false,\\\"_local_managed_run_id\\\":null,\\\"cost_mode\\\":1,\\\"lag_length\\\":0,\\\"metric_operation\\\":\\\"minimize\\\",\\\"preprocess\\\":true}\", \"DataPrepJsonString\": \"{\\\\\\\"training_data\\\\\\\": {\\\\\\\"datasetId\\\\\\\": \\\\\\\"f3d238d6-2159-4501-b5bf-6a2d75e77de5\\\\\\\"}, \\\\\\\"datasets\\\\\\\": 0}\", \"EnableSubsampling\": null, \"runTemplate\": \"AutoML\", \"azureml.runsource\": \"automl\", \"display_task_type\": \"regression\", \"dependencies_versions\": \"{\\\"azureml-widgets\\\": \\\"1.26.0\\\", \\\"azureml-train\\\": \\\"1.26.0\\\", \\\"azureml-train-restclients-hyperdrive\\\": \\\"1.26.0\\\", \\\"azureml-train-core\\\": \\\"1.26.0\\\", \\\"azureml-train-automl\\\": \\\"1.26.0\\\", \\\"azureml-train-automl-runtime\\\": \\\"1.26.0\\\", \\\"azureml-train-automl-client\\\": \\\"1.26.0\\\", \\\"azureml-tensorboard\\\": \\\"1.26.0\\\", \\\"azureml-telemetry\\\": \\\"1.26.0\\\", \\\"azureml-sdk\\\": \\\"1.26.0\\\", \\\"azureml-samples\\\": \\\"0+unknown\\\", \\\"azureml-pipeline\\\": \\\"1.26.0\\\", \\\"azureml-pipeline-steps\\\": \\\"1.26.0\\\", \\\"azureml-pipeline-core\\\": \\\"1.26.0\\\", \\\"azureml-opendatasets\\\": \\\"1.26.0\\\", \\\"azureml-model-management-sdk\\\": \\\"1.0.1b6.post1\\\", \\\"azureml-mlflow\\\": \\\"1.26.0\\\", \\\"azureml-interpret\\\": \\\"1.26.0\\\", \\\"azureml-explain-model\\\": \\\"1.26.0\\\", \\\"azureml-defaults\\\": \\\"1.26.0\\\", \\\"azureml-dataset-runtime\\\": \\\"1.26.0\\\", \\\"azureml-dataprep\\\": \\\"2.13.2\\\", \\\"azureml-dataprep-rslex\\\": \\\"1.11.2\\\", \\\"azureml-dataprep-native\\\": \\\"32.0.0\\\", \\\"azureml-datadrift\\\": \\\"1.26.0\\\", \\\"azureml-core\\\": \\\"1.26.0\\\", \\\"azureml-contrib-services\\\": \\\"1.26.0\\\", \\\"azureml-contrib-server\\\": \\\"1.26.0\\\", \\\"azureml-contrib-reinforcementlearning\\\": \\\"1.26.0\\\", \\\"azureml-contrib-pipeline-steps\\\": \\\"1.26.0\\\", \\\"azureml-contrib-notebook\\\": \\\"1.26.0\\\", \\\"azureml-contrib-gbdt\\\": \\\"1.26.0\\\", \\\"azureml-contrib-fairness\\\": \\\"1.26.0\\\", \\\"azureml-contrib-dataset\\\": \\\"1.26.0\\\", \\\"azureml-cli-common\\\": \\\"1.26.0\\\", \\\"azureml-automl-runtime\\\": \\\"1.26.0\\\", \\\"azureml-automl-dnn-nlp\\\": \\\"1.26.0\\\", \\\"azureml-automl-core\\\": \\\"1.26.0\\\", \\\"azureml-accel-models\\\": \\\"1.26.0\\\"}\", \"_aml_system_scenario_identification\": \"Remote.Parent\", \"ClientType\": \"SDK\", \"environment_cpu_name\": \"AzureML-AutoML\", \"environment_cpu_label\": \"prod\", \"environment_gpu_name\": \"AzureML-AutoML-GPU\", \"environment_gpu_label\": \"prod\", \"root_attribution\": \"automl\", \"attribution\": \"AutoML\", \"Orchestrator\": \"AutoML\", \"CancelUri\": \"https://westeurope.api.azureml.ms/jasmine/v1.0/subscriptions/939d1c66-7864-4f15-8560-5c793c4110c8/resourceGroups/udacity-rg/providers/Microsoft.MachineLearningServices/workspaces/udacity-ws/experimentids/1f5b7a63-1008-44d9-b566-47b9f03b57db/cancel/AutoML_b88cfcdf-7f5e-447d-8a2f-0f268afeff64\", \"ClientSdkVersion\": \"1.26.0\", \"snapshotId\": \"00000000-0000-0000-0000-000000000000\", \"SetupRunId\": \"AutoML_b88cfcdf-7f5e-447d-8a2f-0f268afeff64_setup\", \"SetupRunContainerId\": \"dcid.AutoML_b88cfcdf-7f5e-447d-8a2f-0f268afeff64_setup\", \"FeaturizationRunJsonPath\": \"featurizer_container.json\", \"FeaturizationRunId\": \"AutoML_b88cfcdf-7f5e-447d-8a2f-0f268afeff64_featurize\", \"ProblemInfoJsonString\": \"{\\\"dataset_num_categorical\\\": 0, \\\"is_sparse\\\": true, \\\"subsampling\\\": false, \\\"dataset_classes\\\": 4424, \\\"dataset_features\\\": 103, \\\"dataset_samples\\\": 13119, \\\"single_frequency_class_detected\\\": false}\", \"ModelExplainRunId\": \"AutoML_b88cfcdf-7f5e-447d-8a2f-0f268afeff64_ModelExplain\"}, \"tags\": {\"model_explain_run\": \"best_run\", \"_aml_system_azureml.automlComponent\": \"AutoML\", \"pipeline_id\": \"\", \"score\": \"\", \"predicted_cost\": \"\", \"fit_time\": \"\", \"training_percent\": \"\", \"iteration\": \"\", \"run_preprocessor\": \"\", \"run_algorithm\": \"\", \"dynamic_whitelisting_iterations\": \"<25>;<30>;<35>;\", \"automl_best_child_run_id\": \"AutoML_b88cfcdf-7f5e-447d-8a2f-0f268afeff64_0\", \"model_explain_best_run_child_id\": \"AutoML_b88cfcdf-7f5e-447d-8a2f-0f268afeff64_0\"}, \"end_time_utc\": \"2021-04-20T12:17:49.838759Z\", \"status\": \"Completed\", \"log_files\": {}, \"log_groups\": [], \"run_duration\": \"0:17:59\", \"run_number\": \"1\", \"run_queued_details\": {\"status\": \"Completed\", \"details\": null}}, \"child_runs\": [{\"run_id\": \"AutoML_b88cfcdf-7f5e-447d-8a2f-0f268afeff64_0\", \"run_number\": 5, \"metric\": null, \"status\": \"Completed\", \"run_type\": \"azureml.scriptrun\", \"training_percent\": \"100\", \"start_time\": \"2021-04-20T12:06:37.77464Z\", \"end_time\": \"2021-04-20T12:09:06.086772Z\", \"created_time\": \"2021-04-20T12:03:49.276344Z\", \"created_time_dt\": \"2021-04-20T12:03:49.276344Z\", \"duration\": \"0:05:16\", \"iteration\": \"0\", \"goal\": \"normalized_mean_absolute_error_min\", \"run_name\": \"MaxAbsScaler, LightGBM\", \"run_properties\": \"copy=True\", \"primary_metric\": 0.01130444, \"best_metric\": 0.01130444}, {\"run_id\": \"AutoML_b88cfcdf-7f5e-447d-8a2f-0f268afeff64_3\", \"run_number\": 6, \"metric\": null, \"status\": \"Completed\", \"run_type\": \"azureml.scriptrun\", \"training_percent\": \"100\", \"start_time\": \"2021-04-20T12:06:37.832322Z\", \"end_time\": \"2021-04-20T12:09:19.705148Z\", \"created_time\": \"2021-04-20T12:03:49.364542Z\", \"created_time_dt\": \"2021-04-20T12:03:49.364542Z\", \"duration\": \"0:05:30\", \"iteration\": \"3\", \"goal\": \"normalized_mean_absolute_error_min\", \"run_name\": \"MaxAbsScaler, DecisionTree\", \"run_properties\": \"copy=True\", \"primary_metric\": 0.02125583, \"best_metric\": 0.01130444}, {\"run_id\": \"AutoML_b88cfcdf-7f5e-447d-8a2f-0f268afeff64_1\", \"run_number\": 7, \"metric\": null, \"status\": \"Completed\", \"run_type\": \"azureml.scriptrun\", \"training_percent\": \"100\", \"start_time\": \"2021-04-20T12:03:59.923048Z\", \"end_time\": \"2021-04-20T12:04:45.100926Z\", \"created_time\": \"2021-04-20T12:03:49.372454Z\", \"created_time_dt\": \"2021-04-20T12:03:49.372454Z\", \"duration\": \"0:00:55\", \"iteration\": \"1\", \"goal\": \"normalized_mean_absolute_error_min\", \"run_name\": \"MaxAbsScaler, XGBoostRegressor\", \"run_properties\": \"copy=True\", \"primary_metric\": 0.01508544, \"best_metric\": 0.01130444}, {\"run_id\": \"AutoML_b88cfcdf-7f5e-447d-8a2f-0f268afeff64_2\", \"run_number\": 8, \"metric\": null, \"status\": \"Completed\", \"run_type\": \"azureml.scriptrun\", \"training_percent\": \"100\", \"start_time\": \"2021-04-20T12:05:54.717931Z\", \"end_time\": \"2021-04-20T12:06:47.007014Z\", \"created_time\": \"2021-04-20T12:03:49.386869Z\", \"created_time_dt\": \"2021-04-20T12:03:49.386869Z\", \"duration\": \"0:02:57\", \"iteration\": \"2\", \"goal\": \"normalized_mean_absolute_error_min\", \"run_name\": \"StandardScalerWrapper, DecisionTree\", \"run_properties\": \"<azureml.automl.runtime.shared.model_wrappers.StandardScalerWrapper object at 0x7f2a31bf7dd8\", \"primary_metric\": 0.02516145, \"best_metric\": 0.01130444}, {\"run_id\": \"AutoML_b88cfcdf-7f5e-447d-8a2f-0f268afeff64_4\", \"run_number\": 9, \"metric\": null, \"status\": \"Completed\", \"run_type\": \"azureml.scriptrun\", \"training_percent\": \"100\", \"start_time\": \"2021-04-20T12:04:58.373792Z\", \"end_time\": \"2021-04-20T12:05:39.136121Z\", \"created_time\": \"2021-04-20T12:03:49.387951Z\", \"created_time_dt\": \"2021-04-20T12:03:49.387951Z\", \"duration\": \"0:01:49\", \"iteration\": \"4\", \"goal\": \"normalized_mean_absolute_error_min\", \"run_name\": \"MaxAbsScaler, DecisionTree\", \"run_properties\": \"copy=True\", \"primary_metric\": 0.02108738, \"best_metric\": 0.01130444}, {\"run_id\": \"AutoML_b88cfcdf-7f5e-447d-8a2f-0f268afeff64_5\", \"run_number\": 10, \"metric\": null, \"status\": \"Completed\", \"run_type\": \"azureml.scriptrun\", \"training_percent\": \"100\", \"start_time\": \"2021-04-20T12:06:37.758056Z\", \"end_time\": \"2021-04-20T12:08:32.307567Z\", \"created_time\": \"2021-04-20T12:04:46.649453Z\", \"created_time_dt\": \"2021-04-20T12:04:46.649453Z\", \"duration\": \"0:03:45\", \"iteration\": \"5\", \"goal\": \"normalized_mean_absolute_error_min\", \"run_name\": \"MaxAbsScaler, DecisionTree\", \"run_properties\": \"copy=True\", \"primary_metric\": 0.01886171, \"best_metric\": 0.01130444}, {\"run_id\": \"AutoML_b88cfcdf-7f5e-447d-8a2f-0f268afeff64_6\", \"run_number\": 11, \"metric\": null, \"status\": \"Completed\", \"run_type\": \"azureml.scriptrun\", \"training_percent\": \"100\", \"start_time\": \"2021-04-20T12:07:00.702783Z\", \"end_time\": \"2021-04-20T12:09:48.231123Z\", \"created_time\": \"2021-04-20T12:05:42.112006Z\", \"created_time_dt\": \"2021-04-20T12:05:42.112006Z\", \"duration\": \"0:04:06\", \"iteration\": \"6\", \"goal\": \"normalized_mean_absolute_error_min\", \"run_name\": \"MaxAbsScaler, DecisionTree\", \"run_properties\": \"copy=True\", \"primary_metric\": 0.02131402, \"best_metric\": 0.01130444}, {\"run_id\": \"AutoML_b88cfcdf-7f5e-447d-8a2f-0f268afeff64_7\", \"run_number\": 12, \"metric\": null, \"status\": \"Completed\", \"run_type\": \"azureml.scriptrun\", \"training_percent\": \"100\", \"start_time\": \"2021-04-20T12:08:01.55154Z\", \"end_time\": \"2021-04-20T12:08:42.403763Z\", \"created_time\": \"2021-04-20T12:06:50.838105Z\", \"created_time_dt\": \"2021-04-20T12:06:50.838105Z\", \"duration\": \"0:01:51\", \"iteration\": \"7\", \"goal\": \"normalized_mean_absolute_error_min\", \"run_name\": \"MaxAbsScaler, DecisionTree\", \"run_properties\": \"copy=True\", \"primary_metric\": 0.02516685, \"best_metric\": 0.01130444}, {\"run_id\": \"AutoML_b88cfcdf-7f5e-447d-8a2f-0f268afeff64_8\", \"run_number\": 13, \"metric\": null, \"status\": \"Completed\", \"run_type\": \"azureml.scriptrun\", \"training_percent\": \"100\", \"start_time\": \"2021-04-20T12:08:44.546293Z\", \"end_time\": \"2021-04-20T12:09:28.997829Z\", \"created_time\": \"2021-04-20T12:08:36.251162Z\", \"created_time_dt\": \"2021-04-20T12:08:36.251162Z\", \"duration\": \"0:00:52\", \"iteration\": \"8\", \"goal\": \"normalized_mean_absolute_error_min\", \"run_name\": \"MaxAbsScaler, DecisionTree\", \"run_properties\": \"copy=True\", \"primary_metric\": 0.01893983, \"best_metric\": 0.01130444}, {\"run_id\": \"AutoML_b88cfcdf-7f5e-447d-8a2f-0f268afeff64_9\", \"run_number\": 14, \"metric\": null, \"status\": \"Completed\", \"run_type\": \"azureml.scriptrun\", \"training_percent\": \"100\", \"start_time\": \"2021-04-20T12:08:58.419977Z\", \"end_time\": \"2021-04-20T12:09:42.056586Z\", \"created_time\": \"2021-04-20T12:08:45.975673Z\", \"created_time_dt\": \"2021-04-20T12:08:45.975673Z\", \"duration\": \"0:00:56\", \"iteration\": \"9\", \"goal\": \"normalized_mean_absolute_error_min\", \"run_name\": \"MaxAbsScaler, DecisionTree\", \"run_properties\": \"copy=True\", \"primary_metric\": 0.02702896, \"best_metric\": 0.01130444}, {\"run_id\": \"AutoML_b88cfcdf-7f5e-447d-8a2f-0f268afeff64_10\", \"run_number\": 15, \"metric\": null, \"status\": \"Completed\", \"run_type\": \"azureml.scriptrun\", \"training_percent\": \"100\", \"start_time\": \"2021-04-20T12:09:21.895694Z\", \"end_time\": \"2021-04-20T12:09:59.454714Z\", \"created_time\": \"2021-04-20T12:09:09.567141Z\", \"created_time_dt\": \"2021-04-20T12:09:09.567141Z\", \"duration\": \"0:00:49\", \"iteration\": \"10\", \"goal\": \"normalized_mean_absolute_error_min\", \"run_name\": \"MaxAbsScaler, SGD\", \"run_properties\": \"copy=True\", \"primary_metric\": 0.02083353, \"best_metric\": 0.01130444}, {\"run_id\": \"AutoML_b88cfcdf-7f5e-447d-8a2f-0f268afeff64_11\", \"run_number\": 16, \"metric\": null, \"status\": \"Completed\", \"run_type\": \"azureml.scriptrun\", \"training_percent\": \"100\", \"start_time\": \"2021-04-20T12:09:32.879668Z\", \"end_time\": \"2021-04-20T12:10:21.387018Z\", \"created_time\": \"2021-04-20T12:09:23.646265Z\", \"created_time_dt\": \"2021-04-20T12:09:23.646265Z\", \"duration\": \"0:00:57\", \"iteration\": \"11\", \"goal\": \"normalized_mean_absolute_error_min\", \"run_name\": \"MaxAbsScaler, DecisionTree\", \"run_properties\": \"copy=True\", \"primary_metric\": 0.02218064, \"best_metric\": 0.01130444}, {\"run_id\": \"AutoML_b88cfcdf-7f5e-447d-8a2f-0f268afeff64_12\", \"run_number\": 17, \"metric\": null, \"status\": \"Completed\", \"run_type\": \"azureml.scriptrun\", \"training_percent\": \"100\", \"start_time\": \"2021-04-20T12:09:45.065825Z\", \"end_time\": \"2021-04-20T12:10:31.120082Z\", \"created_time\": \"2021-04-20T12:09:32.850154Z\", \"created_time_dt\": \"2021-04-20T12:09:32.850154Z\", \"duration\": \"0:00:58\", \"iteration\": \"12\", \"goal\": \"normalized_mean_absolute_error_min\", \"run_name\": \"MaxAbsScaler, DecisionTree\", \"run_properties\": \"copy=True\", \"primary_metric\": 0.01713316, \"best_metric\": 0.01130444}, {\"run_id\": \"AutoML_b88cfcdf-7f5e-447d-8a2f-0f268afeff64_13\", \"run_number\": 18, \"metric\": null, \"status\": \"Completed\", \"run_type\": \"azureml.scriptrun\", \"training_percent\": \"100\", \"start_time\": \"2021-04-20T12:09:56.089799Z\", \"end_time\": \"2021-04-20T12:10:52.758266Z\", \"created_time\": \"2021-04-20T12:09:46.463494Z\", \"created_time_dt\": \"2021-04-20T12:09:46.463494Z\", \"duration\": \"0:01:06\", \"iteration\": \"13\", \"goal\": \"normalized_mean_absolute_error_min\", \"run_name\": \"MaxAbsScaler, ElasticNet\", \"run_properties\": \"copy=True\", \"primary_metric\": 0.02060491, \"best_metric\": 0.01130444}, {\"run_id\": \"AutoML_b88cfcdf-7f5e-447d-8a2f-0f268afeff64_14\", \"run_number\": 19, \"metric\": null, \"status\": \"Completed\", \"run_type\": \"azureml.scriptrun\", \"training_percent\": \"100\", \"start_time\": \"2021-04-20T12:10:15.637816Z\", \"end_time\": \"2021-04-20T12:10:58.679229Z\", \"created_time\": \"2021-04-20T12:09:52.526408Z\", \"created_time_dt\": \"2021-04-20T12:09:52.526408Z\", \"duration\": \"0:01:06\", \"iteration\": \"14\", \"goal\": \"normalized_mean_absolute_error_min\", \"run_name\": \"MaxAbsScaler, DecisionTree\", \"run_properties\": \"copy=True\", \"primary_metric\": 0.02444433, \"best_metric\": 0.01130444}, {\"run_id\": \"AutoML_b88cfcdf-7f5e-447d-8a2f-0f268afeff64_15\", \"run_number\": 20, \"metric\": null, \"status\": \"Completed\", \"run_type\": \"azureml.scriptrun\", \"training_percent\": \"100\", \"start_time\": \"2021-04-20T12:10:36.164993Z\", \"end_time\": \"2021-04-20T12:11:28.637744Z\", \"created_time\": \"2021-04-20T12:10:03.877609Z\", \"created_time_dt\": \"2021-04-20T12:10:03.877609Z\", \"duration\": \"0:01:24\", \"iteration\": \"15\", \"goal\": \"normalized_mean_absolute_error_min\", \"run_name\": \"MaxAbsScaler, DecisionTree\", \"run_properties\": \"copy=True\", \"primary_metric\": 0.02514197, \"best_metric\": 0.01130444}, {\"run_id\": \"AutoML_b88cfcdf-7f5e-447d-8a2f-0f268afeff64_16\", \"run_number\": 21, \"metric\": null, \"status\": \"Completed\", \"run_type\": \"azureml.scriptrun\", \"training_percent\": \"100\", \"start_time\": \"2021-04-20T12:10:43.016833Z\", \"end_time\": \"2021-04-20T12:11:24.441385Z\", \"created_time\": \"2021-04-20T12:10:25.225221Z\", \"created_time_dt\": \"2021-04-20T12:10:25.225221Z\", \"duration\": \"0:00:59\", \"iteration\": \"16\", \"goal\": \"normalized_mean_absolute_error_min\", \"run_name\": \"MaxAbsScaler, DecisionTree\", \"run_properties\": \"copy=True\", \"primary_metric\": 0.0214043, \"best_metric\": 0.01130444}, {\"run_id\": \"AutoML_b88cfcdf-7f5e-447d-8a2f-0f268afeff64_17\", \"run_number\": 22, \"metric\": null, \"status\": \"Completed\", \"run_type\": \"azureml.scriptrun\", \"training_percent\": \"100\", \"start_time\": \"2021-04-20T12:11:05.559045Z\", \"end_time\": \"2021-04-20T12:11:47.712258Z\", \"created_time\": \"2021-04-20T12:10:35.444512Z\", \"created_time_dt\": \"2021-04-20T12:10:35.444512Z\", \"duration\": \"0:01:12\", \"iteration\": \"17\", \"goal\": \"normalized_mean_absolute_error_min\", \"run_name\": \"MaxAbsScaler, DecisionTree\", \"run_properties\": \"copy=True\", \"primary_metric\": 0.02473662, \"best_metric\": 0.01130444}, {\"run_id\": \"AutoML_b88cfcdf-7f5e-447d-8a2f-0f268afeff64_18\", \"run_number\": 23, \"metric\": null, \"status\": \"Completed\", \"run_type\": \"azureml.scriptrun\", \"training_percent\": \"100\", \"start_time\": \"2021-04-20T12:11:13.269076Z\", \"end_time\": \"2021-04-20T12:12:01.024443Z\", \"created_time\": \"2021-04-20T12:10:56.352652Z\", \"created_time_dt\": \"2021-04-20T12:10:56.352652Z\", \"duration\": \"0:01:04\", \"iteration\": \"18\", \"goal\": \"normalized_mean_absolute_error_min\", \"run_name\": \"MaxAbsScaler, DecisionTree\", \"run_properties\": \"copy=True\", \"primary_metric\": 0.0189217, \"best_metric\": 0.01130444}, {\"run_id\": \"AutoML_b88cfcdf-7f5e-447d-8a2f-0f268afeff64_19\", \"run_number\": 24, \"metric\": null, \"status\": \"Completed\", \"run_type\": \"azureml.scriptrun\", \"training_percent\": \"100\", \"start_time\": \"2021-04-20T12:11:43.988576Z\", \"end_time\": \"2021-04-20T12:12:29.425472Z\", \"created_time\": \"2021-04-20T12:11:02.379049Z\", \"created_time_dt\": \"2021-04-20T12:11:02.379049Z\", \"duration\": \"0:01:27\", \"iteration\": \"19\", \"goal\": \"normalized_mean_absolute_error_min\", \"run_name\": \"MaxAbsScaler, DecisionTree\", \"run_properties\": \"copy=True\", \"primary_metric\": 0.02343275, \"best_metric\": 0.01130444}, {\"run_id\": \"AutoML_b88cfcdf-7f5e-447d-8a2f-0f268afeff64_20\", \"run_number\": 25, \"metric\": null, \"status\": \"Completed\", \"run_type\": \"azureml.scriptrun\", \"training_percent\": \"100\", \"start_time\": \"2021-04-20T12:11:41.343958Z\", \"end_time\": \"2021-04-20T12:12:31.283075Z\", \"created_time\": \"2021-04-20T12:11:28.102227Z\", \"created_time_dt\": \"2021-04-20T12:11:28.102227Z\", \"duration\": \"0:01:03\", \"iteration\": \"20\", \"goal\": \"normalized_mean_absolute_error_min\", \"run_name\": \"MaxAbsScaler, DecisionTree\", \"run_properties\": \"copy=True\", \"primary_metric\": 0.0187271, \"best_metric\": 0.01130444}, {\"run_id\": \"AutoML_b88cfcdf-7f5e-447d-8a2f-0f268afeff64_21\", \"run_number\": 26, \"metric\": null, \"status\": \"Completed\", \"run_type\": \"azureml.scriptrun\", \"training_percent\": \"100\", \"start_time\": \"2021-04-20T12:12:04.758611Z\", \"end_time\": \"2021-04-20T12:12:50.856395Z\", \"created_time\": \"2021-04-20T12:11:33.36674Z\", \"created_time_dt\": \"2021-04-20T12:11:33.36674Z\", \"duration\": \"0:01:17\", \"iteration\": \"21\", \"goal\": \"normalized_mean_absolute_error_min\", \"run_name\": \"MaxAbsScaler, DecisionTree\", \"run_properties\": \"copy=True\", \"primary_metric\": 0.02389162, \"best_metric\": 0.01130444}, {\"run_id\": \"AutoML_b88cfcdf-7f5e-447d-8a2f-0f268afeff64_22\", \"run_number\": 27, \"metric\": null, \"status\": \"Completed\", \"run_type\": \"azureml.scriptrun\", \"training_percent\": \"100\", \"start_time\": \"2021-04-20T12:12:13.120715Z\", \"end_time\": \"2021-04-20T12:13:02.463541Z\", \"created_time\": \"2021-04-20T12:11:51.798845Z\", \"created_time_dt\": \"2021-04-20T12:11:51.798845Z\", \"duration\": \"0:01:10\", \"iteration\": \"22\", \"goal\": \"normalized_mean_absolute_error_min\", \"run_name\": \"MaxAbsScaler, DecisionTree\", \"run_properties\": \"copy=True\", \"primary_metric\": 0.01760147, \"best_metric\": 0.01130444}, {\"run_id\": \"AutoML_b88cfcdf-7f5e-447d-8a2f-0f268afeff64_23\", \"run_number\": 28, \"metric\": null, \"status\": \"Completed\", \"run_type\": \"azureml.scriptrun\", \"training_percent\": \"100\", \"start_time\": \"2021-04-20T12:12:44.333297Z\", \"end_time\": \"2021-04-20T12:13:25.712932Z\", \"created_time\": \"2021-04-20T12:12:04.703718Z\", \"created_time_dt\": \"2021-04-20T12:12:04.703718Z\", \"duration\": \"0:01:21\", \"iteration\": \"23\", \"goal\": \"normalized_mean_absolute_error_min\", \"run_name\": \"MaxAbsScaler, DecisionTree\", \"run_properties\": \"copy=True\", \"primary_metric\": 0.02723196, \"best_metric\": 0.01130444}, {\"run_id\": \"AutoML_b88cfcdf-7f5e-447d-8a2f-0f268afeff64_24\", \"run_number\": 29, \"metric\": null, \"status\": \"Completed\", \"run_type\": \"azureml.scriptrun\", \"training_percent\": \"100\", \"start_time\": \"2021-04-20T12:12:45.647916Z\", \"end_time\": \"2021-04-20T12:13:47.008859Z\", \"created_time\": \"2021-04-20T12:12:32.911533Z\", \"created_time_dt\": \"2021-04-20T12:12:32.911533Z\", \"duration\": \"0:01:14\", \"iteration\": \"24\", \"goal\": \"normalized_mean_absolute_error_min\", \"run_name\": \"MaxAbsScaler, RandomForest\", \"run_properties\": \"copy=True\", \"primary_metric\": 0.01983875, \"best_metric\": 0.01130444}, {\"run_id\": \"AutoML_b88cfcdf-7f5e-447d-8a2f-0f268afeff64_25\", \"run_number\": 30, \"metric\": null, \"status\": \"Completed\", \"run_type\": \"azureml.scriptrun\", \"training_percent\": \"100\", \"start_time\": \"2021-04-20T12:13:04.934767Z\", \"end_time\": \"2021-04-20T12:13:52.584524Z\", \"created_time\": \"2021-04-20T12:12:38.698975Z\", \"created_time_dt\": \"2021-04-20T12:12:38.698975Z\", \"duration\": \"0:01:13\", \"iteration\": \"25\", \"goal\": \"normalized_mean_absolute_error_min\", \"run_name\": \"MaxAbsScaler, LightGBM\", \"run_properties\": \"copy=True\", \"primary_metric\": 0.02105172, \"best_metric\": 0.01130444}, {\"run_id\": \"AutoML_b88cfcdf-7f5e-447d-8a2f-0f268afeff64_26\", \"run_number\": 31, \"metric\": null, \"status\": \"Completed\", \"run_type\": \"azureml.scriptrun\", \"training_percent\": \"100\", \"start_time\": \"2021-04-20T12:13:16.639141Z\", \"end_time\": \"2021-04-20T12:14:03.173724Z\", \"created_time\": \"2021-04-20T12:12:53.084744Z\", \"created_time_dt\": \"2021-04-20T12:12:53.084744Z\", \"duration\": \"0:01:10\", \"iteration\": \"26\", \"goal\": \"normalized_mean_absolute_error_min\", \"run_name\": \"MaxAbsScaler, DecisionTree\", \"run_properties\": \"copy=True\", \"primary_metric\": 0.01567661, \"best_metric\": 0.01130444}, {\"run_id\": \"AutoML_b88cfcdf-7f5e-447d-8a2f-0f268afeff64_27\", \"run_number\": 32, \"metric\": null, \"status\": \"Completed\", \"run_type\": \"azureml.scriptrun\", \"training_percent\": \"100\", \"start_time\": \"2021-04-20T12:13:41.827479Z\", \"end_time\": \"2021-04-20T12:14:28.885308Z\", \"created_time\": \"2021-04-20T12:13:05.002064Z\", \"created_time_dt\": \"2021-04-20T12:13:05.002064Z\", \"duration\": \"0:01:23\", \"iteration\": \"27\", \"goal\": \"normalized_mean_absolute_error_min\", \"run_name\": \"MaxAbsScaler, RandomForest\", \"run_properties\": \"copy=True\", \"primary_metric\": 0.02209139, \"best_metric\": 0.01130444}, {\"run_id\": \"AutoML_b88cfcdf-7f5e-447d-8a2f-0f268afeff64_28\", \"run_number\": 33, \"metric\": null, \"status\": \"Completed\", \"run_type\": \"azureml.scriptrun\", \"training_percent\": \"100\", \"start_time\": \"2021-04-20T12:14:00.807521Z\", \"end_time\": \"2021-04-20T12:14:46.849802Z\", \"created_time\": \"2021-04-20T12:13:27.876345Z\", \"created_time_dt\": \"2021-04-20T12:13:27.876345Z\", \"duration\": \"0:01:18\", \"iteration\": \"28\", \"goal\": \"normalized_mean_absolute_error_min\", \"run_name\": \"MaxAbsScaler, ExtremeRandomTrees\", \"run_properties\": \"copy=True\", \"primary_metric\": 0.01772396, \"best_metric\": 0.01130444}, {\"run_id\": \"AutoML_b88cfcdf-7f5e-447d-8a2f-0f268afeff64_29\", \"run_number\": 34, \"metric\": null, \"status\": \"Completed\", \"run_type\": \"azureml.scriptrun\", \"training_percent\": \"100\", \"start_time\": \"2021-04-20T12:14:07.413427Z\", \"end_time\": \"2021-04-20T12:15:08.209827Z\", \"created_time\": \"2021-04-20T12:13:49.322709Z\", \"created_time_dt\": \"2021-04-20T12:13:49.322709Z\", \"duration\": \"0:01:18\", \"iteration\": \"29\", \"goal\": \"normalized_mean_absolute_error_min\", \"run_name\": \"MaxAbsScaler, RandomForest\", \"run_properties\": \"copy=True\", \"primary_metric\": 0.01782478, \"best_metric\": 0.01130444}, {\"run_id\": \"AutoML_b88cfcdf-7f5e-447d-8a2f-0f268afeff64_30\", \"run_number\": 35, \"metric\": null, \"status\": \"Completed\", \"run_type\": \"azureml.scriptrun\", \"training_percent\": \"100\", \"start_time\": \"2021-04-20T12:14:18.393901Z\", \"end_time\": \"2021-04-20T12:15:04.631916Z\", \"created_time\": \"2021-04-20T12:13:55.918199Z\", \"created_time_dt\": \"2021-04-20T12:13:55.918199Z\", \"duration\": \"0:01:08\", \"iteration\": \"30\", \"goal\": \"normalized_mean_absolute_error_min\", \"run_name\": \"MaxAbsScaler, LightGBM\", \"run_properties\": \"copy=True\", \"primary_metric\": 0.02327456, \"best_metric\": 0.01130444}, {\"run_id\": \"AutoML_b88cfcdf-7f5e-447d-8a2f-0f268afeff64_31\", \"run_number\": 36, \"metric\": null, \"status\": \"Completed\", \"run_type\": \"azureml.scriptrun\", \"training_percent\": \"100\", \"start_time\": \"2021-04-20T12:14:45.796307Z\", \"end_time\": \"2021-04-20T12:15:33.825021Z\", \"created_time\": \"2021-04-20T12:14:05.551985Z\", \"created_time_dt\": \"2021-04-20T12:14:05.551985Z\", \"duration\": \"0:01:28\", \"iteration\": \"31\", \"goal\": \"normalized_mean_absolute_error_min\", \"run_name\": \"MaxAbsScaler, RandomForest\", \"run_properties\": \"copy=True\", \"primary_metric\": 0.02283869, \"best_metric\": 0.01130444}, {\"run_id\": \"AutoML_b88cfcdf-7f5e-447d-8a2f-0f268afeff64_32\", \"run_number\": 37, \"metric\": null, \"status\": \"Completed\", \"run_type\": \"azureml.scriptrun\", \"training_percent\": \"100\", \"start_time\": \"2021-04-20T12:15:04.62433Z\", \"end_time\": \"2021-04-20T12:15:57.860603Z\", \"created_time\": \"2021-04-20T12:14:31.147612Z\", \"created_time_dt\": \"2021-04-20T12:14:31.147612Z\", \"duration\": \"0:01:26\", \"iteration\": \"32\", \"goal\": \"normalized_mean_absolute_error_min\", \"run_name\": \"MaxAbsScaler, RandomForest\", \"run_properties\": \"copy=True\", \"primary_metric\": 0.03042636, \"best_metric\": 0.01130444}, {\"run_id\": \"AutoML_b88cfcdf-7f5e-447d-8a2f-0f268afeff64_33\", \"run_number\": 38, \"metric\": null, \"status\": \"Completed\", \"run_type\": \"azureml.scriptrun\", \"training_percent\": \"100\", \"start_time\": \"2021-04-20T12:15:19.196561Z\", \"end_time\": \"2021-04-20T12:16:17.878213Z\", \"created_time\": \"2021-04-20T12:14:49.389889Z\", \"created_time_dt\": \"2021-04-20T12:14:49.389889Z\", \"duration\": \"0:01:28\", \"iteration\": \"33\", \"goal\": \"normalized_mean_absolute_error_min\", \"run_name\": \"MaxAbsScaler, ExtremeRandomTrees\", \"run_properties\": \"copy=True\", \"primary_metric\": 0.02374793, \"best_metric\": 0.01130444}, {\"run_id\": \"AutoML_b88cfcdf-7f5e-447d-8a2f-0f268afeff64_34\", \"run_number\": 39, \"metric\": null, \"status\": \"Completed\", \"run_type\": \"azureml.scriptrun\", \"training_percent\": \"100\", \"start_time\": \"2021-04-20T12:15:25.605186Z\", \"end_time\": \"2021-04-20T12:16:16.672418Z\", \"created_time\": \"2021-04-20T12:15:06.989576Z\", \"created_time_dt\": \"2021-04-20T12:15:06.989576Z\", \"duration\": \"0:01:09\", \"iteration\": \"34\", \"goal\": \"normalized_mean_absolute_error_min\", \"run_name\": \"MaxAbsScaler, RandomForest\", \"run_properties\": \"copy=True\", \"primary_metric\": 0.0256583, \"best_metric\": 0.01130444}, {\"run_id\": \"AutoML_b88cfcdf-7f5e-447d-8a2f-0f268afeff64_35\", \"run_number\": 40, \"metric\": null, \"status\": \"Canceled\", \"run_type\": \"azureml.scriptrun\", \"training_percent\": \"100\", \"start_time\": \"2021-04-20T12:15:49.036665Z\", \"end_time\": \"2021-04-20T12:16:23.164204Z\", \"created_time\": \"2021-04-20T12:15:12.842105Z\", \"created_time_dt\": \"2021-04-20T12:15:12.842105Z\", \"duration\": \"0:01:10\", \"iteration\": \"35\", \"goal\": \"normalized_mean_absolute_error_min\", \"run_name\": \"MaxAbsScaler, LightGBM\", \"run_properties\": \"copy=True\", \"primary_metric\": 0.02428158, \"best_metric\": 0.01130444}, {\"run_id\": \"AutoML_b88cfcdf-7f5e-447d-8a2f-0f268afeff64_36\", \"run_number\": 41, \"metric\": null, \"status\": \"Canceled\", \"run_type\": \"azureml.scriptrun\", \"training_percent\": \"100\", \"start_time\": \"2021-04-20T12:16:16.037095Z\", \"end_time\": \"2021-04-20T12:16:23.104552Z\", \"created_time\": \"2021-04-20T12:15:36.164882Z\", \"created_time_dt\": \"2021-04-20T12:15:36.164882Z\", \"duration\": \"0:00:46\", \"iteration\": \"36\", \"goal\": null, \"run_name\": \"Canceled\", \"run_properties\": null}, {\"run_id\": \"AutoML_b88cfcdf-7f5e-447d-8a2f-0f268afeff64_37\", \"run_number\": 42, \"metric\": null, \"status\": \"Canceled\", \"run_type\": \"azureml.scriptrun\", \"training_percent\": \"100\", \"start_time\": \"2021-04-20T12:16:01.04411Z\", \"end_time\": \"2021-04-20T12:16:23.181299Z\", \"created_time\": \"2021-04-20T12:16:01.04411Z\", \"created_time_dt\": \"2021-04-20T12:16:01.04411Z\", \"duration\": \"0:00:22\", \"iteration\": \"37\", \"goal\": null, \"run_name\": \"Canceled\", \"run_properties\": null}, {\"run_id\": \"AutoML_b88cfcdf-7f5e-447d-8a2f-0f268afeff64_38\", \"run_number\": 43, \"metric\": null, \"status\": \"Completed\", \"run_type\": \"azureml.scriptrun\", \"training_percent\": \"100\", \"start_time\": \"2021-04-20T12:16:33.597242Z\", \"end_time\": \"2021-04-20T12:17:46.511433Z\", \"created_time\": \"2021-04-20T12:16:24.596137Z\", \"created_time_dt\": \"2021-04-20T12:16:24.596137Z\", \"duration\": \"0:01:21\", \"iteration\": \"38\", \"goal\": \"normalized_mean_absolute_error_min\", \"run_name\": \"VotingEnsemble\", \"run_properties\": \"estimators=[('0',\\n                                          Pipeline(memory=None,\\n                                                   steps=[('maxabsscaler',\\n                                                           MaxAbsScaler(copy=True\", \"primary_metric\": 0.01130444, \"best_metric\": 0.01130444}, {\"run_id\": \"AutoML_b88cfcdf-7f5e-447d-8a2f-0f268afeff64_39\", \"run_number\": 44, \"metric\": null, \"status\": \"Completed\", \"run_type\": \"azureml.scriptrun\", \"training_percent\": \"100\", \"start_time\": \"2021-04-20T12:16:33.862852Z\", \"end_time\": \"2021-04-20T12:17:45.851261Z\", \"created_time\": \"2021-04-20T12:16:24.718304Z\", \"created_time_dt\": \"2021-04-20T12:16:24.718304Z\", \"duration\": \"0:01:21\", \"iteration\": \"39\", \"goal\": \"normalized_mean_absolute_error_min\", \"run_name\": \"StackEnsemble\", \"run_properties\": \"base_learners=[('0',\\n                                       Pipeline(memory=None,\\n                                                steps=[('maxabsscaler',\\n                                                        MaxAbsScaler(copy=True\", \"primary_metric\": 0.01133684, \"best_metric\": 0.01130444}], \"children_metrics\": {\"categories\": [0], \"series\": {\"normalized_root_mean_squared_log_error\": [{\"categories\": [\"0\", \"1\", \"2\", \"3\", \"4\", \"5\", \"6\", \"7\", \"8\", \"9\", \"10\", \"11\", \"12\", \"13\", \"14\", \"15\", \"16\", \"17\", \"18\", \"19\", \"20\", \"21\", \"22\", \"23\", \"24\", \"25\", \"26\", \"27\", \"28\", \"29\", \"30\", \"31\", \"32\", \"33\", \"34\", \"35\", \"38\", \"39\"], \"mode\": \"markers\", \"name\": \"normalized_root_mean_squared_log_error\", \"stepped\": false, \"type\": \"scatter\", \"data\": [0.0256368636386055, 0.0284169247564753, 0.04430437353206482, 0.038438213995423944, 0.03828494219859243, 0.035254626761239354, 0.03898701090785207, 0.0439786490746271, 0.03583198105431559, 0.047878830060293455, NaN, 0.040458124910832456, 0.032866568268739675, NaN, 0.04399635698593524, 0.04464883716120754, 0.03876503382820283, 0.04350745671572912, 0.03617534041003753, 0.04153472323810805, 0.03576859239789569, 0.0425592409440845, 0.03344916061521628, 0.04741157389005749, 0.040919330985430095, 0.042598738479427974, 0.029823727465328242, 0.0432161676668546, 0.03342776909894468, 0.036410508230364104, 0.043775617726425985, 0.043266994309318824, 0.05326409634326181, 0.042625592430734084, 0.04923473848628398, 0.045879903765108164, 0.0256368636386055, 0.024151762325812988]}, {\"categories\": [\"0\", \"1\", \"2\", \"3\", \"4\", \"5\", \"6\", \"7\", \"8\", \"9\", \"10\", \"11\", \"12\", \"13\", \"14\", \"15\", \"16\", \"17\", \"18\", \"19\", \"20\", \"21\", \"22\", \"23\", \"24\", \"25\", \"26\", \"27\", \"28\", \"29\", \"30\", \"31\", \"32\", \"33\", \"34\", \"35\", \"38\", \"39\"], \"mode\": \"lines\", \"name\": \"normalized_root_mean_squared_log_error_min\", \"stepped\": true, \"type\": \"scatter\", \"data\": [0.0256368636386055, 0.0256368636386055, 0.0256368636386055, 0.0256368636386055, 0.0256368636386055, 0.0256368636386055, 0.0256368636386055, 0.0256368636386055, 0.0256368636386055, 0.0256368636386055, 0.0256368636386055, 0.0256368636386055, 0.0256368636386055, 0.0256368636386055, 0.0256368636386055, 0.0256368636386055, 0.0256368636386055, 0.0256368636386055, 0.0256368636386055, 0.0256368636386055, 0.0256368636386055, 0.0256368636386055, 0.0256368636386055, 0.0256368636386055, 0.0256368636386055, 0.0256368636386055, 0.0256368636386055, 0.0256368636386055, 0.0256368636386055, 0.0256368636386055, 0.0256368636386055, 0.0256368636386055, 0.0256368636386055, 0.0256368636386055, 0.0256368636386055, 0.0256368636386055, 0.0256368636386055, 0.024151762325812988]}], \"mean_absolute_error\": [{\"categories\": [\"0\", \"1\", \"2\", \"3\", \"4\", \"5\", \"6\", \"7\", \"8\", \"9\", \"10\", \"11\", \"12\", \"13\", \"14\", \"15\", \"16\", \"17\", \"18\", \"19\", \"20\", \"21\", \"22\", \"23\", \"24\", \"25\", \"26\", \"27\", \"28\", \"29\", \"30\", \"31\", \"32\", \"33\", \"34\", \"35\", \"38\", \"39\"], \"mode\": \"markers\", \"name\": \"mean_absolute_error\", \"stepped\": false, \"type\": \"scatter\", \"data\": [1801.3507542906725, 2403.8492799368255, 4009.4522008902586, 3387.095531357088, 3360.252191533766, 3005.594030184436, 3396.367572058413, 4010.312605497215, 3018.043417522939, 4307.037666768128, 3319.801555344504, 3534.462079517318, 2730.1515233412465, 3283.37186757721, 3895.179192635298, 4006.3475456105116, 3410.7537693662694, 3941.7554262278477, 3015.1533364447146, 3733.9845934735736, 2984.1442086046177, 3807.105589821578, 2804.7765993384824, 4339.384988837346, 3161.2850727652944, 3354.5708889433495, 2498.0513523582754, 3520.2409664284005, 2824.294817838281, 2840.361285925799, 3708.778228960566, 3639.3220118706777, 4848.410123212219, 3784.2087004370933, 4088.624051431376, 3869.2453492362206, 1801.3507542906725, 1806.5135949576827]}, {\"categories\": [\"0\", \"1\", \"2\", \"3\", \"4\", \"5\", \"6\", \"7\", \"8\", \"9\", \"10\", \"11\", \"12\", \"13\", \"14\", \"15\", \"16\", \"17\", \"18\", \"19\", \"20\", \"21\", \"22\", \"23\", \"24\", \"25\", \"26\", \"27\", \"28\", \"29\", \"30\", \"31\", \"32\", \"33\", \"34\", \"35\", \"38\", \"39\"], \"mode\": \"lines\", \"name\": \"mean_absolute_error_min\", \"stepped\": true, \"type\": \"scatter\", \"data\": [1801.3507542906725, 1801.3507542906725, 1801.3507542906725, 1801.3507542906725, 1801.3507542906725, 1801.3507542906725, 1801.3507542906725, 1801.3507542906725, 1801.3507542906725, 1801.3507542906725, 1801.3507542906725, 1801.3507542906725, 1801.3507542906725, 1801.3507542906725, 1801.3507542906725, 1801.3507542906725, 1801.3507542906725, 1801.3507542906725, 1801.3507542906725, 1801.3507542906725, 1801.3507542906725, 1801.3507542906725, 1801.3507542906725, 1801.3507542906725, 1801.3507542906725, 1801.3507542906725, 1801.3507542906725, 1801.3507542906725, 1801.3507542906725, 1801.3507542906725, 1801.3507542906725, 1801.3507542906725, 1801.3507542906725, 1801.3507542906725, 1801.3507542906725, 1801.3507542906725, 1801.3507542906725, 1801.3507542906725]}], \"spearman_correlation\": [{\"categories\": [\"0\", \"1\", \"2\", \"3\", \"4\", \"5\", \"6\", \"7\", \"8\", \"9\", \"10\", \"11\", \"12\", \"13\", \"14\", \"15\", \"16\", \"17\", \"18\", \"19\", \"20\", \"21\", \"22\", \"23\", \"24\", \"25\", \"26\", \"27\", \"28\", \"29\", \"30\", \"31\", \"32\", \"33\", \"34\", \"35\", \"38\", \"39\"], \"mode\": \"markers\", \"name\": \"spearman_correlation\", \"stepped\": false, \"type\": \"scatter\", \"data\": [0.9674561446281308, 0.9436758287241013, 0.8592111888630752, 0.901535374523872, 0.9026438960327746, 0.9206619939162661, 0.8984551093233168, 0.8561848191843842, 0.9167797117674015, 0.8331437385262846, 0.9137641697807712, 0.8892015187443207, 0.9313827908981346, 0.9148193049846641, 0.863240808335477, 0.857423164426149, 0.8992719553553661, 0.8675702265573758, 0.9158218387668114, 0.8830714887189225, 0.9172106417352505, 0.8788502149626817, 0.9272169689070542, 0.8302540723772283, 0.924011304129123, 0.9050145916334204, 0.9386276265783589, 0.8981659819470954, 0.9356939327735674, 0.9352677207821521, 0.8928778427955032, 0.8855209480417793, 0.8122146553845168, 0.9064522503261788, 0.8555914062957636, 0.8710459421936463, 0.9674561446281308, 0.9674561446281308]}, {\"categories\": [\"0\", \"1\", \"2\", \"3\", \"4\", \"5\", \"6\", \"7\", \"8\", \"9\", \"10\", \"11\", \"12\", \"13\", \"14\", \"15\", \"16\", \"17\", \"18\", \"19\", \"20\", \"21\", \"22\", \"23\", \"24\", \"25\", \"26\", \"27\", \"28\", \"29\", \"30\", \"31\", \"32\", \"33\", \"34\", \"35\", \"38\", \"39\"], \"mode\": \"lines\", \"name\": \"spearman_correlation_max\", \"stepped\": true, \"type\": \"scatter\", \"data\": [0.9674561446281308, 0.9674561446281308, 0.9674561446281308, 0.9674561446281308, 0.9674561446281308, 0.9674561446281308, 0.9674561446281308, 0.9674561446281308, 0.9674561446281308, 0.9674561446281308, 0.9674561446281308, 0.9674561446281308, 0.9674561446281308, 0.9674561446281308, 0.9674561446281308, 0.9674561446281308, 0.9674561446281308, 0.9674561446281308, 0.9674561446281308, 0.9674561446281308, 0.9674561446281308, 0.9674561446281308, 0.9674561446281308, 0.9674561446281308, 0.9674561446281308, 0.9674561446281308, 0.9674561446281308, 0.9674561446281308, 0.9674561446281308, 0.9674561446281308, 0.9674561446281308, 0.9674561446281308, 0.9674561446281308, 0.9674561446281308, 0.9674561446281308, 0.9674561446281308, 0.9674561446281308, 0.9674561446281308]}], \"normalized_mean_absolute_error\": [{\"categories\": [\"0\", \"1\", \"2\", \"3\", \"4\", \"5\", \"6\", \"7\", \"8\", \"9\", \"10\", \"11\", \"12\", \"13\", \"14\", \"15\", \"16\", \"17\", \"18\", \"19\", \"20\", \"21\", \"22\", \"23\", \"24\", \"25\", \"26\", \"27\", \"28\", \"29\", \"30\", \"31\", \"32\", \"33\", \"34\", \"35\", \"38\", \"39\"], \"mode\": \"markers\", \"name\": \"normalized_mean_absolute_error\", \"stepped\": false, \"type\": \"scatter\", \"data\": [0.011304437142942048, 0.015085436870873525, 0.025161451913035277, 0.021255831736359115, 0.02108737545597253, 0.018861706255981752, 0.021314018739109833, 0.02516685141103625, 0.018939832804240622, 0.02702895949625117, 0.020833526130345992, 0.022180635457500944, 0.017133157555687492, 0.020604910401553888, 0.024444327812758775, 0.025141968544581464, 0.021404299803364123, 0.02473661853057031, 0.01892169600339327, 0.023432745693249244, 0.01872709718043174, 0.023891618961032566, 0.017601469725812415, 0.027231956202030422, 0.019838750621373805, 0.02105172225080389, 0.015676605139400158, 0.022091390384805686, 0.017723956961375853, 0.017824782621326765, 0.023274562306387653, 0.022838687483891822, 0.030426360524460266, 0.023747928762885825, 0.025658297519478474, 0.024281579107720917, 0.011304437142942048, 0.011336836722901825]}, {\"categories\": [\"0\", \"1\", \"2\", \"3\", \"4\", \"5\", \"6\", \"7\", \"8\", \"9\", \"10\", \"11\", \"12\", \"13\", \"14\", \"15\", \"16\", \"17\", \"18\", \"19\", \"20\", \"21\", \"22\", \"23\", \"24\", \"25\", \"26\", \"27\", \"28\", \"29\", \"30\", \"31\", \"32\", \"33\", \"34\", \"35\", \"38\", \"39\"], \"mode\": \"lines\", \"name\": \"normalized_mean_absolute_error_min\", \"stepped\": true, \"type\": \"scatter\", \"data\": [0.011304437142942048, 0.011304437142942048, 0.011304437142942048, 0.011304437142942048, 0.011304437142942048, 0.011304437142942048, 0.011304437142942048, 0.011304437142942048, 0.011304437142942048, 0.011304437142942048, 0.011304437142942048, 0.011304437142942048, 0.011304437142942048, 0.011304437142942048, 0.011304437142942048, 0.011304437142942048, 0.011304437142942048, 0.011304437142942048, 0.011304437142942048, 0.011304437142942048, 0.011304437142942048, 0.011304437142942048, 0.011304437142942048, 0.011304437142942048, 0.011304437142942048, 0.011304437142942048, 0.011304437142942048, 0.011304437142942048, 0.011304437142942048, 0.011304437142942048, 0.011304437142942048, 0.011304437142942048, 0.011304437142942048, 0.011304437142942048, 0.011304437142942048, 0.011304437142942048, 0.011304437142942048, 0.011304437142942048]}], \"normalized_median_absolute_error\": [{\"categories\": [\"0\", \"1\", \"2\", \"3\", \"4\", \"5\", \"6\", \"7\", \"8\", \"9\", \"10\", \"11\", \"12\", \"13\", \"14\", \"15\", \"16\", \"17\", \"18\", \"19\", \"20\", \"21\", \"22\", \"23\", \"24\", \"25\", \"26\", \"27\", \"28\", \"29\", \"30\", \"31\", \"32\", \"33\", \"34\", \"35\", \"38\", \"39\"], \"mode\": \"markers\", \"name\": \"normalized_median_absolute_error\", \"stepped\": false, \"type\": \"scatter\", \"data\": [0.007296114624030951, 0.010331440344777815, 0.016680271035706153, 0.01321423419524159, 0.01311817670224838, 0.01155743653252655, 0.013248599899444791, 0.016866630074094485, 0.011599621442698266, 0.017779659227228305, 0.015346797975093127, 0.014136477798920258, 0.010575872595511876, 0.015213499404851678, 0.015826864813376796, 0.01629012159711426, 0.013488175685259137, 0.015626622942357435, 0.01151105510118644, 0.014881585822267585, 0.011470444077922614, 0.014969286382095215, 0.01080625999101246, 0.018325037744075772, 0.012452454604638426, 0.01275414349937682, 0.009601310175050832, 0.013913973291452338, 0.011289811646700674, 0.011141769276939696, 0.01499223945366939, 0.014535720040865603, 0.02068538853785401, 0.016018908673562773, 0.01663641857518244, 0.01549071118539431, 0.007296114624030951, 0.007318577558873616]}, {\"categories\": [\"0\", \"1\", \"2\", \"3\", \"4\", \"5\", \"6\", \"7\", \"8\", \"9\", \"10\", \"11\", \"12\", \"13\", \"14\", \"15\", \"16\", \"17\", \"18\", \"19\", \"20\", \"21\", \"22\", \"23\", \"24\", \"25\", \"26\", \"27\", \"28\", \"29\", \"30\", \"31\", \"32\", \"33\", \"34\", \"35\", \"38\", \"39\"], \"mode\": \"lines\", \"name\": \"normalized_median_absolute_error_min\", \"stepped\": true, \"type\": \"scatter\", \"data\": [0.007296114624030951, 0.007296114624030951, 0.007296114624030951, 0.007296114624030951, 0.007296114624030951, 0.007296114624030951, 0.007296114624030951, 0.007296114624030951, 0.007296114624030951, 0.007296114624030951, 0.007296114624030951, 0.007296114624030951, 0.007296114624030951, 0.007296114624030951, 0.007296114624030951, 0.007296114624030951, 0.007296114624030951, 0.007296114624030951, 0.007296114624030951, 0.007296114624030951, 0.007296114624030951, 0.007296114624030951, 0.007296114624030951, 0.007296114624030951, 0.007296114624030951, 0.007296114624030951, 0.007296114624030951, 0.007296114624030951, 0.007296114624030951, 0.007296114624030951, 0.007296114624030951, 0.007296114624030951, 0.007296114624030951, 0.007296114624030951, 0.007296114624030951, 0.007296114624030951, 0.007296114624030951, 0.007296114624030951]}], \"normalized_root_mean_squared_error\": [{\"categories\": [\"0\", \"1\", \"2\", \"3\", \"4\", \"5\", \"6\", \"7\", \"8\", \"9\", \"10\", \"11\", \"12\", \"13\", \"14\", \"15\", \"16\", \"17\", \"18\", \"19\", \"20\", \"21\", \"22\", \"23\", \"24\", \"25\", \"26\", \"27\", \"28\", \"29\", \"30\", \"31\", \"32\", \"33\", \"34\", \"35\", \"38\", \"39\"], \"mode\": \"markers\", \"name\": \"normalized_root_mean_squared_error\", \"stepped\": false, \"type\": \"scatter\", \"data\": [0.019622160805043972, 0.023212895204112582, 0.04149280568714015, 0.0373118738821478, 0.037130254556511984, 0.03453509335543684, 0.03741538999966132, 0.04134980987226839, 0.034273117333481706, 0.045248641452288275, 0.03434771646264025, 0.0376696985118159, 0.030332333184950794, 0.033585879107999185, 0.0418659780935265, 0.04182490573659738, 0.036881432931994966, 0.04232036652108292, 0.03341257475091511, 0.04056923275013474, 0.033538441523421975, 0.04164543042088161, 0.031054960046973043, 0.04461251605866675, 0.03679338698760723, 0.038990444692936256, 0.0282396065330407, 0.03974370924851395, 0.032746415554343204, 0.032829271843884816, 0.03995511397763444, 0.039910733266908964, 0.050377376534528624, 0.04283722055778067, 0.04502817650725977, 0.04173777435709374, 0.019622160805043972, 0.01962165647172007]}, {\"categories\": [\"0\", \"1\", \"2\", \"3\", \"4\", \"5\", \"6\", \"7\", \"8\", \"9\", \"10\", \"11\", \"12\", \"13\", \"14\", \"15\", \"16\", \"17\", \"18\", \"19\", \"20\", \"21\", \"22\", \"23\", \"24\", \"25\", \"26\", \"27\", \"28\", \"29\", \"30\", \"31\", \"32\", \"33\", \"34\", \"35\", \"38\", \"39\"], \"mode\": \"lines\", \"name\": \"normalized_root_mean_squared_error_min\", \"stepped\": true, \"type\": \"scatter\", \"data\": [0.019622160805043972, 0.019622160805043972, 0.019622160805043972, 0.019622160805043972, 0.019622160805043972, 0.019622160805043972, 0.019622160805043972, 0.019622160805043972, 0.019622160805043972, 0.019622160805043972, 0.019622160805043972, 0.019622160805043972, 0.019622160805043972, 0.019622160805043972, 0.019622160805043972, 0.019622160805043972, 0.019622160805043972, 0.019622160805043972, 0.019622160805043972, 0.019622160805043972, 0.019622160805043972, 0.019622160805043972, 0.019622160805043972, 0.019622160805043972, 0.019622160805043972, 0.019622160805043972, 0.019622160805043972, 0.019622160805043972, 0.019622160805043972, 0.019622160805043972, 0.019622160805043972, 0.019622160805043972, 0.019622160805043972, 0.019622160805043972, 0.019622160805043972, 0.019622160805043972, 0.019622160805043972, 0.01962165647172007]}], \"explained_variance\": [{\"categories\": [\"0\", \"1\", \"2\", \"3\", \"4\", \"5\", \"6\", \"7\", \"8\", \"9\", \"10\", \"11\", \"12\", \"13\", \"14\", \"15\", \"16\", \"17\", \"18\", \"19\", \"20\", \"21\", \"22\", \"23\", \"24\", \"25\", \"26\", \"27\", \"28\", \"29\", \"30\", \"31\", \"32\", \"33\", \"34\", \"35\", \"38\", \"39\"], \"mode\": \"markers\", \"name\": \"explained_variance\", \"stepped\": false, \"type\": \"scatter\", \"data\": [0.9302602410211042, 0.9022317871691995, 0.687876904629149, 0.7478152850753049, 0.7502319598462724, 0.7837084557998674, 0.7463961344350379, 0.6901019979890858, 0.7871554250142178, 0.6280544342975546, 0.7869627538690893, 0.7420998669257622, 0.8334223570146326, 0.7954713181357115, 0.6808576055778519, 0.6824550968678894, 0.7533175555471464, 0.6747209473546109, 0.7978101011667059, 0.7019616821972209, 0.7963180660937296, 0.6848541054919774, 0.8253576720462562, 0.6389816873651797, 0.7547391478038729, 0.7243797234085966, 0.8555988992952438, 0.713889410490934, 0.8054227647735814, 0.8047347727984849, 0.7107693703927488, 0.7113551759788724, 0.540266348677551, 0.6677820979566086, 0.632454494860581, 0.6842134124687408, 0.9302602410211042, 0.9302694590526889]}, {\"categories\": [\"0\", \"1\", \"2\", \"3\", \"4\", \"5\", \"6\", \"7\", \"8\", \"9\", \"10\", \"11\", \"12\", \"13\", \"14\", \"15\", \"16\", \"17\", \"18\", \"19\", \"20\", \"21\", \"22\", \"23\", \"24\", \"25\", \"26\", \"27\", \"28\", \"29\", \"30\", \"31\", \"32\", \"33\", \"34\", \"35\", \"38\", \"39\"], \"mode\": \"lines\", \"name\": \"explained_variance_max\", \"stepped\": true, \"type\": \"scatter\", \"data\": [0.9302602410211042, 0.9302602410211042, 0.9302602410211042, 0.9302602410211042, 0.9302602410211042, 0.9302602410211042, 0.9302602410211042, 0.9302602410211042, 0.9302602410211042, 0.9302602410211042, 0.9302602410211042, 0.9302602410211042, 0.9302602410211042, 0.9302602410211042, 0.9302602410211042, 0.9302602410211042, 0.9302602410211042, 0.9302602410211042, 0.9302602410211042, 0.9302602410211042, 0.9302602410211042, 0.9302602410211042, 0.9302602410211042, 0.9302602410211042, 0.9302602410211042, 0.9302602410211042, 0.9302602410211042, 0.9302602410211042, 0.9302602410211042, 0.9302602410211042, 0.9302602410211042, 0.9302602410211042, 0.9302602410211042, 0.9302602410211042, 0.9302602410211042, 0.9302602410211042, 0.9302602410211042, 0.9302694590526889]}], \"mean_absolute_percentage_error\": [{\"categories\": [\"0\", \"1\", \"2\", \"3\", \"4\", \"5\", \"6\", \"7\", \"8\", \"9\", \"10\", \"11\", \"12\", \"13\", \"14\", \"15\", \"16\", \"17\", \"18\", \"19\", \"20\", \"21\", \"22\", \"23\", \"24\", \"25\", \"26\", \"27\", \"28\", \"29\", \"30\", \"31\", \"32\", \"33\", \"34\", \"35\", \"38\", \"39\"], \"mode\": \"markers\", \"name\": \"mean_absolute_percentage_error\", \"stepped\": false, \"type\": \"scatter\", \"data\": [8.314871311449652, 11.047676305105197, 18.688949830947166, 15.219093808592282, 15.121108292176237, 13.53905287279556, 15.455335297651212, 18.564424571246146, 13.722919763614028, 20.487034335172932, 15.266598448225508, 16.376288989076397, 12.325846887092998, 15.174766272385904, 18.322280054725766, 18.65917226297778, 15.491728637782805, 18.024629271024498, 14.025034111539862, 17.020781401885497, 13.715350775304664, 17.45806045788505, 12.696299061699657, 20.394871353504296, 16.12628514719967, 16.812756765702236, 11.11065429204971, 17.58720375960425, 12.9701720955127, 13.96816450005844, 17.96405169929103, 17.743958330182252, 23.724281419169884, 17.649588158139153, 20.993526719778604, 19.102971737541687, 8.314871311449652, 8.308500931915566]}, {\"categories\": [\"0\", \"1\", \"2\", \"3\", \"4\", \"5\", \"6\", \"7\", \"8\", \"9\", \"10\", \"11\", \"12\", \"13\", \"14\", \"15\", \"16\", \"17\", \"18\", \"19\", \"20\", \"21\", \"22\", \"23\", \"24\", \"25\", \"26\", \"27\", \"28\", \"29\", \"30\", \"31\", \"32\", \"33\", \"34\", \"35\", \"38\", \"39\"], \"mode\": \"lines\", \"name\": \"mean_absolute_percentage_error_min\", \"stepped\": true, \"type\": \"scatter\", \"data\": [8.314871311449652, 8.314871311449652, 8.314871311449652, 8.314871311449652, 8.314871311449652, 8.314871311449652, 8.314871311449652, 8.314871311449652, 8.314871311449652, 8.314871311449652, 8.314871311449652, 8.314871311449652, 8.314871311449652, 8.314871311449652, 8.314871311449652, 8.314871311449652, 8.314871311449652, 8.314871311449652, 8.314871311449652, 8.314871311449652, 8.314871311449652, 8.314871311449652, 8.314871311449652, 8.314871311449652, 8.314871311449652, 8.314871311449652, 8.314871311449652, 8.314871311449652, 8.314871311449652, 8.314871311449652, 8.314871311449652, 8.314871311449652, 8.314871311449652, 8.314871311449652, 8.314871311449652, 8.314871311449652, 8.314871311449652, 8.308500931915566]}], \"root_mean_squared_log_error\": [{\"categories\": [\"0\", \"1\", \"2\", \"3\", \"4\", \"5\", \"6\", \"7\", \"8\", \"9\", \"10\", \"11\", \"12\", \"13\", \"14\", \"15\", \"16\", \"17\", \"18\", \"19\", \"20\", \"21\", \"22\", \"23\", \"24\", \"25\", \"26\", \"27\", \"28\", \"29\", \"30\", \"31\", \"32\", \"33\", \"34\", \"35\", \"38\", \"39\"], \"mode\": \"markers\", \"name\": \"root_mean_squared_log_error\", \"stepped\": false, \"type\": \"scatter\", \"data\": [0.14111605090080118, 0.15641867339577312, 0.24386985547889917, 0.21158005281683442, 0.21073638055691093, 0.1940562533178263, 0.2146008612168054, 0.24207693143938439, 0.1972342535193352, 0.26354516352323565, NaN, 0.22269848975093112, 0.18091137769917967, NaN, 0.2421744032108433, 0.24576592777966136, 0.21337900626168435, 0.23948329105342914, 0.19912424743599977, 0.2286245385255855, 0.19688533576590084, 0.23426391371528832, 0.18411821034371614, 0.2609731895707184, 0.22523716143933034, 0.23448132471713923, 0.16416230559151998, 0.2378799139466475, 0.1840004624654428, 0.20041870976069154, 0.24095936173697896, 0.23815968510610777, 0.29318792800544624, 0.23462914012907188, 0.2710086522383986, 0.2525422347408887, 0.14111605090080118, 0.13294143034646436]}, {\"categories\": [\"0\", \"1\", \"2\", \"3\", \"4\", \"5\", \"6\", \"7\", \"8\", \"9\", \"10\", \"11\", \"12\", \"13\", \"14\", \"15\", \"16\", \"17\", \"18\", \"19\", \"20\", \"21\", \"22\", \"23\", \"24\", \"25\", \"26\", \"27\", \"28\", \"29\", \"30\", \"31\", \"32\", \"33\", \"34\", \"35\", \"38\", \"39\"], \"mode\": \"lines\", \"name\": \"root_mean_squared_log_error_min\", \"stepped\": true, \"type\": \"scatter\", \"data\": [0.14111605090080118, 0.14111605090080118, 0.14111605090080118, 0.14111605090080118, 0.14111605090080118, 0.14111605090080118, 0.14111605090080118, 0.14111605090080118, 0.14111605090080118, 0.14111605090080118, 0.14111605090080118, 0.14111605090080118, 0.14111605090080118, 0.14111605090080118, 0.14111605090080118, 0.14111605090080118, 0.14111605090080118, 0.14111605090080118, 0.14111605090080118, 0.14111605090080118, 0.14111605090080118, 0.14111605090080118, 0.14111605090080118, 0.14111605090080118, 0.14111605090080118, 0.14111605090080118, 0.14111605090080118, 0.14111605090080118, 0.14111605090080118, 0.14111605090080118, 0.14111605090080118, 0.14111605090080118, 0.14111605090080118, 0.14111605090080118, 0.14111605090080118, 0.14111605090080118, 0.14111605090080118, 0.13294143034646436]}], \"root_mean_squared_error\": [{\"categories\": [\"0\", \"1\", \"2\", \"3\", \"4\", \"5\", \"6\", \"7\", \"8\", \"9\", \"10\", \"11\", \"12\", \"13\", \"14\", \"15\", \"16\", \"17\", \"18\", \"19\", \"20\", \"21\", \"22\", \"23\", \"24\", \"25\", \"26\", \"27\", \"28\", \"29\", \"30\", \"31\", \"32\", \"33\", \"34\", \"35\", \"38\", \"39\"], \"mode\": \"markers\", \"name\": \"root_mean_squared_error\", \"stepped\": false, \"type\": \"scatter\", \"data\": [3126.7717021229514, 3698.951637880136, 6611.837093440098, 5945.60979124637, 5916.668933325629, 5503.132591095506, 5962.104981056032, 6589.050853336096, 5461.386973972975, 7210.325766780686, 5473.274270605262, 6002.628788159353, 4833.426960688725, 5351.8762499805625, 6671.301743225355, 6664.756904221057, 5877.019456280465, 6743.708084768041, 5324.260373983571, 6464.666669501221, 5344.317118315768, 6636.157692137062, 4948.576828525107, 7108.959821432488, 5862.989423088225, 6213.0883713747, 4499.953061433503, 6333.12032504145, 5218.108572169035, 5231.311639051201, 6366.807457222069, 6359.735435348676, 8027.584573400601, 6826.068258661794, 7175.194898255338, 6650.872606028531, 3126.7717021229514, 3126.6913371121213]}, {\"categories\": [\"0\", \"1\", \"2\", \"3\", \"4\", \"5\", \"6\", \"7\", \"8\", \"9\", \"10\", \"11\", \"12\", \"13\", \"14\", \"15\", \"16\", \"17\", \"18\", \"19\", \"20\", \"21\", \"22\", \"23\", \"24\", \"25\", \"26\", \"27\", \"28\", \"29\", \"30\", \"31\", \"32\", \"33\", \"34\", \"35\", \"38\", \"39\"], \"mode\": \"lines\", \"name\": \"root_mean_squared_error_min\", \"stepped\": true, \"type\": \"scatter\", \"data\": [3126.7717021229514, 3126.7717021229514, 3126.7717021229514, 3126.7717021229514, 3126.7717021229514, 3126.7717021229514, 3126.7717021229514, 3126.7717021229514, 3126.7717021229514, 3126.7717021229514, 3126.7717021229514, 3126.7717021229514, 3126.7717021229514, 3126.7717021229514, 3126.7717021229514, 3126.7717021229514, 3126.7717021229514, 3126.7717021229514, 3126.7717021229514, 3126.7717021229514, 3126.7717021229514, 3126.7717021229514, 3126.7717021229514, 3126.7717021229514, 3126.7717021229514, 3126.7717021229514, 3126.7717021229514, 3126.7717021229514, 3126.7717021229514, 3126.7717021229514, 3126.7717021229514, 3126.7717021229514, 3126.7717021229514, 3126.7717021229514, 3126.7717021229514, 3126.7717021229514, 3126.7717021229514, 3126.6913371121213]}], \"median_absolute_error\": [{\"categories\": [\"0\", \"1\", \"2\", \"3\", \"4\", \"5\", \"6\", \"7\", \"8\", \"9\", \"10\", \"11\", \"12\", \"13\", \"14\", \"15\", \"16\", \"17\", \"18\", \"19\", \"20\", \"21\", \"22\", \"23\", \"24\", \"25\", \"26\", \"27\", \"28\", \"29\", \"30\", \"31\", \"32\", \"33\", \"34\", \"35\", \"38\", \"39\"], \"mode\": \"markers\", \"name\": \"median_absolute_error\", \"stepped\": false, \"type\": \"scatter\", \"data\": [1162.6285692247081, 1646.3046875, 2657.9845092687397, 2105.6750047775517, 2090.368339326577, 1841.6659540215733, 2111.1511453766284, 2687.6806356768816, 1848.388077272526, 2833.170918199603, 2445.4969105331147, 2252.633600780144, 1685.254722222222, 2424.2559166637097, 2521.995081146779, 2595.81458637856, 2149.3273072703582, 2490.086739241715, 1834.2751193189579, 2371.3658191925174, 1827.8037933728908, 2385.3408157004906, 1721.9667233078446, 2920.07643948073, 1984.2861887945285, 2032.360012482197, 1529.9591750841748, 2217.1777300196386, 1799.0201960901056, 1775.4297925110634, 2388.9983647027634, 2316.2524527918927, 3296.1959781184983, 2552.5970782235545, 2650.996663536747, 2468.429336681398, 1162.6285692247081, 1166.2080154289517]}, {\"categories\": [\"0\", \"1\", \"2\", \"3\", \"4\", \"5\", \"6\", \"7\", \"8\", \"9\", \"10\", \"11\", \"12\", \"13\", \"14\", \"15\", \"16\", \"17\", \"18\", \"19\", \"20\", \"21\", \"22\", \"23\", \"24\", \"25\", \"26\", \"27\", \"28\", \"29\", \"30\", \"31\", \"32\", \"33\", \"34\", \"35\", \"38\", \"39\"], \"mode\": \"lines\", \"name\": \"median_absolute_error_min\", \"stepped\": true, \"type\": \"scatter\", \"data\": [1162.6285692247081, 1162.6285692247081, 1162.6285692247081, 1162.6285692247081, 1162.6285692247081, 1162.6285692247081, 1162.6285692247081, 1162.6285692247081, 1162.6285692247081, 1162.6285692247081, 1162.6285692247081, 1162.6285692247081, 1162.6285692247081, 1162.6285692247081, 1162.6285692247081, 1162.6285692247081, 1162.6285692247081, 1162.6285692247081, 1162.6285692247081, 1162.6285692247081, 1162.6285692247081, 1162.6285692247081, 1162.6285692247081, 1162.6285692247081, 1162.6285692247081, 1162.6285692247081, 1162.6285692247081, 1162.6285692247081, 1162.6285692247081, 1162.6285692247081, 1162.6285692247081, 1162.6285692247081, 1162.6285692247081, 1162.6285692247081, 1162.6285692247081, 1162.6285692247081, 1162.6285692247081, 1162.6285692247081]}], \"r2_score\": [{\"categories\": [\"0\", \"1\", \"2\", \"3\", \"4\", \"5\", \"6\", \"7\", \"8\", \"9\", \"10\", \"11\", \"12\", \"13\", \"14\", \"15\", \"16\", \"17\", \"18\", \"19\", \"20\", \"21\", \"22\", \"23\", \"24\", \"25\", \"26\", \"27\", \"28\", \"29\", \"30\", \"31\", \"32\", \"33\", \"34\", \"35\", \"38\", \"39\"], \"mode\": \"markers\", \"name\": \"r2_score\", \"stepped\": false, \"type\": \"scatter\", \"data\": [0.9302502821897441, 0.9022187270752634, 0.6877721348488061, 0.7477733250583275, 0.7501630564756683, 0.7837022518167872, 0.7463308183016079, 0.6899435841630795, 0.7871396413147244, 0.6279681353821979, 0.786070714846033, 0.7420638467585846, 0.8333964534964483, 0.7954225190908241, 0.6807520629236231, 0.6823861396063222, 0.7533068467629956, 0.6746808364730308, 0.7977915153361579, 0.7019282537962637, 0.7962983247026448, 0.6848195011639925, 0.8253495724978034, 0.6389441214260697, 0.7547242708782355, 0.7243429198831413, 0.8555654253080095, 0.7138484011834686, 0.8053931762350194, 0.8047251476254963, 0.7106543630447447, 0.7113134705210565, 0.5402267666358419, 0.667701253551118, 0.632439800196145, 0.6841238752340884, 0.9302502821897441, 0.9302538999232035]}, {\"categories\": [\"0\", \"1\", \"2\", \"3\", \"4\", \"5\", \"6\", \"7\", \"8\", \"9\", \"10\", \"11\", \"12\", \"13\", \"14\", \"15\", \"16\", \"17\", \"18\", \"19\", \"20\", \"21\", \"22\", \"23\", \"24\", \"25\", \"26\", \"27\", \"28\", \"29\", \"30\", \"31\", \"32\", \"33\", \"34\", \"35\", \"38\", \"39\"], \"mode\": \"lines\", \"name\": \"r2_score_max\", \"stepped\": true, \"type\": \"scatter\", \"data\": [0.9302502821897441, 0.9302502821897441, 0.9302502821897441, 0.9302502821897441, 0.9302502821897441, 0.9302502821897441, 0.9302502821897441, 0.9302502821897441, 0.9302502821897441, 0.9302502821897441, 0.9302502821897441, 0.9302502821897441, 0.9302502821897441, 0.9302502821897441, 0.9302502821897441, 0.9302502821897441, 0.9302502821897441, 0.9302502821897441, 0.9302502821897441, 0.9302502821897441, 0.9302502821897441, 0.9302502821897441, 0.9302502821897441, 0.9302502821897441, 0.9302502821897441, 0.9302502821897441, 0.9302502821897441, 0.9302502821897441, 0.9302502821897441, 0.9302502821897441, 0.9302502821897441, 0.9302502821897441, 0.9302502821897441, 0.9302502821897441, 0.9302502821897441, 0.9302502821897441, 0.9302502821897441, 0.9302538999232035]}]}, \"metricName\": null, \"primaryMetricName\": \"normalized_mean_absolute_error\", \"showLegend\": false}, \"run_metrics\": [{\"name\": \"experiment_status\", \"run_id\": \"AutoML_b88cfcdf-7f5e-447d-8a2f-0f268afeff64\", \"categories\": [0, 1, 2, 3, 4, 5, 6, 7, 8, 9, 10, 11, 12, 13], \"series\": [{\"data\": [\"DatasetEvaluation\", \"FeaturesGeneration\", \"DatasetFeaturization\", \"DatasetFeaturizationCompleted\", \"DatasetCrossValidationSplit\", \"ModelSelection\", \"BestRunExplainModel\", \"ModelExplanationDataSetSetup\", \"PickSurrogateModel\", \"EngineeredFeatureExplanations\", \"EngineeredFeatureExplanations\", \"RawFeaturesExplanations\", \"RawFeaturesExplanations\", \"BestRunExplainModel\"]}]}, {\"name\": \"experiment_status_description\", \"run_id\": \"AutoML_b88cfcdf-7f5e-447d-8a2f-0f268afeff64\", \"categories\": [0, 1, 2, 3, 4, 5, 6, 7, 8, 9, 10, 11, 12, 13], \"series\": [{\"data\": [\"Gathering dataset statistics.\", \"Generating features for the dataset.\", \"Beginning to fit featurizers and featurize the dataset.\", \"Completed fit featurizers and featurizing the dataset.\", \"Generating individually featurized CV splits.\", \"Beginning model selection.\", \"Best run model explanations started\", \"Model explanations data setup completed\", \"Choosing LightGBM as the surrogate model for explanations\", \"Computation of engineered features started\", \"Computation of engineered features completed\", \"Computation of raw features started\", \"Computation of raw features completed\", \"Best run model explanations completed\"]}]}, {\"name\": \"normalized_root_mean_squared_error\", \"run_id\": \"AutoML_b88cfcdf-7f5e-447d-8a2f-0f268afeff64\", \"categories\": [0], \"series\": [{\"data\": [0.019622160805043972]}]}, {\"name\": \"normalized_root_mean_squared_log_error\", \"run_id\": \"AutoML_b88cfcdf-7f5e-447d-8a2f-0f268afeff64\", \"categories\": [0], \"series\": [{\"data\": [0.0256368636386055]}]}, {\"name\": \"spearman_correlation\", \"run_id\": \"AutoML_b88cfcdf-7f5e-447d-8a2f-0f268afeff64\", \"categories\": [0], \"series\": [{\"data\": [0.9674561446281308]}]}, {\"name\": \"mean_absolute_error\", \"run_id\": \"AutoML_b88cfcdf-7f5e-447d-8a2f-0f268afeff64\", \"categories\": [0], \"series\": [{\"data\": [1801.3507542906725]}]}, {\"name\": \"explained_variance\", \"run_id\": \"AutoML_b88cfcdf-7f5e-447d-8a2f-0f268afeff64\", \"categories\": [0], \"series\": [{\"data\": [0.9302602410211042]}]}, {\"name\": \"root_mean_squared_log_error\", \"run_id\": \"AutoML_b88cfcdf-7f5e-447d-8a2f-0f268afeff64\", \"categories\": [0], \"series\": [{\"data\": [0.14111605090080118]}]}, {\"name\": \"r2_score\", \"run_id\": \"AutoML_b88cfcdf-7f5e-447d-8a2f-0f268afeff64\", \"categories\": [0], \"series\": [{\"data\": [0.9302502821897441]}]}, {\"name\": \"normalized_mean_absolute_error\", \"run_id\": \"AutoML_b88cfcdf-7f5e-447d-8a2f-0f268afeff64\", \"categories\": [0], \"series\": [{\"data\": [0.011304437142942048]}]}, {\"name\": \"mean_absolute_percentage_error\", \"run_id\": \"AutoML_b88cfcdf-7f5e-447d-8a2f-0f268afeff64\", \"categories\": [0], \"series\": [{\"data\": [8.314871311449652]}]}, {\"name\": \"root_mean_squared_error\", \"run_id\": \"AutoML_b88cfcdf-7f5e-447d-8a2f-0f268afeff64\", \"categories\": [0], \"series\": [{\"data\": [3126.7717021229514]}]}, {\"name\": \"normalized_median_absolute_error\", \"run_id\": \"AutoML_b88cfcdf-7f5e-447d-8a2f-0f268afeff64\", \"categories\": [0], \"series\": [{\"data\": [0.007296114624030951]}]}, {\"name\": \"median_absolute_error\", \"run_id\": \"AutoML_b88cfcdf-7f5e-447d-8a2f-0f268afeff64\", \"categories\": [0], \"series\": [{\"data\": [1162.6285692247081]}]}], \"run_logs\": \"\\nRun is completed.\", \"graph\": {}, \"widget_settings\": {\"childWidgetDisplay\": \"popup\", \"send_telemetry\": false, \"log_level\": \"INFO\", \"sdk_version\": \"1.26.0\"}, \"loading\": false}"
          },
          "metadata": {}
        },
        {
          "output_type": "stream",
          "name": "stdout",
          "text": [
            "\n",
            "\n",
            "****************************************************************************************************\n",
            "DATA GUARDRAILS: \n",
            "\n",
            "TYPE:         Cross validation\n",
            "STATUS:       DONE\n",
            "DESCRIPTION:  Each iteration of the trained model was validated through cross-validation.\n",
            "              \n",
            "DETAILS:      \n",
            "+---------------------------------+\n",
            "|Number of folds                  |\n",
            "+=================================+\n",
            "|3                                |\n",
            "+---------------------------------+\n",
            "\n",
            "****************************************************************************************************\n",
            "\n",
            "TYPE:         Missing feature values imputation\n",
            "STATUS:       PASSED\n",
            "DESCRIPTION:  No feature missing values were detected in the training data.\n",
            "              Learn more about missing value imputation: https://aka.ms/AutomatedMLFeaturization\n",
            "\n",
            "****************************************************************************************************\n",
            "\n",
            "TYPE:         High cardinality feature detection\n",
            "STATUS:       PASSED\n",
            "DESCRIPTION:  Your inputs were analyzed, and no high cardinality features were detected.\n"
          ]
        },
        {
          "output_type": "display_data",
          "data": {
            "text/plain": "<IPython.core.display.HTML object>",
            "text/html": "<table style=\"width:100%\"><tr><th>Experiment</th><th>Id</th><th>Type</th><th>Status</th><th>Details Page</th><th>Docs Page</th></tr><tr><td>mercedes-price-prediction</td><td>AutoML_b88cfcdf-7f5e-447d-8a2f-0f268afeff64</td><td>automl</td><td>Completed</td><td><a href=\"https://ml.azure.com/runs/AutoML_b88cfcdf-7f5e-447d-8a2f-0f268afeff64?wsid=/subscriptions/939d1c66-7864-4f15-8560-5c793c4110c8/resourcegroups/udacity-rg/workspaces/udacity-ws&amp;tid=58798559-b4aa-42d5-a222-d57c24dbd4fa\" target=\"_blank\" rel=\"noopener\">Link to Azure Machine Learning studio</a></td><td><a href=\"https://docs.microsoft.com/en-us/python/api/overview/azure/ml/intro?view=azure-ml-py\" target=\"_blank\" rel=\"noopener\">Link to Documentation</a></td></tr></table>"
          },
          "metadata": {}
        },
        {
          "output_type": "stream",
          "name": "stdout",
          "text": [
            "              Learn more about high cardinality feature handling: https://aka.ms/AutomatedMLFeaturization\n",
            "\n",
            "****************************************************************************************************\n",
            "\n",
            "****************************************************************************************************\n",
            "ITERATION: The iteration being evaluated.\n",
            "PIPELINE: A summary description of the pipeline being evaluated.\n",
            "DURATION: Time taken for the current iteration.\n",
            "METRIC: The result of computing score on the fitted pipeline.\n",
            "BEST: The best observed score thus far.\n",
            "****************************************************************************************************\n",
            "\n",
            " ITERATION   PIPELINE                                       DURATION      METRIC      BEST\n",
            "         0   MaxAbsScaler LightGBM                          0:02:28       0.0113    0.0113\n",
            "         1   MaxAbsScaler XGBoostRegressor                  0:00:45       0.0151    0.0113\n",
            "         2   StandardScalerWrapper DecisionTree             0:00:52       0.0252    0.0113\n",
            "         3   MaxAbsScaler DecisionTree                      0:02:42       0.0213    0.0113\n",
            "         4   MaxAbsScaler DecisionTree                      0:00:41       0.0211    0.0113\n",
            "         5   MaxAbsScaler DecisionTree                      0:01:55       0.0189    0.0113\n",
            "         6   MaxAbsScaler DecisionTree                      0:02:48       0.0213    0.0113\n",
            "         7   MaxAbsScaler DecisionTree                      0:00:41       0.0252    0.0113\n",
            "         8   MaxAbsScaler DecisionTree                      0:00:44       0.0189    0.0113\n",
            "         9   MaxAbsScaler DecisionTree                      0:00:44       0.0270    0.0113\n",
            "        10   MaxAbsScaler SGD                               0:00:38       0.0208    0.0113\n",
            "        11   MaxAbsScaler DecisionTree                      0:00:49       0.0222    0.0113\n",
            "        12   MaxAbsScaler DecisionTree                      0:00:46       0.0171    0.0113\n",
            "        13   MaxAbsScaler ElasticNet                        0:00:57       0.0206    0.0113\n",
            "        14   MaxAbsScaler DecisionTree                      0:00:43       0.0244    0.0113\n",
            "        15   MaxAbsScaler DecisionTree                      0:00:52       0.0251    0.0113\n",
            "        16   MaxAbsScaler DecisionTree                      0:00:41       0.0214    0.0113\n",
            "        17   MaxAbsScaler DecisionTree                      0:00:42       0.0247    0.0113\n",
            "        18   MaxAbsScaler DecisionTree                      0:00:48       0.0189    0.0113\n",
            "        19   MaxAbsScaler DecisionTree                      0:00:45       0.0234    0.0113\n",
            "        20   MaxAbsScaler DecisionTree                      0:00:50       0.0187    0.0113\n",
            "        21   MaxAbsScaler DecisionTree                      0:00:46       0.0239    0.0113\n",
            "        22   MaxAbsScaler DecisionTree                      0:00:49       0.0176    0.0113\n",
            "        23   MaxAbsScaler DecisionTree                      0:00:41       0.0272    0.0113\n",
            "        24   MaxAbsScaler RandomForest                      0:01:01       0.0198    0.0113\n",
            "        25   MaxAbsScaler LightGBM                          0:00:48       0.0211    0.0113\n",
            "        26   MaxAbsScaler DecisionTree                      0:00:47       0.0157    0.0113\n",
            "        27   MaxAbsScaler RandomForest                      0:00:47       0.0221    0.0113\n",
            "        28   MaxAbsScaler ExtremeRandomTrees                0:00:46       0.0177    0.0113\n",
            "        29   MaxAbsScaler RandomForest                      0:01:01       0.0178    0.0113\n",
            "        30   MaxAbsScaler LightGBM                          0:00:46       0.0233    0.0113\n",
            "        31   MaxAbsScaler RandomForest                      0:00:48       0.0228    0.0113\n",
            "        32   MaxAbsScaler RandomForest                      0:00:53       0.0304    0.0113\n",
            "        33   MaxAbsScaler ExtremeRandomTrees                0:00:59       0.0237    0.0113\n",
            "        34   MaxAbsScaler RandomForest                      0:00:51       0.0257    0.0113\n",
            "        35   MaxAbsScaler LightGBM                          0:00:34       0.0243    0.0113\n",
            "        36                                                  0:00:07          nan    0.0113\n",
            "        37                                                  0:00:22          nan    0.0113\n",
            "        38    VotingEnsemble                                0:01:13       0.0113    0.0113\n",
            "        39    StackEnsemble                                 0:01:12       0.0113    0.0113\n"
          ]
        },
        {
          "output_type": "execute_result",
          "execution_count": 8,
          "data": {
            "text/plain": "{'runId': 'AutoML_b88cfcdf-7f5e-447d-8a2f-0f268afeff64',\n 'target': 'mercedes-cc',\n 'status': 'Completed',\n 'startTimeUtc': '2021-04-20T12:00:07.116127Z',\n 'endTimeUtc': '2021-04-20T12:17:49.838759Z',\n 'properties': {'num_iterations': '1000',\n  'training_type': 'TrainFull',\n  'acquisition_function': 'EI',\n  'primary_metric': 'normalized_mean_absolute_error',\n  'train_split': '0',\n  'acquisition_parameter': '0',\n  'num_cross_validation': None,\n  'target': 'mercedes-cc',\n  'AMLSettingsJsonString': '{\"path\":null,\"name\":\"mercedes-price-prediction\",\"subscription_id\":\"939d1c66-7864-4f15-8560-5c793c4110c8\",\"resource_group\":\"udacity-rg\",\"workspace_name\":\"udacity-ws\",\"region\":\"westeurope\",\"compute_target\":\"mercedes-cc\",\"spark_service\":null,\"azure_service\":\"remote\",\"many_models\":false,\"pipeline_fetch_max_batch_size\":1,\"enable_batch_run\":false,\"enable_run_restructure\":false,\"iterations\":1000,\"primary_metric\":\"normalized_mean_absolute_error\",\"task_type\":\"regression\",\"data_script\":null,\"test_size\":0.0,\"validation_size\":0.0,\"n_cross_validations\":null,\"y_min\":null,\"y_max\":null,\"num_classes\":null,\"featurization\":\"auto\",\"_ignore_package_version_incompatibilities\":false,\"is_timeseries\":false,\"max_cores_per_iteration\":1,\"max_concurrent_iterations\":5,\"iteration_timeout_minutes\":null,\"mem_in_mb\":null,\"enforce_time_on_windows\":false,\"experiment_timeout_minutes\":15,\"experiment_exit_score\":null,\"whitelist_models\":null,\"blacklist_algos\":[\"TensorFlowDNN\",\"TensorFlowLinearRegressor\"],\"supported_models\":[\"DecisionTree\",\"ExtremeRandomTrees\",\"TensorFlowLinearRegressor\",\"ElasticNet\",\"RandomForest\",\"XGBoostRegressor\",\"SGD\",\"FastLinearRegressor\",\"OnlineGradientDescentRegressor\",\"LassoLars\",\"GradientBoosting\",\"LightGBM\",\"KNN\",\"TensorFlowDNN\"],\"private_models\":[],\"auto_blacklist\":true,\"blacklist_samples_reached\":false,\"exclude_nan_labels\":true,\"verbosity\":20,\"_debug_log\":\"azureml_automl.log\",\"show_warnings\":false,\"model_explainability\":true,\"service_url\":null,\"sdk_url\":null,\"sdk_packages\":null,\"enable_onnx_compatible_models\":false,\"enable_split_onnx_featurizer_estimator_models\":false,\"vm_type\":\"STANDARD_DS2_V2\",\"telemetry_verbosity\":20,\"send_telemetry\":true,\"enable_dnn\":false,\"scenario\":\"SDK-1.13.0\",\"environment_label\":null,\"save_mlflow\":false,\"force_text_dnn\":false,\"enable_feature_sweeping\":true,\"enable_early_stopping\":true,\"early_stopping_n_iters\":10,\"metrics\":null,\"enable_metric_confidence\":false,\"enable_ensembling\":true,\"enable_stack_ensembling\":true,\"ensemble_iterations\":15,\"enable_tf\":false,\"enable_subsampling\":null,\"subsample_seed\":null,\"enable_nimbusml\":false,\"enable_streaming\":false,\"force_streaming\":false,\"track_child_runs\":true,\"allowed_private_models\":[],\"label_column_name\":\"price\",\"weight_column_name\":null,\"cv_split_column_names\":null,\"enable_local_managed\":false,\"_local_managed_run_id\":null,\"cost_mode\":1,\"lag_length\":0,\"metric_operation\":\"minimize\",\"preprocess\":true}',\n  'DataPrepJsonString': '{\\\\\"training_data\\\\\": {\\\\\"datasetId\\\\\": \\\\\"f3d238d6-2159-4501-b5bf-6a2d75e77de5\\\\\"}, \\\\\"datasets\\\\\": 0}',\n  'EnableSubsampling': None,\n  'runTemplate': 'AutoML',\n  'azureml.runsource': 'automl',\n  'display_task_type': 'regression',\n  'dependencies_versions': '{\"azureml-widgets\": \"1.26.0\", \"azureml-train\": \"1.26.0\", \"azureml-train-restclients-hyperdrive\": \"1.26.0\", \"azureml-train-core\": \"1.26.0\", \"azureml-train-automl\": \"1.26.0\", \"azureml-train-automl-runtime\": \"1.26.0\", \"azureml-train-automl-client\": \"1.26.0\", \"azureml-tensorboard\": \"1.26.0\", \"azureml-telemetry\": \"1.26.0\", \"azureml-sdk\": \"1.26.0\", \"azureml-samples\": \"0+unknown\", \"azureml-pipeline\": \"1.26.0\", \"azureml-pipeline-steps\": \"1.26.0\", \"azureml-pipeline-core\": \"1.26.0\", \"azureml-opendatasets\": \"1.26.0\", \"azureml-model-management-sdk\": \"1.0.1b6.post1\", \"azureml-mlflow\": \"1.26.0\", \"azureml-interpret\": \"1.26.0\", \"azureml-explain-model\": \"1.26.0\", \"azureml-defaults\": \"1.26.0\", \"azureml-dataset-runtime\": \"1.26.0\", \"azureml-dataprep\": \"2.13.2\", \"azureml-dataprep-rslex\": \"1.11.2\", \"azureml-dataprep-native\": \"32.0.0\", \"azureml-datadrift\": \"1.26.0\", \"azureml-core\": \"1.26.0\", \"azureml-contrib-services\": \"1.26.0\", \"azureml-contrib-server\": \"1.26.0\", \"azureml-contrib-reinforcementlearning\": \"1.26.0\", \"azureml-contrib-pipeline-steps\": \"1.26.0\", \"azureml-contrib-notebook\": \"1.26.0\", \"azureml-contrib-gbdt\": \"1.26.0\", \"azureml-contrib-fairness\": \"1.26.0\", \"azureml-contrib-dataset\": \"1.26.0\", \"azureml-cli-common\": \"1.26.0\", \"azureml-automl-runtime\": \"1.26.0\", \"azureml-automl-dnn-nlp\": \"1.26.0\", \"azureml-automl-core\": \"1.26.0\", \"azureml-accel-models\": \"1.26.0\"}',\n  '_aml_system_scenario_identification': 'Remote.Parent',\n  'ClientType': 'SDK',\n  'environment_cpu_name': 'AzureML-AutoML',\n  'environment_cpu_label': 'prod',\n  'environment_gpu_name': 'AzureML-AutoML-GPU',\n  'environment_gpu_label': 'prod',\n  'root_attribution': 'automl',\n  'attribution': 'AutoML',\n  'Orchestrator': 'AutoML',\n  'CancelUri': 'https://westeurope.api.azureml.ms/jasmine/v1.0/subscriptions/939d1c66-7864-4f15-8560-5c793c4110c8/resourceGroups/udacity-rg/providers/Microsoft.MachineLearningServices/workspaces/udacity-ws/experimentids/1f5b7a63-1008-44d9-b566-47b9f03b57db/cancel/AutoML_b88cfcdf-7f5e-447d-8a2f-0f268afeff64',\n  'ClientSdkVersion': '1.26.0',\n  'snapshotId': '00000000-0000-0000-0000-000000000000',\n  'SetupRunId': 'AutoML_b88cfcdf-7f5e-447d-8a2f-0f268afeff64_setup',\n  'SetupRunContainerId': 'dcid.AutoML_b88cfcdf-7f5e-447d-8a2f-0f268afeff64_setup',\n  'FeaturizationRunJsonPath': 'featurizer_container.json',\n  'FeaturizationRunId': 'AutoML_b88cfcdf-7f5e-447d-8a2f-0f268afeff64_featurize',\n  'ProblemInfoJsonString': '{\"dataset_num_categorical\": 0, \"is_sparse\": true, \"subsampling\": false, \"dataset_classes\": 4424, \"dataset_features\": 103, \"dataset_samples\": 13119, \"single_frequency_class_detected\": false}',\n  'ModelExplainRunId': 'AutoML_b88cfcdf-7f5e-447d-8a2f-0f268afeff64_ModelExplain'},\n 'inputDatasets': [{'dataset': {'id': 'f3d238d6-2159-4501-b5bf-6a2d75e77de5'}, 'consumptionDetails': {'type': 'RunInput', 'inputName': 'training_data', 'mechanism': 'Direct'}}],\n 'outputDatasets': [],\n 'logFiles': {},\n 'submittedBy': 'cz. official'}"
          },
          "metadata": {}
        }
      ],
      "execution_count": 8,
      "metadata": {
        "gather": {
          "logged": 1618921261796
        },
        "jupyter": {
          "outputs_hidden": false,
          "source_hidden": false
        },
        "nteract": {
          "transient": {
            "deleting": false
          }
        }
      }
    },
    {
      "cell_type": "markdown",
      "source": [
        "### Best Model\n",
        "\n",
        "Gets the best model from the automl experiment and displays all the properties of the model."
      ],
      "metadata": {}
    },
    {
      "cell_type": "code",
      "source": [
        "best_run, best_model = automl_run.get_output()\n",
        "print('\\n')\n",
        "print(best_run)\n",
        "print('\\n')\n",
        "print(best_model)"
      ],
      "outputs": [
        {
          "output_type": "stream",
          "name": "stdout",
          "text": [
            "\n",
            "\n",
            "Run(Experiment: mercedes-price-prediction,\n",
            "Id: AutoML_b88cfcdf-7f5e-447d-8a2f-0f268afeff64_0,\n",
            "Type: azureml.scriptrun,\n",
            "Status: Completed)\n",
            "\n",
            "\n",
            "RegressionPipeline(pipeline=Pipeline(memory=None,\n",
            "                                     steps=[('datatransformer',\n",
            "                                             DataTransformer(enable_dnn=None,\n",
            "                                                             enable_feature_sweeping=None,\n",
            "                                                             feature_sweeping_config=None,\n",
            "                                                             feature_sweeping_timeout=None,\n",
            "                                                             featurization_config=None,\n",
            "                                                             force_text_dnn=None,\n",
            "                                                             is_cross_validation=None,\n",
            "                                                             is_onnx_compatible=None,\n",
            "                                                             logger=None,\n",
            "                                                             observer=None,\n",
            "                                                             task=None,\n",
            "                                                             working_dir=None)),\n",
            "                                            ('Max...\n",
            "                                                               colsample_bytree=1.0,\n",
            "                                                               importance_type='split',\n",
            "                                                               learning_rate=0.1,\n",
            "                                                               max_depth=-1,\n",
            "                                                               min_child_samples=20,\n",
            "                                                               min_child_weight=0.001,\n",
            "                                                               min_split_gain=0.0,\n",
            "                                                               n_estimators=100,\n",
            "                                                               n_jobs=1,\n",
            "                                                               num_leaves=31,\n",
            "                                                               objective=None,\n",
            "                                                               random_state=None,\n",
            "                                                               reg_alpha=0.0,\n",
            "                                                               reg_lambda=0.0,\n",
            "                                                               silent=True,\n",
            "                                                               subsample=1.0,\n",
            "                                                               subsample_for_bin=200000,\n",
            "                                                               subsample_freq=0,\n",
            "                                                               verbose=-1))],\n",
            "                                     verbose=False),\n",
            "                   stddev=[3136.606791428484])\n"
          ]
        }
      ],
      "execution_count": 9,
      "metadata": {
        "gather": {
          "logged": 1618921302203
        },
        "jupyter": {
          "outputs_hidden": false,
          "source_hidden": false
        },
        "nteract": {
          "transient": {
            "deleting": false
          }
        }
      }
    },
    {
      "cell_type": "markdown",
      "source": [
        "Prints out all available metrics of the best model."
      ],
      "metadata": {
        "nteract": {
          "transient": {
            "deleting": false
          }
        }
      }
    },
    {
      "cell_type": "code",
      "source": [
        "automl_run_metrics = automl_run.get_metrics()\n",
        "automl_run_metrics"
      ],
      "outputs": [
        {
          "output_type": "execute_result",
          "execution_count": 10,
          "data": {
            "text/plain": "{'experiment_status': ['DatasetEvaluation',\n  'FeaturesGeneration',\n  'DatasetFeaturization',\n  'DatasetFeaturizationCompleted',\n  'DatasetCrossValidationSplit',\n  'ModelSelection',\n  'BestRunExplainModel',\n  'ModelExplanationDataSetSetup',\n  'PickSurrogateModel',\n  'EngineeredFeatureExplanations',\n  'EngineeredFeatureExplanations',\n  'RawFeaturesExplanations',\n  'RawFeaturesExplanations',\n  'BestRunExplainModel'],\n 'experiment_status_description': ['Gathering dataset statistics.',\n  'Generating features for the dataset.',\n  'Beginning to fit featurizers and featurize the dataset.',\n  'Completed fit featurizers and featurizing the dataset.',\n  'Generating individually featurized CV splits.',\n  'Beginning model selection.',\n  'Best run model explanations started',\n  'Model explanations data setup completed',\n  'Choosing LightGBM as the surrogate model for explanations',\n  'Computation of engineered features started',\n  'Computation of engineered features completed',\n  'Computation of raw features started',\n  'Computation of raw features completed',\n  'Best run model explanations completed'],\n 'normalized_root_mean_squared_error': 0.019622160805043972,\n 'normalized_root_mean_squared_log_error': 0.0256368636386055,\n 'spearman_correlation': 0.9674561446281308,\n 'mean_absolute_error': 1801.3507542906725,\n 'explained_variance': 0.9302602410211042,\n 'root_mean_squared_log_error': 0.14111605090080118,\n 'r2_score': 0.9302502821897441,\n 'normalized_mean_absolute_error': 0.011304437142942048,\n 'mean_absolute_percentage_error': 8.314871311449652,\n 'root_mean_squared_error': 3126.7717021229514,\n 'normalized_median_absolute_error': 0.007296114624030951,\n 'median_absolute_error': 1162.6285692247081}"
          },
          "metadata": {}
        }
      ],
      "execution_count": 10,
      "metadata": {
        "collapsed": true,
        "jupyter": {
          "source_hidden": false,
          "outputs_hidden": false
        },
        "nteract": {
          "transient": {
            "deleting": false
          }
        },
        "gather": {
          "logged": 1618921317585
        }
      }
    },
    {
      "cell_type": "markdown",
      "source": [
        "Prints out the best rund id and the mean absolute error of the best model."
      ],
      "metadata": {
        "nteract": {
          "transient": {
            "deleting": false
          }
        }
      }
    },
    {
      "cell_type": "code",
      "source": [
        "print('Best Run ID:', automl_run.id)\n",
        "print('Mean Absolute Error:', automl_run_metrics['mean_absolute_error'])"
      ],
      "outputs": [
        {
          "output_type": "stream",
          "name": "stdout",
          "text": [
            "Best Run ID: AutoML_b88cfcdf-7f5e-447d-8a2f-0f268afeff64\n",
            "Mean Absolute Error: 1801.3507542906725\n"
          ]
        }
      ],
      "execution_count": 11,
      "metadata": {
        "collapsed": true,
        "jupyter": {
          "source_hidden": false,
          "outputs_hidden": false
        },
        "nteract": {
          "transient": {
            "deleting": false
          }
        },
        "gather": {
          "logged": 1618921331383
        }
      }
    },
    {
      "cell_type": "markdown",
      "source": [
        "Saves the best model as pkl file."
      ],
      "metadata": {
        "nteract": {
          "transient": {
            "deleting": false
          }
        }
      }
    },
    {
      "cell_type": "code",
      "source": [
        "#Save the best model\n",
        "\n",
        "import joblib  \n",
        "joblib.dump(best_model, \"model.pkl\")"
      ],
      "outputs": [
        {
          "output_type": "execute_result",
          "execution_count": 12,
          "data": {
            "text/plain": "['model.pkl']"
          },
          "metadata": {}
        }
      ],
      "execution_count": 12,
      "metadata": {
        "gather": {
          "logged": 1618921338601
        },
        "jupyter": {
          "outputs_hidden": false,
          "source_hidden": false
        },
        "nteract": {
          "transient": {
            "deleting": false
          }
        }
      }
    },
    {
      "cell_type": "markdown",
      "source": [
        "### Model Deployment\n",
        "\n",
        "Registers best model."
      ],
      "metadata": {}
    },
    {
      "cell_type": "code",
      "source": [
        "model_name = best_run.properties['model_name']\n",
        "model_name"
      ],
      "outputs": [
        {
          "output_type": "execute_result",
          "execution_count": 13,
          "data": {
            "text/plain": "'AutoMLb88cfcdf70'"
          },
          "metadata": {}
        }
      ],
      "execution_count": 13,
      "metadata": {
        "collapsed": true,
        "jupyter": {
          "source_hidden": false,
          "outputs_hidden": false
        },
        "nteract": {
          "transient": {
            "deleting": false
          }
        },
        "gather": {
          "logged": 1618921346448
        }
      }
    },
    {
      "cell_type": "code",
      "source": [
        "model = automl_run.register_model(model_name=model_name)\n",
        "\n",
        "print(model.name, model.id, model.version)"
      ],
      "outputs": [
        {
          "output_type": "stream",
          "name": "stdout",
          "text": [
            "AutoMLb88cfcdf70 AutoMLb88cfcdf70:1 1\n"
          ]
        }
      ],
      "execution_count": 14,
      "metadata": {
        "gather": {
          "logged": 1618921351531
        },
        "jupyter": {
          "outputs_hidden": false,
          "source_hidden": false
        },
        "nteract": {
          "transient": {
            "deleting": false
          }
        }
      }
    },
    {
      "cell_type": "markdown",
      "source": [
        "Creates an inference config and deploys the model as a web service."
      ],
      "metadata": {
        "nteract": {
          "transient": {
            "deleting": false
          }
        }
      }
    },
    {
      "cell_type": "code",
      "source": [
        "from azureml.core.model import InferenceConfig\n",
        "from azureml.core.webservice import AciWebservice\n",
        "from azureml.core.environment import Environment\n",
        "from azureml.core.model import Model\n",
        "\n",
        "service_name = 'mercedes-predictor'\n",
        "env = best_run.get_environment()\n",
        "env.save_to_directory(path=\"Users/info.cz\")\n",
        "\n",
        "script_file = 'score.py'\n",
        "best_run.download_file('outputs/scoring_file_v_1_0_0.py', script_file)\n",
        "\n",
        "inference_config = InferenceConfig(entry_script=script_file, environment=env)\n",
        "aci_config = AciWebservice.deploy_configuration(cpu_cores=1, memory_gb=1)\n",
        "\n",
        "service = Model.deploy(workspace=ws,\n",
        "                       name=service_name,\n",
        "                       models=[model],\n",
        "                       inference_config=inference_config,\n",
        "                       deployment_config=aci_config)\n",
        "\n",
        "service.wait_for_deployment(show_output=True)\n",
        "\n",
        "print(\"State: \",service.state)\n",
        "print(\"S-URI: \",service.scoring_uri)"
      ],
      "outputs": [
        {
          "output_type": "stream",
          "name": "stdout",
          "text": [
            "Tips: You can try get_logs(): https://aka.ms/debugimage#dockerlog or local deployment: https://aka.ms/debugimage#debug-locally to debug if deployment takes longer than 10 minutes.\n",
            "Running\n",
            "2021-04-20 12:23:17+00:00 Creating Container Registry if not exists..\n",
            "2021-04-20 12:23:33+00:00 Registering the environment..\n",
            "2021-04-20 12:23:34+00:00 Use the existing image.\n",
            "2021-04-20 12:23:34+00:00 Generating deployment configuration.\n",
            "2021-04-20 12:23:35+00:00 Submitting deployment to compute..\n",
            "2021-04-20 12:23:41+00:00 Checking the status of deployment mercedes-predictor..\n",
            "2021-04-20 12:26:49+00:00 Checking the status of inference endpoint mercedes-predictor.\n",
            "Succeeded\n",
            "ACI service creation operation finished, operation \"Succeeded\"\n",
            "State:  Healthy\n",
            "S-URI:  http://a56d1b11-1bde-4589-bf40-cd1683522c97.westeurope.azurecontainer.io/score\n"
          ]
        }
      ],
      "execution_count": 16,
      "metadata": {
        "collapsed": true,
        "jupyter": {
          "source_hidden": false,
          "outputs_hidden": false
        },
        "nteract": {
          "transient": {
            "deleting": false
          }
        },
        "gather": {
          "logged": 1618921612576
        }
      }
    },
    {
      "cell_type": "markdown",
      "source": [
        "Sends a request to the deployed web service to test it."
      ],
      "metadata": {
        "nteract": {
          "transient": {
            "deleting": false
          }
        }
      }
    },
    {
      "cell_type": "code",
      "source": [
        "import requests\n",
        "import json\n",
        "\n",
        "# URL for the web service\n",
        "scoring_uri = 'http://a56d1b11-1bde-4589-bf40-cd1683522c97.westeurope.azurecontainer.io/score'\n",
        "\n",
        "# Two sets of data to score, so we get two results back\n",
        "data = {\"data\":\n",
        "        [\n",
        "          {\n",
        "                \"model\": \"G Class\",\n",
        "                \"year\": 2016,\n",
        "                \"transmission\": \"Automatic\",\n",
        "                \"mileage\": 16000,\n",
        "                \"fuelType\": \"Petrol\",\n",
        "                \"tax\": 325,\n",
        "                \"mpg\": 30.4,\n",
        "                \"engineSize\": 4.0\n",
        "          },\n",
        "          {\n",
        "                \"model\": \"G Class\",\n",
        "                \"year\": 2016,\n",
        "                \"transmission\": \"Automatic\",\n",
        "                \"mileage\": 100000,\n",
        "                \"fuelType\": \"Petrol\",\n",
        "                \"tax\": 325,\n",
        "                \"mpg\": 30.4,\n",
        "                \"engineSize\": 4.0\n",
        "          },\n",
        "      ]\n",
        "    }\n",
        "\n",
        "# Convert to JSON string\n",
        "input_data = json.dumps(data)\n",
        "\n",
        "# Set the content type\n",
        "headers = {'Content-Type': 'application/json'}\n",
        "\n",
        "# Make the request and display the response\n",
        "resp = requests.post(scoring_uri, input_data, headers=headers)\n",
        "print(resp.text)"
      ],
      "outputs": [
        {
          "output_type": "stream",
          "name": "stdout",
          "text": [
            "\"{\\\"result\\\": [56265.4312647257, 24857.945435516085]}\"\n"
          ]
        }
      ],
      "execution_count": 40,
      "metadata": {
        "collapsed": true,
        "jupyter": {
          "source_hidden": false,
          "outputs_hidden": false
        },
        "nteract": {
          "transient": {
            "deleting": false
          }
        },
        "gather": {
          "logged": 1618922847899
        }
      }
    },
    {
      "cell_type": "markdown",
      "source": [
        "Prints the logs of the web service."
      ],
      "metadata": {
        "nteract": {
          "transient": {
            "deleting": false
          }
        }
      }
    },
    {
      "cell_type": "code",
      "source": [
        "service.get_logs()"
      ],
      "outputs": [
        {
          "output_type": "execute_result",
          "execution_count": 41,
          "data": {
            "text/plain": "'2021-04-20T12:26:41,908594200+00:00 - gunicorn/run \\n2021-04-20T12:26:41,917155800+00:00 - iot-server/run \\n2021-04-20T12:26:41,925934000+00:00 - rsyslog/run \\n2021-04-20T12:26:41,996783700+00:00 - nginx/run \\n/usr/sbin/nginx: /azureml-envs/azureml_1c91e9a5baadb44a18d64bdd7f599d89/lib/libcrypto.so.1.0.0: no version information available (required by /usr/sbin/nginx)\\n/usr/sbin/nginx: /azureml-envs/azureml_1c91e9a5baadb44a18d64bdd7f599d89/lib/libcrypto.so.1.0.0: no version information available (required by /usr/sbin/nginx)\\n/usr/sbin/nginx: /azureml-envs/azureml_1c91e9a5baadb44a18d64bdd7f599d89/lib/libssl.so.1.0.0: no version information available (required by /usr/sbin/nginx)\\n/usr/sbin/nginx: /azureml-envs/azureml_1c91e9a5baadb44a18d64bdd7f599d89/lib/libssl.so.1.0.0: no version information available (required by /usr/sbin/nginx)\\n/usr/sbin/nginx: /azureml-envs/azureml_1c91e9a5baadb44a18d64bdd7f599d89/lib/libssl.so.1.0.0: no version information available (required by /usr/sbin/nginx)\\nrsyslogd: /azureml-envs/azureml_1c91e9a5baadb44a18d64bdd7f599d89/lib/libuuid.so.1: no version information available (required by rsyslogd)\\nEdgeHubConnectionString and IOTEDGE_IOTHUBHOSTNAME are not set. Exiting...\\n2021-04-20T12:26:42,325726600+00:00 - iot-server/finish 1 0\\n2021-04-20T12:26:42,328218700+00:00 - Exit code 1 is normal. Not restarting iot-server.\\nStarting gunicorn 19.9.0\\nListening at: http://127.0.0.1:31311 (67)\\nUsing worker: sync\\nworker timeout is set to 300\\nBooting worker with pid: 96\\nSPARK_HOME not set. Skipping PySpark Initialization.\\nGenerating new fontManager, this may take some time...\\nInitializing logger\\n2021-04-20 12:26:44,924 | root | INFO | Starting up app insights client\\n2021-04-20 12:26:44,924 | root | INFO | Starting up request id generator\\n2021-04-20 12:26:44,925 | root | INFO | Starting up app insight hooks\\n2021-04-20 12:26:44,925 | root | INFO | Invoking user\\'s init function\\n2021-04-20 12:26:49,813 | azureml.core | WARNING | Failure while loading azureml_run_type_providers. Failed to load entrypoint automl = azureml.train.automl.run:AutoMLRun._from_run_dto with exception cannot import name \\'RunType\\'.\\nFailure while loading azureml_run_type_providers. Failed to load entrypoint automl = azureml.train.automl.run:AutoMLRun._from_run_dto with exception cannot import name \\'RunType\\'.\\n2021-04-20 12:26:50,325 | root | INFO | Users\\'s init has completed successfully\\n2021-04-20 12:26:50,351 | root | INFO | Skipping middleware: dbg_model_info as it\\'s not enabled.\\n2021-04-20 12:26:50,352 | root | INFO | Skipping middleware: dbg_resource_usage as it\\'s not enabled.\\n2021-04-20 12:26:50,354 | root | INFO | Scoring timeout is found from os.environ: 60000 ms\\n2021-04-20 12:26:50,382 | root | INFO | 200\\n127.0.0.1 - - [20/Apr/2021:12:26:50 +0000] \"GET /swagger.json HTTP/1.0\" 200 2470 \"-\" \"Go-http-client/1.1\"\\n2021-04-20 12:26:51,911 | root | INFO | 200\\n127.0.0.1 - - [20/Apr/2021:12:26:51 +0000] \"GET /swagger.json HTTP/1.0\" 200 2470 \"-\" \"Go-http-client/1.1\"\\n2021-04-20 12:28:01,605 | root | INFO | Validation Request Content-Type\\n2021-04-20 12:28:01,605 | root | INFO | Scoring Timer is set to 60.0 seconds\\n2021-04-20 12:28:01,607 | root | ERROR | Encountered Exception: Traceback (most recent call last):\\n  File \"/var/azureml-server/synchronous/routes.py\", line 64, in run_scoring\\n    response = invoke_user_with_timer(service_input, request_headers)\\n  File \"/var/azureml-server/synchronous/routes.py\", line 97, in invoke_user_with_timer\\n    result = user_main.run(**params)\\nTypeError: FunctionWrapper object argument after ** must be a mapping, not list\\n\\nDuring handling of the above exception, another exception occurred:\\n\\nTraceback (most recent call last):\\n  File \"/azureml-envs/azureml_1c91e9a5baadb44a18d64bdd7f599d89/lib/python3.6/site-packages/flask/app.py\", line 1832, in full_dispatch_request\\n    rv = self.dispatch_request()\\n  File \"/azureml-envs/azureml_1c91e9a5baadb44a18d64bdd7f599d89/lib/python3.6/site-packages/flask/app.py\", line 1818, in dispatch_request\\n    return self.view_functions[rule.endpoint](**req.view_args)\\n  File \"/var/azureml-server/synchronous/routes.py\", line 43, in score_realtime\\n    return run_scoring(service_input, request.headers, request.environ.get(\\'REQUEST_ID\\', \\'00000000-0000-0000-0000-000000000000\\'))\\n  File \"/var/azureml-server/synchronous/routes.py\", line 77, in run_scoring\\n    raise RunFunctionException(str(exc))\\nrun_function_exception.RunFunctionException\\n\\n2021-04-20 12:28:01,608 | root | INFO | 500\\n127.0.0.1 - - [20/Apr/2021:12:28:01 +0000] \"POST /score HTTP/1.0\" 500 68 \"-\" \"python-requests/2.25.1\"\\nException in worker process\\nTraceback (most recent call last):\\n  File \"/azureml-envs/azureml_1c91e9a5baadb44a18d64bdd7f599d89/lib/python3.6/site-packages/gunicorn/arbiter.py\", line 583, in spawn_worker\\n    worker.init_process()\\n  File \"/azureml-envs/azureml_1c91e9a5baadb44a18d64bdd7f599d89/lib/python3.6/site-packages/gunicorn/workers/base.py\", line 134, in init_process\\n    self.run()\\n  File \"/azureml-envs/azureml_1c91e9a5baadb44a18d64bdd7f599d89/lib/python3.6/site-packages/gunicorn/workers/sync.py\", line 124, in run\\n    self.run_for_one(timeout)\\n  File \"/azureml-envs/azureml_1c91e9a5baadb44a18d64bdd7f599d89/lib/python3.6/site-packages/gunicorn/workers/sync.py\", line 83, in run_for_one\\n    self.wait(timeout)\\n  File \"/azureml-envs/azureml_1c91e9a5baadb44a18d64bdd7f599d89/lib/python3.6/site-packages/gunicorn/workers/sync.py\", line 35, in wait\\n    ret = select.select(self.wait_fds, [], [], timeout)\\n  File \"/var/azureml-server/routes_common.py\", line 162, in alarm_handler\\n    raise TimeoutException(error_message)\\ntimeout_exception.TimeoutException\\nWorker exiting (pid: 96)\\nworker timeout is set to 300\\nBooting worker with pid: 139\\nSPARK_HOME not set. Skipping PySpark Initialization.\\nInitializing logger\\n2021-04-20 12:29:03,797 | root | INFO | Starting up app insights client\\n2021-04-20 12:29:03,797 | root | INFO | Starting up request id generator\\n2021-04-20 12:29:03,797 | root | INFO | Starting up app insight hooks\\n2021-04-20 12:29:03,797 | root | INFO | Invoking user\\'s init function\\n2021-04-20 12:29:08,018 | azureml.core | WARNING | Failure while loading azureml_run_type_providers. Failed to load entrypoint automl = azureml.train.automl.run:AutoMLRun._from_run_dto with exception cannot import name \\'RunType\\'.\\nFailure while loading azureml_run_type_providers. Failed to load entrypoint automl = azureml.train.automl.run:AutoMLRun._from_run_dto with exception cannot import name \\'RunType\\'.\\n2021-04-20 12:29:08,478 | root | INFO | Users\\'s init has completed successfully\\n2021-04-20 12:29:08,480 | root | INFO | Skipping middleware: dbg_model_info as it\\'s not enabled.\\n2021-04-20 12:29:08,480 | root | INFO | Skipping middleware: dbg_resource_usage as it\\'s not enabled.\\n2021-04-20 12:29:08,487 | root | INFO | Scoring timeout is found from os.environ: 60000 ms\\n2021-04-20 12:29:08,521 | root | INFO | Validation Request Content-Type\\n2021-04-20 12:29:08,522 | root | INFO | Scoring Timer is set to 60.0 seconds\\n2021-04-20 12:29:08,529 | root | ERROR | Encountered Exception: Traceback (most recent call last):\\n  File \"/var/azureml-server/synchronous/routes.py\", line 64, in run_scoring\\n    response = invoke_user_with_timer(service_input, request_headers)\\n  File \"/var/azureml-server/synchronous/routes.py\", line 97, in invoke_user_with_timer\\n    result = user_main.run(**params)\\nTypeError: FunctionWrapper object argument after ** must be a mapping, not list\\n\\nDuring handling of the above exception, another exception occurred:\\n\\nTraceback (most recent call last):\\n  File \"/azureml-envs/azureml_1c91e9a5baadb44a18d64bdd7f599d89/lib/python3.6/site-packages/flask/app.py\", line 1832, in full_dispatch_request\\n    rv = self.dispatch_request()\\n  File \"/azureml-envs/azureml_1c91e9a5baadb44a18d64bdd7f599d89/lib/python3.6/site-packages/flask/app.py\", line 1818, in dispatch_request\\n    return self.view_functions[rule.endpoint](**req.view_args)\\n  File \"/var/azureml-server/synchronous/routes.py\", line 43, in score_realtime\\n    return run_scoring(service_input, request.headers, request.environ.get(\\'REQUEST_ID\\', \\'00000000-0000-0000-0000-000000000000\\'))\\n  File \"/var/azureml-server/synchronous/routes.py\", line 77, in run_scoring\\n    raise RunFunctionException(str(exc))\\nrun_function_exception.RunFunctionException\\n\\n2021-04-20 12:29:08,529 | root | INFO | 500\\n127.0.0.1 - - [20/Apr/2021:12:29:08 +0000] \"POST /score HTTP/1.0\" 500 68 \"-\" \"python-requests/2.25.1\"\\nException in worker process\\nTraceback (most recent call last):\\n  File \"/azureml-envs/azureml_1c91e9a5baadb44a18d64bdd7f599d89/lib/python3.6/site-packages/gunicorn/arbiter.py\", line 583, in spawn_worker\\n    worker.init_process()\\n  File \"/azureml-envs/azureml_1c91e9a5baadb44a18d64bdd7f599d89/lib/python3.6/site-packages/gunicorn/workers/base.py\", line 134, in init_process\\n    self.run()\\n  File \"/azureml-envs/azureml_1c91e9a5baadb44a18d64bdd7f599d89/lib/python3.6/site-packages/gunicorn/workers/sync.py\", line 124, in run\\n    self.run_for_one(timeout)\\n  File \"/azureml-envs/azureml_1c91e9a5baadb44a18d64bdd7f599d89/lib/python3.6/site-packages/gunicorn/workers/sync.py\", line 83, in run_for_one\\n    self.wait(timeout)\\n  File \"/azureml-envs/azureml_1c91e9a5baadb44a18d64bdd7f599d89/lib/python3.6/site-packages/gunicorn/workers/sync.py\", line 35, in wait\\n    ret = select.select(self.wait_fds, [], [], timeout)\\n  File \"/var/azureml-server/routes_common.py\", line 162, in alarm_handler\\n    raise TimeoutException(error_message)\\ntimeout_exception.TimeoutException\\nWorker exiting (pid: 139)\\nworker timeout is set to 300\\nBooting worker with pid: 169\\nSPARK_HOME not set. Skipping PySpark Initialization.\\nInitializing logger\\n2021-04-20 12:30:10,815 | root | INFO | Starting up app insights client\\n2021-04-20 12:30:10,816 | root | INFO | Starting up request id generator\\n2021-04-20 12:30:10,816 | root | INFO | Starting up app insight hooks\\n2021-04-20 12:30:10,817 | root | INFO | Invoking user\\'s init function\\n2021-04-20 12:30:15,069 | azureml.core | WARNING | Failure while loading azureml_run_type_providers. Failed to load entrypoint automl = azureml.train.automl.run:AutoMLRun._from_run_dto with exception cannot import name \\'RunType\\'.\\nFailure while loading azureml_run_type_providers. Failed to load entrypoint automl = azureml.train.automl.run:AutoMLRun._from_run_dto with exception cannot import name \\'RunType\\'.\\n2021-04-20 12:30:15,549 | root | INFO | Users\\'s init has completed successfully\\n2021-04-20 12:30:15,551 | root | INFO | Skipping middleware: dbg_model_info as it\\'s not enabled.\\n2021-04-20 12:30:15,551 | root | INFO | Skipping middleware: dbg_resource_usage as it\\'s not enabled.\\n2021-04-20 12:30:15,558 | root | INFO | Scoring timeout is found from os.environ: 60000 ms\\n2021-04-20 12:30:40,723 | root | INFO | Validation Request Content-Type\\n2021-04-20 12:30:40,724 | root | INFO | Scoring Timer is set to 60.0 seconds\\n2021-04-20 12:30:40,727 | root | ERROR | Encountered Exception: Traceback (most recent call last):\\n  File \"/var/azureml-server/synchronous/routes.py\", line 64, in run_scoring\\n    response = invoke_user_with_timer(service_input, request_headers)\\n  File \"/var/azureml-server/synchronous/routes.py\", line 97, in invoke_user_with_timer\\n    result = user_main.run(**params)\\nTypeError: FunctionWrapper object argument after ** must be a mapping, not list\\n\\nDuring handling of the above exception, another exception occurred:\\n\\nTraceback (most recent call last):\\n  File \"/azureml-envs/azureml_1c91e9a5baadb44a18d64bdd7f599d89/lib/python3.6/site-packages/flask/app.py\", line 1832, in full_dispatch_request\\n    rv = self.dispatch_request()\\n  File \"/azureml-envs/azureml_1c91e9a5baadb44a18d64bdd7f599d89/lib/python3.6/site-packages/flask/app.py\", line 1818, in dispatch_request\\n    return self.view_functions[rule.endpoint](**req.view_args)\\n  File \"/var/azureml-server/synchronous/routes.py\", line 43, in score_realtime\\n    return run_scoring(service_input, request.headers, request.environ.get(\\'REQUEST_ID\\', \\'00000000-0000-0000-0000-000000000000\\'))\\n  File \"/var/azureml-server/synchronous/routes.py\", line 77, in run_scoring\\n    raise RunFunctionException(str(exc))\\nrun_function_exception.RunFunctionException\\n\\n2021-04-20 12:30:40,727 | root | INFO | 500\\n127.0.0.1 - - [20/Apr/2021:12:30:40 +0000] \"POST /score HTTP/1.0\" 500 68 \"-\" \"python-requests/2.25.1\"\\nException in worker process\\nTraceback (most recent call last):\\n  File \"/azureml-envs/azureml_1c91e9a5baadb44a18d64bdd7f599d89/lib/python3.6/site-packages/gunicorn/arbiter.py\", line 583, in spawn_worker\\n    worker.init_process()\\n  File \"/azureml-envs/azureml_1c91e9a5baadb44a18d64bdd7f599d89/lib/python3.6/site-packages/gunicorn/workers/base.py\", line 134, in init_process\\n    self.run()\\n  File \"/azureml-envs/azureml_1c91e9a5baadb44a18d64bdd7f599d89/lib/python3.6/site-packages/gunicorn/workers/sync.py\", line 124, in run\\n    self.run_for_one(timeout)\\n  File \"/azureml-envs/azureml_1c91e9a5baadb44a18d64bdd7f599d89/lib/python3.6/site-packages/gunicorn/workers/sync.py\", line 83, in run_for_one\\n    self.wait(timeout)\\n  File \"/azureml-envs/azureml_1c91e9a5baadb44a18d64bdd7f599d89/lib/python3.6/site-packages/gunicorn/workers/sync.py\", line 35, in wait\\n    ret = select.select(self.wait_fds, [], [], timeout)\\n  File \"/var/azureml-server/routes_common.py\", line 162, in alarm_handler\\n    raise TimeoutException(error_message)\\ntimeout_exception.TimeoutException\\nWorker exiting (pid: 169)\\nworker timeout is set to 300\\nBooting worker with pid: 201\\nSPARK_HOME not set. Skipping PySpark Initialization.\\nInitializing logger\\n2021-04-20 12:31:43,012 | root | INFO | Starting up app insights client\\n2021-04-20 12:31:43,012 | root | INFO | Starting up request id generator\\n2021-04-20 12:31:43,012 | root | INFO | Starting up app insight hooks\\n2021-04-20 12:31:43,012 | root | INFO | Invoking user\\'s init function\\n2021-04-20 12:31:47,234 | azureml.core | WARNING | Failure while loading azureml_run_type_providers. Failed to load entrypoint automl = azureml.train.automl.run:AutoMLRun._from_run_dto with exception cannot import name \\'RunType\\'.\\nFailure while loading azureml_run_type_providers. Failed to load entrypoint automl = azureml.train.automl.run:AutoMLRun._from_run_dto with exception cannot import name \\'RunType\\'.\\n2021-04-20 12:31:47,738 | root | INFO | Users\\'s init has completed successfully\\n2021-04-20 12:31:47,740 | root | INFO | Skipping middleware: dbg_model_info as it\\'s not enabled.\\n2021-04-20 12:31:47,740 | root | INFO | Skipping middleware: dbg_resource_usage as it\\'s not enabled.\\n2021-04-20 12:31:47,743 | root | INFO | Scoring timeout is found from os.environ: 60000 ms\\n2021-04-20 12:32:49,454 | root | INFO | Validation Request Content-Type\\n2021-04-20 12:32:49,455 | root | INFO | Scoring Timer is set to 60.0 seconds\\n2021-04-20 12:32:49,457 | root | ERROR | Encountered Exception: Traceback (most recent call last):\\n  File \"/var/azureml-server/synchronous/routes.py\", line 64, in run_scoring\\n    response = invoke_user_with_timer(service_input, request_headers)\\n  File \"/var/azureml-server/synchronous/routes.py\", line 97, in invoke_user_with_timer\\n    result = user_main.run(**params)\\nTypeError: FunctionWrapper object argument after ** must be a mapping, not list\\n\\nDuring handling of the above exception, another exception occurred:\\n\\nTraceback (most recent call last):\\n  File \"/azureml-envs/azureml_1c91e9a5baadb44a18d64bdd7f599d89/lib/python3.6/site-packages/flask/app.py\", line 1832, in full_dispatch_request\\n    rv = self.dispatch_request()\\n  File \"/azureml-envs/azureml_1c91e9a5baadb44a18d64bdd7f599d89/lib/python3.6/site-packages/flask/app.py\", line 1818, in dispatch_request\\n    return self.view_functions[rule.endpoint](**req.view_args)\\n  File \"/var/azureml-server/synchronous/routes.py\", line 43, in score_realtime\\n    return run_scoring(service_input, request.headers, request.environ.get(\\'REQUEST_ID\\', \\'00000000-0000-0000-0000-000000000000\\'))\\n  File \"/var/azureml-server/synchronous/routes.py\", line 77, in run_scoring\\n    raise RunFunctionException(str(exc))\\nrun_function_exception.RunFunctionException\\n\\n2021-04-20 12:32:49,457 | root | INFO | 500\\n127.0.0.1 - - [20/Apr/2021:12:32:49 +0000] \"POST /score HTTP/1.0\" 500 68 \"-\" \"python-requests/2.25.1\"\\n2021-04-20 12:33:36,886 | root | INFO | 200\\n127.0.0.1 - - [20/Apr/2021:12:33:36 +0000] \"GET /swagger.json HTTP/1.0\" 200 2470 \"-\" \"Go-http-client/1.1\"\\n2021-04-20 12:33:39,435 | root | INFO | 200\\n127.0.0.1 - - [20/Apr/2021:12:33:39 +0000] \"GET /swagger.json HTTP/1.0\" 200 2470 \"-\" \"Go-http-client/1.1\"\\n2021-04-20 12:33:47,125 | root | INFO | 200\\n127.0.0.1 - - [20/Apr/2021:12:33:47 +0000] \"GET /swagger.json HTTP/1.0\" 200 2470 \"-\" \"Go-http-client/1.1\"\\nException in worker process\\nTraceback (most recent call last):\\n  File \"/azureml-envs/azureml_1c91e9a5baadb44a18d64bdd7f599d89/lib/python3.6/site-packages/gunicorn/arbiter.py\", line 583, in spawn_worker\\n    worker.init_process()\\n  File \"/azureml-envs/azureml_1c91e9a5baadb44a18d64bdd7f599d89/lib/python3.6/site-packages/gunicorn/workers/base.py\", line 134, in init_process\\n    self.run()\\n  File \"/azureml-envs/azureml_1c91e9a5baadb44a18d64bdd7f599d89/lib/python3.6/site-packages/gunicorn/workers/sync.py\", line 124, in run\\n    self.run_for_one(timeout)\\n  File \"/azureml-envs/azureml_1c91e9a5baadb44a18d64bdd7f599d89/lib/python3.6/site-packages/gunicorn/workers/sync.py\", line 83, in run_for_one\\n    self.wait(timeout)\\n  File \"/azureml-envs/azureml_1c91e9a5baadb44a18d64bdd7f599d89/lib/python3.6/site-packages/gunicorn/workers/sync.py\", line 35, in wait\\n    ret = select.select(self.wait_fds, [], [], timeout)\\n  File \"/var/azureml-server/routes_common.py\", line 162, in alarm_handler\\n    raise TimeoutException(error_message)\\ntimeout_exception.TimeoutException\\nWorker exiting (pid: 201)\\nworker timeout is set to 300\\nBooting worker with pid: 238\\nSPARK_HOME not set. Skipping PySpark Initialization.\\nInitializing logger\\n2021-04-20 12:33:51,921 | root | INFO | Starting up app insights client\\n2021-04-20 12:33:51,921 | root | INFO | Starting up request id generator\\n2021-04-20 12:33:51,922 | root | INFO | Starting up app insight hooks\\n2021-04-20 12:33:51,922 | root | INFO | Invoking user\\'s init function\\n2021-04-20 12:33:56,469 | azureml.core | WARNING | Failure while loading azureml_run_type_providers. Failed to load entrypoint automl = azureml.train.automl.run:AutoMLRun._from_run_dto with exception cannot import name \\'RunType\\'.\\nFailure while loading azureml_run_type_providers. Failed to load entrypoint automl = azureml.train.automl.run:AutoMLRun._from_run_dto with exception cannot import name \\'RunType\\'.\\n2021-04-20 12:33:56,961 | root | INFO | Users\\'s init has completed successfully\\n2021-04-20 12:33:56,965 | root | INFO | Skipping middleware: dbg_model_info as it\\'s not enabled.\\n2021-04-20 12:33:56,965 | root | INFO | Skipping middleware: dbg_resource_usage as it\\'s not enabled.\\n2021-04-20 12:33:56,969 | root | INFO | Scoring timeout is found from os.environ: 60000 ms\\n2021-04-20 12:33:57,007 | root | INFO | 200\\n127.0.0.1 - - [20/Apr/2021:12:33:57 +0000] \"GET /swagger.json HTTP/1.0\" 200 2470 \"-\" \"Go-http-client/1.1\"\\n2021-04-20 12:33:58,060 | root | INFO | 200\\n127.0.0.1 - - [20/Apr/2021:12:33:58 +0000] \"GET /swagger.json HTTP/1.0\" 200 2470 \"-\" \"Go-http-client/1.1\"\\n2021-04-20 12:34:05,788 | root | INFO | Validation Request Content-Type\\n2021-04-20 12:34:05,791 | root | INFO | Scoring Timer is set to 60.0 seconds\\n2021-04-20 12:34:05,890 | root | INFO | 200\\n127.0.0.1 - - [20/Apr/2021:12:34:05 +0000] \"POST /score?verbose=true HTTP/1.0\" 200 35 \"-\" \"Go-http-client/1.1\"\\n2021-04-20 12:34:43,156 | root | INFO | Validation Request Content-Type\\n2021-04-20 12:34:43,157 | root | INFO | Scoring Timer is set to 60.0 seconds\\n2021-04-20 12:34:43,160 | root | ERROR | Encountered Exception: Traceback (most recent call last):\\n  File \"/var/azureml-server/synchronous/routes.py\", line 64, in run_scoring\\n    response = invoke_user_with_timer(service_input, request_headers)\\n  File \"/var/azureml-server/synchronous/routes.py\", line 97, in invoke_user_with_timer\\n    result = user_main.run(**params)\\n  File \"/azureml-envs/azureml_1c91e9a5baadb44a18d64bdd7f599d89/lib/python3.6/site-packages/wrapt/wrappers.py\", line 564, in __call__\\n    args, kwargs)\\n  File \"/azureml-envs/azureml_1c91e9a5baadb44a18d64bdd7f599d89/lib/python3.6/site-packages/inference_schema/schema_decorators.py\", line 55, in decorator_input\\n    args[param_position] = _deserialize_input_argument(args[param_position], param_type, param_name)\\nIndexError: list index out of range\\n\\nDuring handling of the above exception, another exception occurred:\\n\\nTraceback (most recent call last):\\n  File \"/azureml-envs/azureml_1c91e9a5baadb44a18d64bdd7f599d89/lib/python3.6/site-packages/flask/app.py\", line 1832, in full_dispatch_request\\n    rv = self.dispatch_request()\\n  File \"/azureml-envs/azureml_1c91e9a5baadb44a18d64bdd7f599d89/lib/python3.6/site-packages/flask/app.py\", line 1818, in dispatch_request\\n    return self.view_functions[rule.endpoint](**req.view_args)\\n  File \"/var/azureml-server/synchronous/routes.py\", line 43, in score_realtime\\n    return run_scoring(service_input, request.headers, request.environ.get(\\'REQUEST_ID\\', \\'00000000-0000-0000-0000-000000000000\\'))\\n  File \"/var/azureml-server/synchronous/routes.py\", line 77, in run_scoring\\n    raise RunFunctionException(str(exc))\\nrun_function_exception.RunFunctionException\\n\\n2021-04-20 12:34:43,160 | root | INFO | 500\\n127.0.0.1 - - [20/Apr/2021:12:34:43 +0000] \"POST /score HTTP/1.0\" 500 23 \"-\" \"python-requests/2.25.1\"\\nException in worker process\\nTraceback (most recent call last):\\n  File \"/azureml-envs/azureml_1c91e9a5baadb44a18d64bdd7f599d89/lib/python3.6/site-packages/gunicorn/arbiter.py\", line 583, in spawn_worker\\n    worker.init_process()\\n  File \"/azureml-envs/azureml_1c91e9a5baadb44a18d64bdd7f599d89/lib/python3.6/site-packages/gunicorn/workers/base.py\", line 134, in init_process\\n    self.run()\\n  File \"/azureml-envs/azureml_1c91e9a5baadb44a18d64bdd7f599d89/lib/python3.6/site-packages/gunicorn/workers/sync.py\", line 124, in run\\n    self.run_for_one(timeout)\\n  File \"/azureml-envs/azureml_1c91e9a5baadb44a18d64bdd7f599d89/lib/python3.6/site-packages/gunicorn/workers/sync.py\", line 83, in run_for_one\\n    self.wait(timeout)\\n  File \"/azureml-envs/azureml_1c91e9a5baadb44a18d64bdd7f599d89/lib/python3.6/site-packages/gunicorn/workers/sync.py\", line 35, in wait\\n    ret = select.select(self.wait_fds, [], [], timeout)\\n  File \"/var/azureml-server/routes_common.py\", line 162, in alarm_handler\\n    raise TimeoutException(error_message)\\ntimeout_exception.TimeoutException\\nWorker exiting (pid: 238)\\nworker timeout is set to 300\\nBooting worker with pid: 277\\nSPARK_HOME not set. Skipping PySpark Initialization.\\nInitializing logger\\n2021-04-20 12:35:45,501 | root | INFO | Starting up app insights client\\n2021-04-20 12:35:45,502 | root | INFO | Starting up request id generator\\n2021-04-20 12:35:45,502 | root | INFO | Starting up app insight hooks\\n2021-04-20 12:35:45,502 | root | INFO | Invoking user\\'s init function\\n2021-04-20 12:35:49,769 | azureml.core | WARNING | Failure while loading azureml_run_type_providers. Failed to load entrypoint automl = azureml.train.automl.run:AutoMLRun._from_run_dto with exception cannot import name \\'RunType\\'.\\nFailure while loading azureml_run_type_providers. Failed to load entrypoint automl = azureml.train.automl.run:AutoMLRun._from_run_dto with exception cannot import name \\'RunType\\'.\\n2021-04-20 12:35:50,251 | root | INFO | Users\\'s init has completed successfully\\n2021-04-20 12:35:50,274 | root | INFO | Skipping middleware: dbg_model_info as it\\'s not enabled.\\n2021-04-20 12:35:50,275 | root | INFO | Skipping middleware: dbg_resource_usage as it\\'s not enabled.\\n2021-04-20 12:35:50,280 | root | INFO | Scoring timeout is found from os.environ: 60000 ms\\n2021-04-20 12:45:51,626 | root | INFO | Validation Request Content-Type\\n2021-04-20 12:45:51,627 | root | INFO | Scoring Timer is set to 60.0 seconds\\n2021-04-20 12:45:51,710 | root | INFO | 200\\n127.0.0.1 - - [20/Apr/2021:12:45:51 +0000] \"POST /score HTTP/1.0\" 200 52 \"-\" \"python-requests/2.25.1\"\\n2021-04-20 12:46:10,077 | root | INFO | Validation Request Content-Type\\n2021-04-20 12:46:10,078 | root | INFO | Scoring Timer is set to 60.0 seconds\\n2021-04-20 12:46:10,144 | root | INFO | 200\\n127.0.0.1 - - [20/Apr/2021:12:46:10 +0000] \"POST /score HTTP/1.0\" 200 54 \"-\" \"python-requests/2.25.1\"\\n2021-04-20 12:47:27,383 | root | INFO | Validation Request Content-Type\\n2021-04-20 12:47:27,385 | root | INFO | Scoring Timer is set to 60.0 seconds\\n2021-04-20 12:47:27,459 | root | INFO | 200\\n127.0.0.1 - - [20/Apr/2021:12:47:27 +0000] \"POST /score HTTP/1.0\" 200 54 \"-\" \"python-requests/2.25.1\"\\n'"
          },
          "metadata": {}
        }
      ],
      "execution_count": 41,
      "metadata": {
        "jupyter": {
          "outputs_hidden": false,
          "source_hidden": false
        },
        "nteract": {
          "transient": {
            "deleting": false
          }
        },
        "gather": {
          "logged": 1618922872039
        }
      }
    },
    {
      "cell_type": "markdown",
      "source": [
        "Deletes the service."
      ],
      "metadata": {
        "nteract": {
          "transient": {
            "deleting": false
          }
        }
      }
    },
    {
      "cell_type": "code",
      "source": [
        "service.delete()"
      ],
      "outputs": [],
      "execution_count": null,
      "metadata": {
        "collapsed": true,
        "jupyter": {
          "source_hidden": false,
          "outputs_hidden": false
        },
        "nteract": {
          "transient": {
            "deleting": false
          }
        },
        "gather": {
          "logged": 1618311007354
        }
      }
    }
  ],
  "metadata": {
    "kernel_info": {
      "name": "python3"
    },
    "kernelspec": {
      "name": "python3",
      "language": "python",
      "display_name": "Python 3"
    },
    "language_info": {
      "name": "python",
      "version": "3.6.9",
      "mimetype": "text/x-python",
      "codemirror_mode": {
        "name": "ipython",
        "version": 3
      },
      "pygments_lexer": "ipython3",
      "nbconvert_exporter": "python",
      "file_extension": ".py"
    },
    "nteract": {
      "version": "nteract-front-end@1.0.0"
    },
    "microsoft": {
      "host": {
        "AzureML": {
          "notebookHasBeenCompleted": true
        }
      }
    }
  },
  "nbformat": 4,
  "nbformat_minor": 2
}