{
  "cells": [
    {
      "cell_type": "markdown",
      "source": [
        "## Automated ML\n",
        "\n",
        "This project is part of the Udacity Azure ML Nanodegree."
      ],
      "metadata": {}
    },
    {
      "cell_type": "code",
      "source": [
        "import azureml.core\n",
        "\n",
        "print(\"SDK version:\", azureml.core.VERSION)"
      ],
      "outputs": [
        {
          "output_type": "stream",
          "name": "stdout",
          "text": [
            "SDK version: 1.24.0\n"
          ]
        }
      ],
      "execution_count": 1,
      "metadata": {
        "gather": {
          "logged": 1618304231250
        },
        "jupyter": {
          "outputs_hidden": false,
          "source_hidden": false
        },
        "nteract": {
          "transient": {
            "deleting": false
          }
        }
      }
    },
    {
      "cell_type": "markdown",
      "source": [
        "### Overview\n",
        "Please refer to the Github README file for a comprehensive overview of the project, including all details regarding the dataset.\n",
        "\n",
        "As this is a Mercedes-Benz used car price prediction project, I will be performing an Azure AutoML Regressor in order to retrieve the best model for a price prediction.\n",
        "\n",
        "Steps in this notebook include:\n",
        "- Experiment\n",
        "- Compute\n",
        "- Dataset\n",
        "- AutoML Configuration\n",
        "- Run Details\n",
        "- Best Model\n",
        "- Model Depyloment"
      ],
      "metadata": {}
    },
    {
      "cell_type": "markdown",
      "source": [
        "### Experiment\n",
        "\n",
        "Creates the experiment called 'mercedes-price-prediction-experiment'."
      ],
      "metadata": {
        "nteract": {
          "transient": {
            "deleting": false
          }
        }
      }
    },
    {
      "cell_type": "code",
      "source": [
        "from azureml.core.experiment import Experiment\n",
        "from azureml.core.workspace import Workspace\n",
        "\n",
        "ws = Workspace.from_config()\n",
        "\n",
        "experiment_name = 'mercedes-price-prediction-experiment-2nd-version'\n",
        "\n",
        "experiment = Experiment(ws, experiment_name)\n",
        "\n",
        "print(ws.name, ws.resource_group, ws.location, ws.subscription_id, sep = '\\n')\n",
        "print('\\n')\n",
        "print(experiment)"
      ],
      "outputs": [
        {
          "output_type": "stream",
          "name": "stdout",
          "text": [
            "udacity-ws\n",
            "udacity-rg\n",
            "westeurope\n",
            "009f51ba-ba0a-4c91-aadf-56aa26b996cb\n",
            "\n",
            "\n",
            "Experiment(Name: mercedes-price-prediction-experiment-2nd-version,\n",
            "Workspace: udacity-ws)\n"
          ]
        }
      ],
      "execution_count": 2,
      "metadata": {
        "gather": {
          "logged": 1618304248362
        },
        "jupyter": {
          "outputs_hidden": false,
          "source_hidden": false
        },
        "nteract": {
          "transient": {
            "deleting": false
          }
        }
      }
    },
    {
      "cell_type": "markdown",
      "source": [
        "### Compute\n",
        "\n",
        "Chooses the already existing compute cluster.\n",
        "\n",
        "If it didn't exist, it'll be created instead."
      ],
      "metadata": {
        "nteract": {
          "transient": {
            "deleting": false
          }
        }
      }
    },
    {
      "cell_type": "code",
      "source": [
        "from azureml.core.compute import ComputeTarget, AmlCompute\n",
        "from azureml.core.compute_target import ComputeTargetException\n",
        "\n",
        "# Choose a name for your CPU cluster\n",
        "cpu_cluster_name = \"mercedes-cc\"\n",
        "\n",
        "# Verify that cluster does not exist already\n",
        "try:\n",
        "    cpu_cluster = ComputeTarget(workspace=ws, name=cpu_cluster_name)\n",
        "    print('Found existing cluster, use it.')\n",
        "except ComputeTargetException:\n",
        "    compute_config = AmlCompute.provisioning_configuration(vm_size='STANDARD_D2_V2',\n",
        "                                                              max_nodes=4)\n",
        "    cpu_cluster = ComputeTarget.create(ws, cpu_cluster_name, compute_config)\n",
        "\n",
        "cpu_cluster.wait_for_completion(show_output=True)"
      ],
      "outputs": [
        {
          "output_type": "stream",
          "name": "stdout",
          "text": [
            "Found existing cluster, use it.\n",
            "Succeeded\n",
            "AmlCompute wait for completion finished\n",
            "\n",
            "Minimum number of nodes requested have been provisioned\n"
          ]
        }
      ],
      "execution_count": 3,
      "metadata": {
        "collapsed": true,
        "jupyter": {
          "source_hidden": false,
          "outputs_hidden": false
        },
        "nteract": {
          "transient": {
            "deleting": false
          }
        },
        "gather": {
          "logged": 1618304254603
        }
      }
    },
    {
      "cell_type": "markdown",
      "source": [
        "### Dataset\n",
        "\n",
        "Loads the already registered dataset called 'mercedes'.\n",
        "\n",
        "Prints out if dataset was found or not."
      ],
      "metadata": {
        "nteract": {
          "transient": {
            "deleting": false
          }
        }
      }
    },
    {
      "cell_type": "code",
      "source": [
        "found = False\n",
        "key = \"mercedes\"\n",
        "\n",
        "if key in ws.datasets.keys():\n",
        "    found = True\n",
        "    dataset = ws.datasets[key]\n",
        "    print(\"dataset found\")\n",
        "\n",
        "if not found:\n",
        "    print(\"dataset not found\")"
      ],
      "outputs": [
        {
          "output_type": "stream",
          "name": "stdout",
          "text": [
            "dataset found\n"
          ]
        }
      ],
      "execution_count": 4,
      "metadata": {
        "collapsed": true,
        "jupyter": {
          "source_hidden": false,
          "outputs_hidden": false
        },
        "nteract": {
          "transient": {
            "deleting": false
          }
        },
        "gather": {
          "logged": 1618304262900
        }
      }
    },
    {
      "cell_type": "markdown",
      "source": [
        "Prints out an overview of the dataset to ensure the quality of the dataset. For instance, 13.119 datapoints are available in each column. The price ranges from 650 to 159.999 British Pounds. This sounds reasonable for a Mercedes-Benz car, considering the average year of registration (2017)."
      ],
      "metadata": {
        "nteract": {
          "transient": {
            "deleting": false
          }
        }
      }
    },
    {
      "cell_type": "code",
      "source": [
        "df = dataset.to_pandas_dataframe()\n",
        "\n",
        "df.describe()"
      ],
      "outputs": [
        {
          "output_type": "execute_result",
          "execution_count": 5,
          "data": {
            "text/plain": "               year          price        mileage           tax           mpg  \\\ncount  13119.000000   13119.000000   13119.000000  13119.000000  13119.000000   \nmean    2017.296288   24698.596920   21949.559037    129.972178     55.155843   \nstd        2.224709   11842.675542   21176.512267     65.260286     15.220082   \nmin     1970.000000     650.000000       1.000000      0.000000      1.100000   \n25%     2016.000000   17450.000000    6097.500000    125.000000     45.600000   \n50%     2018.000000   22480.000000   15189.000000    145.000000     56.500000   \n75%     2019.000000   28980.000000   31779.500000    145.000000     64.200000   \nmax     2020.000000  159999.000000  259000.000000    580.000000    217.300000   \n\n         engineSize  \ncount  13119.000000  \nmean       2.071530  \nstd        0.572426  \nmin        0.000000  \n25%        1.800000  \n50%        2.000000  \n75%        2.100000  \nmax        6.200000  ",
            "text/html": "<div>\n<style scoped>\n    .dataframe tbody tr th:only-of-type {\n        vertical-align: middle;\n    }\n\n    .dataframe tbody tr th {\n        vertical-align: top;\n    }\n\n    .dataframe thead th {\n        text-align: right;\n    }\n</style>\n<table border=\"1\" class=\"dataframe\">\n  <thead>\n    <tr style=\"text-align: right;\">\n      <th></th>\n      <th>year</th>\n      <th>price</th>\n      <th>mileage</th>\n      <th>tax</th>\n      <th>mpg</th>\n      <th>engineSize</th>\n    </tr>\n  </thead>\n  <tbody>\n    <tr>\n      <th>count</th>\n      <td>13119.000000</td>\n      <td>13119.000000</td>\n      <td>13119.000000</td>\n      <td>13119.000000</td>\n      <td>13119.000000</td>\n      <td>13119.000000</td>\n    </tr>\n    <tr>\n      <th>mean</th>\n      <td>2017.296288</td>\n      <td>24698.596920</td>\n      <td>21949.559037</td>\n      <td>129.972178</td>\n      <td>55.155843</td>\n      <td>2.071530</td>\n    </tr>\n    <tr>\n      <th>std</th>\n      <td>2.224709</td>\n      <td>11842.675542</td>\n      <td>21176.512267</td>\n      <td>65.260286</td>\n      <td>15.220082</td>\n      <td>0.572426</td>\n    </tr>\n    <tr>\n      <th>min</th>\n      <td>1970.000000</td>\n      <td>650.000000</td>\n      <td>1.000000</td>\n      <td>0.000000</td>\n      <td>1.100000</td>\n      <td>0.000000</td>\n    </tr>\n    <tr>\n      <th>25%</th>\n      <td>2016.000000</td>\n      <td>17450.000000</td>\n      <td>6097.500000</td>\n      <td>125.000000</td>\n      <td>45.600000</td>\n      <td>1.800000</td>\n    </tr>\n    <tr>\n      <th>50%</th>\n      <td>2018.000000</td>\n      <td>22480.000000</td>\n      <td>15189.000000</td>\n      <td>145.000000</td>\n      <td>56.500000</td>\n      <td>2.000000</td>\n    </tr>\n    <tr>\n      <th>75%</th>\n      <td>2019.000000</td>\n      <td>28980.000000</td>\n      <td>31779.500000</td>\n      <td>145.000000</td>\n      <td>64.200000</td>\n      <td>2.100000</td>\n    </tr>\n    <tr>\n      <th>max</th>\n      <td>2020.000000</td>\n      <td>159999.000000</td>\n      <td>259000.000000</td>\n      <td>580.000000</td>\n      <td>217.300000</td>\n      <td>6.200000</td>\n    </tr>\n  </tbody>\n</table>\n</div>"
          },
          "metadata": {}
        }
      ],
      "execution_count": 5,
      "metadata": {
        "collapsed": true,
        "jupyter": {
          "source_hidden": false,
          "outputs_hidden": false
        },
        "nteract": {
          "transient": {
            "deleting": false
          }
        },
        "gather": {
          "logged": 1618304271745
        }
      }
    },
    {
      "cell_type": "markdown",
      "source": [
        "Prints out the first 5 rows of the dataset."
      ],
      "metadata": {
        "nteract": {
          "transient": {
            "deleting": false
          }
        }
      }
    },
    {
      "cell_type": "code",
      "source": [
        "df.head(5)"
      ],
      "outputs": [
        {
          "output_type": "execute_result",
          "execution_count": 6,
          "data": {
            "text/plain": "       model  year  price transmission  mileage fuelType  tax   mpg  \\\n0        SLK  2005   5200    Automatic    63000   Petrol  325  32.1   \n1    S Class  2017  34948    Automatic    27000   Hybrid   20  61.4   \n2   SL CLASS  2016  49948    Automatic     6200   Petrol  555  28.0   \n3    G Class  2016  61948    Automatic    16000   Petrol  325  30.4   \n4    G Class  2016  73948    Automatic     4000   Petrol  325  30.1   \n\n   engineSize  \n0         1.8  \n1         2.1  \n2         5.5  \n3         4.0  \n4         4.0  ",
            "text/html": "<div>\n<style scoped>\n    .dataframe tbody tr th:only-of-type {\n        vertical-align: middle;\n    }\n\n    .dataframe tbody tr th {\n        vertical-align: top;\n    }\n\n    .dataframe thead th {\n        text-align: right;\n    }\n</style>\n<table border=\"1\" class=\"dataframe\">\n  <thead>\n    <tr style=\"text-align: right;\">\n      <th></th>\n      <th>model</th>\n      <th>year</th>\n      <th>price</th>\n      <th>transmission</th>\n      <th>mileage</th>\n      <th>fuelType</th>\n      <th>tax</th>\n      <th>mpg</th>\n      <th>engineSize</th>\n    </tr>\n  </thead>\n  <tbody>\n    <tr>\n      <th>0</th>\n      <td>SLK</td>\n      <td>2005</td>\n      <td>5200</td>\n      <td>Automatic</td>\n      <td>63000</td>\n      <td>Petrol</td>\n      <td>325</td>\n      <td>32.1</td>\n      <td>1.8</td>\n    </tr>\n    <tr>\n      <th>1</th>\n      <td>S Class</td>\n      <td>2017</td>\n      <td>34948</td>\n      <td>Automatic</td>\n      <td>27000</td>\n      <td>Hybrid</td>\n      <td>20</td>\n      <td>61.4</td>\n      <td>2.1</td>\n    </tr>\n    <tr>\n      <th>2</th>\n      <td>SL CLASS</td>\n      <td>2016</td>\n      <td>49948</td>\n      <td>Automatic</td>\n      <td>6200</td>\n      <td>Petrol</td>\n      <td>555</td>\n      <td>28.0</td>\n      <td>5.5</td>\n    </tr>\n    <tr>\n      <th>3</th>\n      <td>G Class</td>\n      <td>2016</td>\n      <td>61948</td>\n      <td>Automatic</td>\n      <td>16000</td>\n      <td>Petrol</td>\n      <td>325</td>\n      <td>30.4</td>\n      <td>4.0</td>\n    </tr>\n    <tr>\n      <th>4</th>\n      <td>G Class</td>\n      <td>2016</td>\n      <td>73948</td>\n      <td>Automatic</td>\n      <td>4000</td>\n      <td>Petrol</td>\n      <td>325</td>\n      <td>30.1</td>\n      <td>4.0</td>\n    </tr>\n  </tbody>\n</table>\n</div>"
          },
          "metadata": {}
        }
      ],
      "execution_count": 6,
      "metadata": {
        "collapsed": true,
        "jupyter": {
          "source_hidden": false,
          "outputs_hidden": false
        },
        "nteract": {
          "transient": {
            "deleting": false
          }
        },
        "gather": {
          "logged": 1618304275887
        }
      }
    },
    {
      "cell_type": "markdown",
      "source": [
        "### AutoML Configuration\n",
        "Considering the overall high quality of the dataset, I chose to timeout the experiment after 15 minutes and to enable early stopping. Since the price column is a numeric value, it makes sense to use an easy to understand metric such as a (normalized) mean absolute error as the primary metric.\n",
        "\n",
        "As I want to predict numerical values (prices in British Pounds), it make sense to use a regression as task."
      ],
      "metadata": {}
    },
    {
      "cell_type": "code",
      "source": [
        "from azureml.train.automl import AutoMLConfig\n",
        "\n",
        "# automl settings\n",
        "automl_settings = {\n",
        "    \"experiment_timeout_minutes\": 15,\n",
        "    \"max_concurrent_iterations\": 5,\n",
        "    \"primary_metric\": \"normalized_mean_absolute_error\",\n",
        "    \"featurization\": 'auto',\n",
        "    \"enable_early_stopping\": True,\n",
        "}\n",
        "\n",
        "# automl config\n",
        "automl_regressor = AutoMLConfig(\n",
        "    compute_target=cpu_cluster,\n",
        "    task=\"regression\",\n",
        "    training_data=dataset,\n",
        "    label_column_name=\"price\",\n",
        "    **automl_settings\n",
        "    )"
      ],
      "outputs": [],
      "execution_count": 7,
      "metadata": {
        "gather": {
          "logged": 1618304311135
        },
        "jupyter": {
          "outputs_hidden": false,
          "source_hidden": false
        },
        "nteract": {
          "transient": {
            "deleting": false
          }
        }
      }
    },
    {
      "cell_type": "markdown",
      "source": [
        "### Run Details\n",
        "\n",
        "Shows the different experiments."
      ],
      "metadata": {}
    },
    {
      "cell_type": "code",
      "source": [
        "from azureml.widgets import RunDetails\n",
        "\n",
        "# Submit experiment\n",
        "automl_run = experiment.submit(automl_regressor, show_output=True)\n",
        "\n",
        "RunDetails(automl_run).show()\n",
        "automl_run.wait_for_completion(show_output=True)"
      ],
      "outputs": [
        {
          "output_type": "stream",
          "name": "stdout",
          "text": [
            "Running on remote.\n",
            "No run_configuration provided, running on mercedes-cc with default configuration\n",
            "Running on remote compute: mercedes-cc\n",
            "Parent Run ID: AutoML_b90fbda5-c200-42aa-8e50-2732d82c0a55\n",
            "\n",
            "Current status: FeaturesGeneration. Generating features for the dataset.\n",
            "Current status: DatasetCrossValidationSplit. Generating individually featurized CV splits.\n",
            "Current status: ModelSelection. Beginning model selection.\n",
            "\n",
            "****************************************************************************************************\n",
            "DATA GUARDRAILS: \n",
            "\n",
            "TYPE:         Cross validation\n",
            "STATUS:       DONE\n",
            "DESCRIPTION:  Each iteration of the trained model was validated through cross-validation.\n",
            "              \n",
            "DETAILS:      \n",
            "+---------------------------------+\n",
            "|Number of folds                  |\n",
            "+=================================+\n",
            "|3                                |\n",
            "+---------------------------------+\n",
            "\n",
            "****************************************************************************************************\n",
            "\n",
            "TYPE:         Missing feature values imputation\n",
            "STATUS:       PASSED\n",
            "DESCRIPTION:  No feature missing values were detected in the training data.\n",
            "              Learn more about missing value imputation: https://aka.ms/AutomatedMLFeaturization\n",
            "\n",
            "****************************************************************************************************\n",
            "\n",
            "TYPE:         High cardinality feature detection\n",
            "STATUS:       PASSED\n",
            "DESCRIPTION:  Your inputs were analyzed, and no high cardinality features were detected.\n",
            "              Learn more about high cardinality feature handling: https://aka.ms/AutomatedMLFeaturization\n",
            "\n",
            "****************************************************************************************************\n",
            "\n",
            "****************************************************************************************************\n",
            "ITERATION: The iteration being evaluated.\n",
            "PIPELINE: A summary description of the pipeline being evaluated.\n",
            "DURATION: Time taken for the current iteration.\n",
            "METRIC: The result of computing score on the fitted pipeline.\n",
            "BEST: The best observed score thus far.\n",
            "****************************************************************************************************\n",
            "\n",
            " ITERATION   PIPELINE                                       DURATION      METRIC      BEST\n",
            "         0   MaxAbsScaler LightGBM                          0:00:48       0.0113    0.0113\n",
            "         2   StandardScalerWrapper DecisionTree             0:00:46       0.0252    0.0113\n",
            "         3   MaxAbsScaler DecisionTree                      0:00:45       0.0219    0.0113\n",
            "         7   MaxAbsScaler DecisionTree                      0:00:43       0.0246    0.0113\n",
            "         5   MaxAbsScaler DecisionTree                      0:01:54       0.0189    0.0113\n",
            "         6   MaxAbsScaler DecisionTree                      0:02:13       0.0213    0.0113\n",
            "         8   MaxAbsScaler DecisionTree                      0:00:43       0.0187    0.0113\n",
            "         1   MaxAbsScaler XGBoostRegressor                  0:02:36       0.0151    0.0113\n",
            "         4   MaxAbsScaler DecisionTree                      0:02:39       0.0211    0.0113\n",
            "         9   MaxAbsScaler DecisionTree                      0:00:45       0.0276    0.0113\n",
            "        10   MaxAbsScaler SGD                               0:00:42       0.0217    0.0113\n",
            "        11   MaxAbsScaler DecisionTree                      0:00:43       0.0216    0.0113\n",
            "        12   MaxAbsScaler DecisionTree                      0:00:45       0.0172    0.0113\n",
            "        13   MaxAbsScaler ElasticNet                        0:01:00       0.0206    0.0113\n",
            "        14   MaxAbsScaler DecisionTree                      0:00:45       0.0248    0.0113\n",
            "        15   MaxAbsScaler DecisionTree                      0:00:44       0.0256    0.0113\n",
            "        16   MaxAbsScaler DecisionTree                      0:00:43       0.0212    0.0113\n",
            "        17   MaxAbsScaler DecisionTree                      0:00:46       0.0247    0.0113\n",
            "        18   MaxAbsScaler DecisionTree                      0:00:45       0.0195    0.0113\n",
            "        19   MaxAbsScaler DecisionTree                      0:00:49       0.0240    0.0113\n",
            "        20   MaxAbsScaler DecisionTree                      0:00:48       0.0187    0.0113\n",
            "        21   MaxAbsScaler DecisionTree                      0:00:45       0.0239    0.0113\n",
            "        22   MaxAbsScaler DecisionTree                      0:00:46       0.0175    0.0113\n",
            "        23   MaxAbsScaler DecisionTree                      0:00:45       0.0274    0.0113\n",
            "        26   MaxAbsScaler DecisionTree                      0:00:45       0.0157    0.0113\n",
            "        24   MaxAbsScaler RandomForest                      0:01:03       0.0198    0.0113\n",
            "        25   MaxAbsScaler LightGBM                          0:00:45       0.0211    0.0113\n",
            "        27   MaxAbsScaler RandomForest                      0:00:51       0.0222    0.0113\n",
            "        28   MaxAbsScaler ExtremeRandomTrees                0:00:48       0.0178    0.0113\n",
            "        29   MaxAbsScaler RandomForest                      0:00:52       0.0178    0.0113\n",
            "        31   MaxAbsScaler RandomForest                      0:00:46       0.0228    0.0113\n",
            "        30   MaxAbsScaler LightGBM                          0:00:52       0.0233    0.0113\n",
            "        32   MaxAbsScaler RandomForest                      0:00:55       0.0304    0.0113\n",
            "        33   MaxAbsScaler ExtremeRandomTrees                0:01:02       0.0237    0.0113\n",
            "        34   MaxAbsScaler LightGBM                          0:00:39       0.0243    0.0113\n",
            "        35   MaxAbsScaler GradientBoosting                  0:00:40       0.0164    0.0113\n",
            "        36   MaxAbsScaler RandomForest                      0:00:36          nan    0.0113\n",
            "        37                                                  0:00:11          nan    0.0113\n",
            "        38    VotingEnsemble                                0:00:59       0.0113    0.0113\n",
            "        39    StackEnsemble                                 0:01:05       0.0113    0.0113\n",
            "\n",
            "\n",
            "****************************************************************************************************\n",
            "DATA GUARDRAILS: \n",
            "\n",
            "TYPE:         Cross validation\n",
            "STATUS:       DONE\n",
            "DESCRIPTION:  Each iteration of the trained model was validated through cross-validation.\n",
            "              \n",
            "DETAILS:      \n",
            "+---------------------------------+\n",
            "|Number of folds                  |\n",
            "+=================================+\n",
            "|3                                |\n",
            "+---------------------------------+\n",
            "\n",
            "****************************************************************************************************\n",
            "\n",
            "TYPE:         Missing feature values imputation\n",
            "STATUS:       PASSED\n",
            "DESCRIPTION:  No feature missing values were detected in the training data.\n",
            "              Learn more about missing value imputation: https://aka.ms/AutomatedMLFeaturization\n",
            "\n",
            "****************************************************************************************************\n",
            "\n",
            "TYPE:         High cardinality feature detection\n",
            "STATUS:       PASSED\n",
            "DESCRIPTION:  Your inputs were analyzed, and no high cardinality features were detected.\n"
          ]
        },
        {
          "output_type": "display_data",
          "data": {
            "text/plain": "_AutoMLWidget(widget_settings={'childWidgetDisplay': 'popup', 'send_telemetry': False, 'log_level': 'INFO', 's…",
            "application/vnd.jupyter.widget-view+json": {
              "version_major": 2,
              "version_minor": 0,
              "model_id": "a124bdadb20c40949be58ee7d73fa999"
            }
          },
          "metadata": {}
        },
        {
          "output_type": "display_data",
          "data": {
            "application/aml.mini.widget.v1": "{\"status\": \"Completed\", \"workbench_run_details_uri\": \"https://ml.azure.com/experiments/mercedes-price-prediction-experiment-2nd-version/runs/AutoML_b90fbda5-c200-42aa-8e50-2732d82c0a55?wsid=/subscriptions/009f51ba-ba0a-4c91-aadf-56aa26b996cb/resourcegroups/udacity-rg/workspaces/udacity-ws\", \"run_id\": \"AutoML_b90fbda5-c200-42aa-8e50-2732d82c0a55\", \"run_properties\": {\"run_id\": \"AutoML_b90fbda5-c200-42aa-8e50-2732d82c0a55\", \"created_utc\": \"2021-04-13T08:58:46.200144Z\", \"properties\": {\"num_iterations\": \"1000\", \"training_type\": \"TrainFull\", \"acquisition_function\": \"EI\", \"primary_metric\": \"normalized_mean_absolute_error\", \"train_split\": \"0\", \"acquisition_parameter\": \"0\", \"num_cross_validation\": null, \"target\": \"mercedes-cc\", \"AMLSettingsJsonString\": \"{\\\"path\\\":null,\\\"name\\\":\\\"mercedes-price-prediction-experiment-2nd-version\\\",\\\"subscription_id\\\":\\\"009f51ba-ba0a-4c91-aadf-56aa26b996cb\\\",\\\"resource_group\\\":\\\"udacity-rg\\\",\\\"workspace_name\\\":\\\"udacity-ws\\\",\\\"region\\\":\\\"westeurope\\\",\\\"compute_target\\\":\\\"mercedes-cc\\\",\\\"spark_service\\\":null,\\\"azure_service\\\":\\\"remote\\\",\\\"many_models\\\":false,\\\"pipeline_fetch_max_batch_size\\\":1,\\\"enable_batch_run\\\":false,\\\"iterations\\\":1000,\\\"primary_metric\\\":\\\"normalized_mean_absolute_error\\\",\\\"task_type\\\":\\\"regression\\\",\\\"data_script\\\":null,\\\"validation_size\\\":0.0,\\\"n_cross_validations\\\":null,\\\"y_min\\\":null,\\\"y_max\\\":null,\\\"num_classes\\\":null,\\\"featurization\\\":\\\"auto\\\",\\\"_ignore_package_version_incompatibilities\\\":false,\\\"is_timeseries\\\":false,\\\"max_cores_per_iteration\\\":1,\\\"max_concurrent_iterations\\\":5,\\\"iteration_timeout_minutes\\\":null,\\\"mem_in_mb\\\":null,\\\"enforce_time_on_windows\\\":false,\\\"experiment_timeout_minutes\\\":15,\\\"experiment_exit_score\\\":null,\\\"whitelist_models\\\":null,\\\"blacklist_algos\\\":[\\\"TensorFlowDNN\\\",\\\"TensorFlowLinearRegressor\\\"],\\\"supported_models\\\":[\\\"GradientBoosting\\\",\\\"XGBoostRegressor\\\",\\\"OnlineGradientDescentRegressor\\\",\\\"TensorFlowDNN\\\",\\\"ExtremeRandomTrees\\\",\\\"SGD\\\",\\\"DecisionTree\\\",\\\"RandomForest\\\",\\\"FastLinearRegressor\\\",\\\"ElasticNet\\\",\\\"LightGBM\\\",\\\"LassoLars\\\",\\\"TensorFlowLinearRegressor\\\",\\\"KNN\\\"],\\\"private_models\\\":[],\\\"auto_blacklist\\\":true,\\\"blacklist_samples_reached\\\":false,\\\"exclude_nan_labels\\\":true,\\\"verbosity\\\":20,\\\"_debug_log\\\":\\\"azureml_automl.log\\\",\\\"show_warnings\\\":false,\\\"model_explainability\\\":true,\\\"service_url\\\":null,\\\"sdk_url\\\":null,\\\"sdk_packages\\\":null,\\\"enable_onnx_compatible_models\\\":false,\\\"enable_split_onnx_featurizer_estimator_models\\\":false,\\\"vm_type\\\":\\\"STANDARD_DS2_V2\\\",\\\"telemetry_verbosity\\\":20,\\\"send_telemetry\\\":true,\\\"enable_dnn\\\":false,\\\"scenario\\\":\\\"SDK-1.13.0\\\",\\\"environment_label\\\":null,\\\"save_mlflow\\\":false,\\\"force_text_dnn\\\":false,\\\"enable_feature_sweeping\\\":true,\\\"enable_early_stopping\\\":true,\\\"early_stopping_n_iters\\\":10,\\\"metrics\\\":null,\\\"enable_metric_confidence\\\":false,\\\"enable_ensembling\\\":true,\\\"enable_stack_ensembling\\\":true,\\\"ensemble_iterations\\\":15,\\\"enable_tf\\\":false,\\\"enable_subsampling\\\":null,\\\"subsample_seed\\\":null,\\\"enable_nimbusml\\\":false,\\\"enable_streaming\\\":false,\\\"force_streaming\\\":false,\\\"track_child_runs\\\":true,\\\"allowed_private_models\\\":[],\\\"label_column_name\\\":\\\"price\\\",\\\"weight_column_name\\\":null,\\\"cv_split_column_names\\\":null,\\\"enable_local_managed\\\":false,\\\"_local_managed_run_id\\\":null,\\\"cost_mode\\\":1,\\\"lag_length\\\":0,\\\"metric_operation\\\":\\\"minimize\\\",\\\"preprocess\\\":true}\", \"DataPrepJsonString\": \"{\\\\\\\"training_data\\\\\\\": \\\\\\\"{\\\\\\\\\\\\\\\"blocks\\\\\\\\\\\\\\\": [{\\\\\\\\\\\\\\\"id\\\\\\\\\\\\\\\": \\\\\\\\\\\\\\\"543556d6-4dde-4c48-a6c4-fe59c7df04c3\\\\\\\\\\\\\\\", \\\\\\\\\\\\\\\"type\\\\\\\\\\\\\\\": \\\\\\\\\\\\\\\"Microsoft.DPrep.GetDatastoreFilesBlock\\\\\\\\\\\\\\\", \\\\\\\\\\\\\\\"arguments\\\\\\\\\\\\\\\": {\\\\\\\\\\\\\\\"datastores\\\\\\\\\\\\\\\": [{\\\\\\\\\\\\\\\"datastoreName\\\\\\\\\\\\\\\": \\\\\\\\\\\\\\\"workspaceblobstore\\\\\\\\\\\\\\\", \\\\\\\\\\\\\\\"path\\\\\\\\\\\\\\\": \\\\\\\\\\\\\\\"UI/04-09-2021_013558_UTC/mercedes.csv\\\\\\\\\\\\\\\", \\\\\\\\\\\\\\\"resourceGroup\\\\\\\\\\\\\\\": \\\\\\\\\\\\\\\"udacity-rg\\\\\\\\\\\\\\\", \\\\\\\\\\\\\\\"subscription\\\\\\\\\\\\\\\": \\\\\\\\\\\\\\\"009f51ba-ba0a-4c91-aadf-56aa26b996cb\\\\\\\\\\\\\\\", \\\\\\\\\\\\\\\"workspaceName\\\\\\\\\\\\\\\": \\\\\\\\\\\\\\\"udacity-ws\\\\\\\\\\\\\\\"}]}, \\\\\\\\\\\\\\\"localData\\\\\\\\\\\\\\\": {}, \\\\\\\\\\\\\\\"isEnabled\\\\\\\\\\\\\\\": true, \\\\\\\\\\\\\\\"name\\\\\\\\\\\\\\\": null, \\\\\\\\\\\\\\\"annotation\\\\\\\\\\\\\\\": null}, {\\\\\\\\\\\\\\\"id\\\\\\\\\\\\\\\": \\\\\\\\\\\\\\\"3fc72366-2b43-416d-a5d1-c0052df01d8f\\\\\\\\\\\\\\\", \\\\\\\\\\\\\\\"type\\\\\\\\\\\\\\\": \\\\\\\\\\\\\\\"Microsoft.DPrep.ParseDelimitedBlock\\\\\\\\\\\\\\\", \\\\\\\\\\\\\\\"arguments\\\\\\\\\\\\\\\": {\\\\\\\\\\\\\\\"columnHeadersMode\\\\\\\\\\\\\\\": 1, \\\\\\\\\\\\\\\"fileEncoding\\\\\\\\\\\\\\\": 0, \\\\\\\\\\\\\\\"handleQuotedLineBreaks\\\\\\\\\\\\\\\": false, \\\\\\\\\\\\\\\"preview\\\\\\\\\\\\\\\": false, \\\\\\\\\\\\\\\"separator\\\\\\\\\\\\\\\": \\\\\\\\\\\\\\\",\\\\\\\\\\\\\\\", \\\\\\\\\\\\\\\"skipRows\\\\\\\\\\\\\\\": 0, \\\\\\\\\\\\\\\"skipRowsMode\\\\\\\\\\\\\\\": 0}, \\\\\\\\\\\\\\\"localData\\\\\\\\\\\\\\\": {}, \\\\\\\\\\\\\\\"isEnabled\\\\\\\\\\\\\\\": true, \\\\\\\\\\\\\\\"name\\\\\\\\\\\\\\\": null, \\\\\\\\\\\\\\\"annotation\\\\\\\\\\\\\\\": null}, {\\\\\\\\\\\\\\\"id\\\\\\\\\\\\\\\": \\\\\\\\\\\\\\\"4f406372-67b6-44cf-9d81-ae5563b44e6d\\\\\\\\\\\\\\\", \\\\\\\\\\\\\\\"type\\\\\\\\\\\\\\\": \\\\\\\\\\\\\\\"Microsoft.DPrep.DropColumnsBlock\\\\\\\\\\\\\\\", \\\\\\\\\\\\\\\"arguments\\\\\\\\\\\\\\\": {\\\\\\\\\\\\\\\"columns\\\\\\\\\\\\\\\": {\\\\\\\\\\\\\\\"type\\\\\\\\\\\\\\\": 0, \\\\\\\\\\\\\\\"details\\\\\\\\\\\\\\\": {\\\\\\\\\\\\\\\"selectedColumns\\\\\\\\\\\\\\\": [\\\\\\\\\\\\\\\"Path\\\\\\\\\\\\\\\"]}}}, \\\\\\\\\\\\\\\"localData\\\\\\\\\\\\\\\": {}, \\\\\\\\\\\\\\\"isEnabled\\\\\\\\\\\\\\\": true, \\\\\\\\\\\\\\\"name\\\\\\\\\\\\\\\": null, \\\\\\\\\\\\\\\"annotation\\\\\\\\\\\\\\\": null}, {\\\\\\\\\\\\\\\"id\\\\\\\\\\\\\\\": \\\\\\\\\\\\\\\"0e3fee80-9319-4764-8af3-5f55dd62326c\\\\\\\\\\\\\\\", \\\\\\\\\\\\\\\"type\\\\\\\\\\\\\\\": \\\\\\\\\\\\\\\"Microsoft.DPrep.SetColumnTypesBlock\\\\\\\\\\\\\\\", \\\\\\\\\\\\\\\"arguments\\\\\\\\\\\\\\\": {\\\\\\\\\\\\\\\"columnConversion\\\\\\\\\\\\\\\": [{\\\\\\\\\\\\\\\"column\\\\\\\\\\\\\\\": {\\\\\\\\\\\\\\\"type\\\\\\\\\\\\\\\": 2, \\\\\\\\\\\\\\\"details\\\\\\\\\\\\\\\": {\\\\\\\\\\\\\\\"selectedColumn\\\\\\\\\\\\\\\": \\\\\\\\\\\\\\\"Path\\\\\\\\\\\\\\\"}}, \\\\\\\\\\\\\\\"typeProperty\\\\\\\\\\\\\\\": 0}, {\\\\\\\\\\\\\\\"column\\\\\\\\\\\\\\\": {\\\\\\\\\\\\\\\"type\\\\\\\\\\\\\\\": 2, \\\\\\\\\\\\\\\"details\\\\\\\\\\\\\\\": {\\\\\\\\\\\\\\\"selectedColumn\\\\\\\\\\\\\\\": \\\\\\\\\\\\\\\"model\\\\\\\\\\\\\\\"}}, \\\\\\\\\\\\\\\"typeProperty\\\\\\\\\\\\\\\": 0}, {\\\\\\\\\\\\\\\"column\\\\\\\\\\\\\\\": {\\\\\\\\\\\\\\\"type\\\\\\\\\\\\\\\": 2, \\\\\\\\\\\\\\\"details\\\\\\\\\\\\\\\": {\\\\\\\\\\\\\\\"selectedColumn\\\\\\\\\\\\\\\": \\\\\\\\\\\\\\\"year\\\\\\\\\\\\\\\"}}, \\\\\\\\\\\\\\\"typeProperty\\\\\\\\\\\\\\\": 2}, {\\\\\\\\\\\\\\\"column\\\\\\\\\\\\\\\": {\\\\\\\\\\\\\\\"type\\\\\\\\\\\\\\\": 2, \\\\\\\\\\\\\\\"details\\\\\\\\\\\\\\\": {\\\\\\\\\\\\\\\"selectedColumn\\\\\\\\\\\\\\\": \\\\\\\\\\\\\\\"price\\\\\\\\\\\\\\\"}}, \\\\\\\\\\\\\\\"typeProperty\\\\\\\\\\\\\\\": 2}, {\\\\\\\\\\\\\\\"column\\\\\\\\\\\\\\\": {\\\\\\\\\\\\\\\"type\\\\\\\\\\\\\\\": 2, \\\\\\\\\\\\\\\"details\\\\\\\\\\\\\\\": {\\\\\\\\\\\\\\\"selectedColumn\\\\\\\\\\\\\\\": \\\\\\\\\\\\\\\"transmission\\\\\\\\\\\\\\\"}}, \\\\\\\\\\\\\\\"typeProperty\\\\\\\\\\\\\\\": 0}, {\\\\\\\\\\\\\\\"column\\\\\\\\\\\\\\\": {\\\\\\\\\\\\\\\"type\\\\\\\\\\\\\\\": 2, \\\\\\\\\\\\\\\"details\\\\\\\\\\\\\\\": {\\\\\\\\\\\\\\\"selectedColumn\\\\\\\\\\\\\\\": \\\\\\\\\\\\\\\"mileage\\\\\\\\\\\\\\\"}}, \\\\\\\\\\\\\\\"typeProperty\\\\\\\\\\\\\\\": 2}, {\\\\\\\\\\\\\\\"column\\\\\\\\\\\\\\\": {\\\\\\\\\\\\\\\"type\\\\\\\\\\\\\\\": 2, \\\\\\\\\\\\\\\"details\\\\\\\\\\\\\\\": {\\\\\\\\\\\\\\\"selectedColumn\\\\\\\\\\\\\\\": \\\\\\\\\\\\\\\"fuelType\\\\\\\\\\\\\\\"}}, \\\\\\\\\\\\\\\"typeProperty\\\\\\\\\\\\\\\": 0}, {\\\\\\\\\\\\\\\"column\\\\\\\\\\\\\\\": {\\\\\\\\\\\\\\\"type\\\\\\\\\\\\\\\": 2, \\\\\\\\\\\\\\\"details\\\\\\\\\\\\\\\": {\\\\\\\\\\\\\\\"selectedColumn\\\\\\\\\\\\\\\": \\\\\\\\\\\\\\\"tax\\\\\\\\\\\\\\\"}}, \\\\\\\\\\\\\\\"typeProperty\\\\\\\\\\\\\\\": 2}, {\\\\\\\\\\\\\\\"column\\\\\\\\\\\\\\\": {\\\\\\\\\\\\\\\"type\\\\\\\\\\\\\\\": 2, \\\\\\\\\\\\\\\"details\\\\\\\\\\\\\\\": {\\\\\\\\\\\\\\\"selectedColumn\\\\\\\\\\\\\\\": \\\\\\\\\\\\\\\"mpg\\\\\\\\\\\\\\\"}}, \\\\\\\\\\\\\\\"typeProperty\\\\\\\\\\\\\\\": 3}, {\\\\\\\\\\\\\\\"column\\\\\\\\\\\\\\\": {\\\\\\\\\\\\\\\"type\\\\\\\\\\\\\\\": 2, \\\\\\\\\\\\\\\"details\\\\\\\\\\\\\\\": {\\\\\\\\\\\\\\\"selectedColumn\\\\\\\\\\\\\\\": \\\\\\\\\\\\\\\"engineSize\\\\\\\\\\\\\\\"}}, \\\\\\\\\\\\\\\"typeProperty\\\\\\\\\\\\\\\": 3}]}, \\\\\\\\\\\\\\\"localData\\\\\\\\\\\\\\\": {}, \\\\\\\\\\\\\\\"isEnabled\\\\\\\\\\\\\\\": true, \\\\\\\\\\\\\\\"name\\\\\\\\\\\\\\\": null, \\\\\\\\\\\\\\\"annotation\\\\\\\\\\\\\\\": null}], \\\\\\\\\\\\\\\"inspectors\\\\\\\\\\\\\\\": [], \\\\\\\\\\\\\\\"meta\\\\\\\\\\\\\\\": {\\\\\\\\\\\\\\\"savedDatasetId\\\\\\\\\\\\\\\": \\\\\\\\\\\\\\\"29ec6654-0822-4852-aae0-a878839dc57e\\\\\\\\\\\\\\\", \\\\\\\\\\\\\\\"datasetType\\\\\\\\\\\\\\\": \\\\\\\\\\\\\\\"tabular\\\\\\\\\\\\\\\", \\\\\\\\\\\\\\\"subscriptionId\\\\\\\\\\\\\\\": \\\\\\\\\\\\\\\"009f51ba-ba0a-4c91-aadf-56aa26b996cb\\\\\\\\\\\\\\\", \\\\\\\\\\\\\\\"workspaceId\\\\\\\\\\\\\\\": \\\\\\\\\\\\\\\"50f47abe-8354-4f60-8b6e-ba5d59e5b00e\\\\\\\\\\\\\\\", \\\\\\\\\\\\\\\"workspaceLocation\\\\\\\\\\\\\\\": \\\\\\\\\\\\\\\"westeurope\\\\\\\\\\\\\\\"}}\\\\\\\", \\\\\\\"activities\\\\\\\": 0}\", \"EnableSubsampling\": null, \"runTemplate\": \"AutoML\", \"azureml.runsource\": \"automl\", \"display_task_type\": \"regression\", \"dependencies_versions\": \"{\\\"azureml-widgets\\\": \\\"1.24.0\\\", \\\"azureml-train\\\": \\\"1.24.0\\\", \\\"azureml-train-restclients-hyperdrive\\\": \\\"1.24.0\\\", \\\"azureml-train-core\\\": \\\"1.24.0\\\", \\\"azureml-train-automl\\\": \\\"1.24.0\\\", \\\"azureml-train-automl-runtime\\\": \\\"1.24.0\\\", \\\"azureml-train-automl-client\\\": \\\"1.24.0\\\", \\\"azureml-tensorboard\\\": \\\"1.24.0\\\", \\\"azureml-telemetry\\\": \\\"1.24.0\\\", \\\"azureml-sdk\\\": \\\"1.24.0\\\", \\\"azureml-samples\\\": \\\"0+unknown\\\", \\\"azureml-pipeline\\\": \\\"1.24.0\\\", \\\"azureml-pipeline-steps\\\": \\\"1.24.0\\\", \\\"azureml-pipeline-core\\\": \\\"1.24.0\\\", \\\"azureml-opendatasets\\\": \\\"1.24.0\\\", \\\"azureml-model-management-sdk\\\": \\\"1.0.1b6.post1\\\", \\\"azureml-mlflow\\\": \\\"1.24.0\\\", \\\"azureml-interpret\\\": \\\"1.24.0\\\", \\\"azureml-explain-model\\\": \\\"1.24.0\\\", \\\"azureml-defaults\\\": \\\"1.24.0\\\", \\\"azureml-dataset-runtime\\\": \\\"1.24.0\\\", \\\"azureml-dataprep\\\": \\\"2.11.2\\\", \\\"azureml-dataprep-rslex\\\": \\\"1.9.1\\\", \\\"azureml-dataprep-native\\\": \\\"30.0.0\\\", \\\"azureml-datadrift\\\": \\\"1.24.0\\\", \\\"azureml-core\\\": \\\"1.24.0.post2\\\", \\\"azureml-contrib-services\\\": \\\"1.24.0\\\", \\\"azureml-contrib-server\\\": \\\"1.24.0\\\", \\\"azureml-contrib-reinforcementlearning\\\": \\\"1.24.0\\\", \\\"azureml-contrib-pipeline-steps\\\": \\\"1.24.0\\\", \\\"azureml-contrib-notebook\\\": \\\"1.24.0\\\", \\\"azureml-contrib-gbdt\\\": \\\"1.24.0\\\", \\\"azureml-contrib-fairness\\\": \\\"1.24.0\\\", \\\"azureml-contrib-dataset\\\": \\\"1.24.0\\\", \\\"azureml-cli-common\\\": \\\"1.24.0\\\", \\\"azureml-automl-runtime\\\": \\\"1.24.0\\\", \\\"azureml-automl-dnn-nlp\\\": \\\"1.24.0\\\", \\\"azureml-automl-core\\\": \\\"1.24.0\\\", \\\"azureml-accel-models\\\": \\\"1.24.0\\\"}\", \"_aml_system_scenario_identification\": \"Remote.Parent\", \"ClientType\": \"SDK\", \"environment_cpu_name\": \"AzureML-AutoML\", \"environment_cpu_label\": \"prod\", \"environment_gpu_name\": \"AzureML-AutoML-GPU\", \"environment_gpu_label\": \"prod\", \"root_attribution\": \"automl\", \"attribution\": \"AutoML\", \"Orchestrator\": \"AutoML\", \"CancelUri\": \"https://westeurope.experiments.azureml.net/jasmine/v1.0/subscriptions/009f51ba-ba0a-4c91-aadf-56aa26b996cb/resourceGroups/udacity-rg/providers/Microsoft.MachineLearningServices/workspaces/udacity-ws/experimentids/aa06eb7e-bbde-43e0-97fa-f137930b5036/cancel/AutoML_b90fbda5-c200-42aa-8e50-2732d82c0a55\", \"ClientSdkVersion\": \"1.25.0\", \"snapshotId\": \"00000000-0000-0000-0000-000000000000\", \"SetupRunId\": \"AutoML_b90fbda5-c200-42aa-8e50-2732d82c0a55_setup\", \"SetupRunContainerId\": \"dcid.AutoML_b90fbda5-c200-42aa-8e50-2732d82c0a55_setup\", \"FeaturizationRunJsonPath\": \"featurizer_container.json\", \"FeaturizationRunId\": \"AutoML_b90fbda5-c200-42aa-8e50-2732d82c0a55_featurize\", \"ProblemInfoJsonString\": \"{\\\"dataset_num_categorical\\\": 0, \\\"is_sparse\\\": true, \\\"subsampling\\\": false, \\\"dataset_classes\\\": 4424, \\\"dataset_features\\\": 103, \\\"dataset_samples\\\": 13119, \\\"single_frequency_class_detected\\\": false}\", \"ModelExplainRunId\": \"AutoML_b90fbda5-c200-42aa-8e50-2732d82c0a55_ModelExplain\"}, \"tags\": {\"model_explain_run\": \"best_run\", \"_aml_system_azureml.automlComponent\": \"AutoML\", \"pipeline_id\": \"\", \"score\": \"\", \"predicted_cost\": \"\", \"fit_time\": \"\", \"training_percent\": \"\", \"iteration\": \"\", \"run_preprocessor\": \"\", \"run_algorithm\": \"\", \"dynamic_whitelisting_iterations\": \"<25>;<30>;<34>;\", \"automl_best_child_run_id\": \"AutoML_b90fbda5-c200-42aa-8e50-2732d82c0a55_0\", \"model_explain_best_run_child_id\": \"AutoML_b90fbda5-c200-42aa-8e50-2732d82c0a55_0\"}, \"end_time_utc\": \"2021-04-13T09:15:08.021619Z\", \"status\": \"Completed\", \"log_files\": {}, \"log_groups\": [], \"run_duration\": \"0:16:21\", \"run_number\": \"1\", \"run_queued_details\": {\"status\": \"Completed\", \"details\": null}}, \"child_runs\": [{\"run_id\": \"AutoML_b90fbda5-c200-42aa-8e50-2732d82c0a55_0\", \"run_number\": 5, \"metric\": null, \"status\": \"Completed\", \"run_type\": \"azureml.scriptrun\", \"training_percent\": \"100\", \"start_time\": \"2021-04-13T09:02:48.793071Z\", \"end_time\": \"2021-04-13T09:03:36.612415Z\", \"created_time\": \"2021-04-13T09:02:39.925621Z\", \"created_time_dt\": \"2021-04-13T09:02:39.925621Z\", \"duration\": \"0:00:56\", \"iteration\": \"0\", \"goal\": \"normalized_mean_absolute_error_min\", \"run_name\": \"MaxAbsScaler, LightGBM\", \"run_properties\": \"copy=True\", \"primary_metric\": 0.01130444, \"best_metric\": 0.01130444}, {\"run_id\": \"AutoML_b90fbda5-c200-42aa-8e50-2732d82c0a55_2\", \"run_number\": 6, \"metric\": null, \"status\": \"Completed\", \"run_type\": \"azureml.scriptrun\", \"training_percent\": \"100\", \"start_time\": \"2021-04-13T09:03:54.773079Z\", \"end_time\": \"2021-04-13T09:04:40.622808Z\", \"created_time\": \"2021-04-13T09:02:39.979887Z\", \"created_time_dt\": \"2021-04-13T09:02:39.979887Z\", \"duration\": \"0:02:00\", \"iteration\": \"2\", \"goal\": \"normalized_mean_absolute_error_min\", \"run_name\": \"StandardScalerWrapper, DecisionTree\", \"run_properties\": \"<azureml.automl.runtime.shared.model_wrappers.StandardScalerWrapper object at 0x7f7b2e5dec18\", \"primary_metric\": 0.02516145, \"best_metric\": 0.01130444}, {\"run_id\": \"AutoML_b90fbda5-c200-42aa-8e50-2732d82c0a55_1\", \"run_number\": 7, \"metric\": null, \"status\": \"Completed\", \"run_type\": \"azureml.scriptrun\", \"training_percent\": \"100\", \"start_time\": \"2021-04-13T09:05:32.464235Z\", \"end_time\": \"2021-04-13T09:08:08.813411Z\", \"created_time\": \"2021-04-13T09:02:39.983208Z\", \"created_time_dt\": \"2021-04-13T09:02:39.983208Z\", \"duration\": \"0:05:28\", \"iteration\": \"1\", \"goal\": \"normalized_mean_absolute_error_min\", \"run_name\": \"MaxAbsScaler, XGBoostRegressor\", \"run_properties\": \"copy=True\", \"primary_metric\": 0.01508544, \"best_metric\": 0.01130444}, {\"run_id\": \"AutoML_b90fbda5-c200-42aa-8e50-2732d82c0a55_4\", \"run_number\": 8, \"metric\": null, \"status\": \"Completed\", \"run_type\": \"azureml.scriptrun\", \"training_percent\": \"100\", \"start_time\": \"2021-04-13T09:05:34.397066Z\", \"end_time\": \"2021-04-13T09:08:12.950527Z\", \"created_time\": \"2021-04-13T09:02:39.990662Z\", \"created_time_dt\": \"2021-04-13T09:02:39.990662Z\", \"duration\": \"0:05:32\", \"iteration\": \"4\", \"goal\": \"normalized_mean_absolute_error_min\", \"run_name\": \"MaxAbsScaler, DecisionTree\", \"run_properties\": \"copy=True\", \"primary_metric\": 0.02108738, \"best_metric\": 0.01130444}, {\"run_id\": \"AutoML_b90fbda5-c200-42aa-8e50-2732d82c0a55_3\", \"run_number\": 9, \"metric\": null, \"status\": \"Completed\", \"run_type\": \"azureml.scriptrun\", \"training_percent\": \"100\", \"start_time\": \"2021-04-13T09:04:57.051769Z\", \"end_time\": \"2021-04-13T09:05:41.957708Z\", \"created_time\": \"2021-04-13T09:02:40.116529Z\", \"created_time_dt\": \"2021-04-13T09:02:40.116529Z\", \"duration\": \"0:03:01\", \"iteration\": \"3\", \"goal\": \"normalized_mean_absolute_error_min\", \"run_name\": \"MaxAbsScaler, DecisionTree\", \"run_properties\": \"copy=True\", \"primary_metric\": 0.02192807, \"best_metric\": 0.01130444}, {\"run_id\": \"AutoML_b90fbda5-c200-42aa-8e50-2732d82c0a55_5\", \"run_number\": 10, \"metric\": null, \"status\": \"Completed\", \"run_type\": \"azureml.scriptrun\", \"training_percent\": \"100\", \"start_time\": \"2021-04-13T09:05:32.94953Z\", \"end_time\": \"2021-04-13T09:07:27.243206Z\", \"created_time\": \"2021-04-13T09:03:38.65371Z\", \"created_time_dt\": \"2021-04-13T09:03:38.65371Z\", \"duration\": \"0:03:48\", \"iteration\": \"5\", \"goal\": \"normalized_mean_absolute_error_min\", \"run_name\": \"MaxAbsScaler, DecisionTree\", \"run_properties\": \"copy=True\", \"primary_metric\": 0.01886171, \"best_metric\": 0.01130444}, {\"run_id\": \"AutoML_b90fbda5-c200-42aa-8e50-2732d82c0a55_6\", \"run_number\": 11, \"metric\": null, \"status\": \"Completed\", \"run_type\": \"azureml.scriptrun\", \"training_percent\": \"100\", \"start_time\": \"2021-04-13T09:05:37.229828Z\", \"end_time\": \"2021-04-13T09:07:50.655301Z\", \"created_time\": \"2021-04-13T09:04:44.56378Z\", \"created_time_dt\": \"2021-04-13T09:04:44.56378Z\", \"duration\": \"0:03:06\", \"iteration\": \"6\", \"goal\": \"normalized_mean_absolute_error_min\", \"run_name\": \"MaxAbsScaler, DecisionTree\", \"run_properties\": \"copy=True\", \"primary_metric\": 0.02131402, \"best_metric\": 0.01130444}, {\"run_id\": \"AutoML_b90fbda5-c200-42aa-8e50-2732d82c0a55_7\", \"run_number\": 12, \"metric\": null, \"status\": \"Completed\", \"run_type\": \"azureml.scriptrun\", \"training_percent\": \"100\", \"start_time\": \"2021-04-13T09:05:56.421108Z\", \"end_time\": \"2021-04-13T09:06:39.2535Z\", \"created_time\": \"2021-04-13T09:05:45.5702Z\", \"created_time_dt\": \"2021-04-13T09:05:45.5702Z\", \"duration\": \"0:00:53\", \"iteration\": \"7\", \"goal\": \"normalized_mean_absolute_error_min\", \"run_name\": \"MaxAbsScaler, DecisionTree\", \"run_properties\": \"copy=True\", \"primary_metric\": 0.02463179, \"best_metric\": 0.01130444}, {\"run_id\": \"AutoML_b90fbda5-c200-42aa-8e50-2732d82c0a55_8\", \"run_number\": 13, \"metric\": null, \"status\": \"Completed\", \"run_type\": \"azureml.scriptrun\", \"training_percent\": \"100\", \"start_time\": \"2021-04-13T09:06:55.646604Z\", \"end_time\": \"2021-04-13T09:07:38.732957Z\", \"created_time\": \"2021-04-13T09:06:42.966809Z\", \"created_time_dt\": \"2021-04-13T09:06:42.966809Z\", \"duration\": \"0:00:55\", \"iteration\": \"8\", \"goal\": \"normalized_mean_absolute_error_min\", \"run_name\": \"MaxAbsScaler, DecisionTree\", \"run_properties\": \"copy=True\", \"primary_metric\": 0.0187451, \"best_metric\": 0.01130444}, {\"run_id\": \"AutoML_b90fbda5-c200-42aa-8e50-2732d82c0a55_9\", \"run_number\": 14, \"metric\": null, \"status\": \"Completed\", \"run_type\": \"azureml.scriptrun\", \"training_percent\": \"100\", \"start_time\": \"2021-04-13T09:07:41.111666Z\", \"end_time\": \"2021-04-13T09:08:26.346938Z\", \"created_time\": \"2021-04-13T09:07:30.895213Z\", \"created_time_dt\": \"2021-04-13T09:07:30.895213Z\", \"duration\": \"0:00:55\", \"iteration\": \"9\", \"goal\": \"normalized_mean_absolute_error_min\", \"run_name\": \"MaxAbsScaler, DecisionTree\", \"run_properties\": \"copy=True\", \"primary_metric\": 0.0275594, \"best_metric\": 0.01130444}, {\"run_id\": \"AutoML_b90fbda5-c200-42aa-8e50-2732d82c0a55_10\", \"run_number\": 15, \"metric\": null, \"status\": \"Completed\", \"run_type\": \"azureml.scriptrun\", \"training_percent\": \"100\", \"start_time\": \"2021-04-13T09:07:52.929895Z\", \"end_time\": \"2021-04-13T09:08:35.067935Z\", \"created_time\": \"2021-04-13T09:07:42.283828Z\", \"created_time_dt\": \"2021-04-13T09:07:42.283828Z\", \"duration\": \"0:00:52\", \"iteration\": \"10\", \"goal\": \"normalized_mean_absolute_error_min\", \"run_name\": \"MaxAbsScaler, SGD\", \"run_properties\": \"copy=True\", \"primary_metric\": 0.02168741, \"best_metric\": 0.01130444}, {\"run_id\": \"AutoML_b90fbda5-c200-42aa-8e50-2732d82c0a55_11\", \"run_number\": 16, \"metric\": null, \"status\": \"Completed\", \"run_type\": \"azureml.scriptrun\", \"training_percent\": \"100\", \"start_time\": \"2021-04-13T09:08:05.418855Z\", \"end_time\": \"2021-04-13T09:08:48.351615Z\", \"created_time\": \"2021-04-13T09:07:53.953211Z\", \"created_time_dt\": \"2021-04-13T09:07:53.953211Z\", \"duration\": \"0:00:54\", \"iteration\": \"11\", \"goal\": \"normalized_mean_absolute_error_min\", \"run_name\": \"MaxAbsScaler, DecisionTree\", \"run_properties\": \"copy=True\", \"primary_metric\": 0.02159148, \"best_metric\": 0.01130444}, {\"run_id\": \"AutoML_b90fbda5-c200-42aa-8e50-2732d82c0a55_12\", \"run_number\": 17, \"metric\": null, \"status\": \"Completed\", \"run_type\": \"azureml.scriptrun\", \"training_percent\": \"100\", \"start_time\": \"2021-04-13T09:08:21.510552Z\", \"end_time\": \"2021-04-13T09:09:06.588132Z\", \"created_time\": \"2021-04-13T09:08:12.432448Z\", \"created_time_dt\": \"2021-04-13T09:08:12.432448Z\", \"duration\": \"0:00:54\", \"iteration\": \"12\", \"goal\": \"normalized_mean_absolute_error_min\", \"run_name\": \"MaxAbsScaler, DecisionTree\", \"run_properties\": \"copy=True\", \"primary_metric\": 0.0172222, \"best_metric\": 0.01130444}, {\"run_id\": \"AutoML_b90fbda5-c200-42aa-8e50-2732d82c0a55_13\", \"run_number\": 18, \"metric\": null, \"status\": \"Completed\", \"run_type\": \"azureml.scriptrun\", \"training_percent\": \"100\", \"start_time\": \"2021-04-13T09:08:27.297453Z\", \"end_time\": \"2021-04-13T09:09:27.092404Z\", \"created_time\": \"2021-04-13T09:08:17.769104Z\", \"created_time_dt\": \"2021-04-13T09:08:17.769104Z\", \"duration\": \"0:01:09\", \"iteration\": \"13\", \"goal\": \"normalized_mean_absolute_error_min\", \"run_name\": \"MaxAbsScaler, ElasticNet\", \"run_properties\": \"copy=True\", \"primary_metric\": 0.02060491, \"best_metric\": 0.01130444}, {\"run_id\": \"AutoML_b90fbda5-c200-42aa-8e50-2732d82c0a55_14\", \"run_number\": 19, \"metric\": null, \"status\": \"Completed\", \"run_type\": \"azureml.scriptrun\", \"training_percent\": \"100\", \"start_time\": \"2021-04-13T09:08:47.163975Z\", \"end_time\": \"2021-04-13T09:09:31.919733Z\", \"created_time\": \"2021-04-13T09:08:30.180465Z\", \"created_time_dt\": \"2021-04-13T09:08:30.180465Z\", \"duration\": \"0:01:01\", \"iteration\": \"14\", \"goal\": \"normalized_mean_absolute_error_min\", \"run_name\": \"MaxAbsScaler, DecisionTree\", \"run_properties\": \"copy=True\", \"primary_metric\": 0.02475452, \"best_metric\": 0.01130444}, {\"run_id\": \"AutoML_b90fbda5-c200-42aa-8e50-2732d82c0a55_15\", \"run_number\": 20, \"metric\": null, \"status\": \"Completed\", \"run_type\": \"azureml.scriptrun\", \"training_percent\": \"100\", \"start_time\": \"2021-04-13T09:09:04.641379Z\", \"end_time\": \"2021-04-13T09:09:48.848611Z\", \"created_time\": \"2021-04-13T09:08:38.329603Z\", \"created_time_dt\": \"2021-04-13T09:08:38.329603Z\", \"duration\": \"0:01:10\", \"iteration\": \"15\", \"goal\": \"normalized_mean_absolute_error_min\", \"run_name\": \"MaxAbsScaler, DecisionTree\", \"run_properties\": \"copy=True\", \"primary_metric\": 0.02558753, \"best_metric\": 0.01130444}, {\"run_id\": \"AutoML_b90fbda5-c200-42aa-8e50-2732d82c0a55_16\", \"run_number\": 21, \"metric\": null, \"status\": \"Completed\", \"run_type\": \"azureml.scriptrun\", \"training_percent\": \"100\", \"start_time\": \"2021-04-13T09:09:03.769518Z\", \"end_time\": \"2021-04-13T09:09:47.051783Z\", \"created_time\": \"2021-04-13T09:08:51.214343Z\", \"created_time_dt\": \"2021-04-13T09:08:51.214343Z\", \"duration\": \"0:00:55\", \"iteration\": \"16\", \"goal\": \"normalized_mean_absolute_error_min\", \"run_name\": \"MaxAbsScaler, DecisionTree\", \"run_properties\": \"copy=True\", \"primary_metric\": 0.02118061, \"best_metric\": 0.01130444}, {\"run_id\": \"AutoML_b90fbda5-c200-42aa-8e50-2732d82c0a55_17\", \"run_number\": 22, \"metric\": null, \"status\": \"Completed\", \"run_type\": \"azureml.scriptrun\", \"training_percent\": \"100\", \"start_time\": \"2021-04-13T09:09:22.70803Z\", \"end_time\": \"2021-04-13T09:10:08.861235Z\", \"created_time\": \"2021-04-13T09:09:10.80531Z\", \"created_time_dt\": \"2021-04-13T09:09:10.80531Z\", \"duration\": \"0:00:58\", \"iteration\": \"17\", \"goal\": \"normalized_mean_absolute_error_min\", \"run_name\": \"MaxAbsScaler, DecisionTree\", \"run_properties\": \"copy=True\", \"primary_metric\": 0.02473662, \"best_metric\": 0.01130444}, {\"run_id\": \"AutoML_b90fbda5-c200-42aa-8e50-2732d82c0a55_18\", \"run_number\": 23, \"metric\": null, \"status\": \"Completed\", \"run_type\": \"azureml.scriptrun\", \"training_percent\": \"100\", \"start_time\": \"2021-04-13T09:09:41.451402Z\", \"end_time\": \"2021-04-13T09:10:26.86741Z\", \"created_time\": \"2021-04-13T09:09:31.901079Z\", \"created_time_dt\": \"2021-04-13T09:09:31.901079Z\", \"duration\": \"0:00:54\", \"iteration\": \"18\", \"goal\": \"normalized_mean_absolute_error_min\", \"run_name\": \"MaxAbsScaler, DecisionTree\", \"run_properties\": \"copy=True\", \"primary_metric\": 0.0195015, \"best_metric\": 0.01130444}, {\"run_id\": \"AutoML_b90fbda5-c200-42aa-8e50-2732d82c0a55_19\", \"run_number\": 24, \"metric\": null, \"status\": \"Completed\", \"run_type\": \"azureml.scriptrun\", \"training_percent\": \"100\", \"start_time\": \"2021-04-13T09:09:47.614876Z\", \"end_time\": \"2021-04-13T09:10:36.462817Z\", \"created_time\": \"2021-04-13T09:09:38.248359Z\", \"created_time_dt\": \"2021-04-13T09:09:38.248359Z\", \"duration\": \"0:00:58\", \"iteration\": \"19\", \"goal\": \"normalized_mean_absolute_error_min\", \"run_name\": \"MaxAbsScaler, DecisionTree\", \"run_properties\": \"copy=True\", \"primary_metric\": 0.02396659, \"best_metric\": 0.01130444}, {\"run_id\": \"AutoML_b90fbda5-c200-42aa-8e50-2732d82c0a55_20\", \"run_number\": 25, \"metric\": null, \"status\": \"Completed\", \"run_type\": \"azureml.scriptrun\", \"training_percent\": \"100\", \"start_time\": \"2021-04-13T09:10:01.607011Z\", \"end_time\": \"2021-04-13T09:10:49.580781Z\", \"created_time\": \"2021-04-13T09:09:51.569888Z\", \"created_time_dt\": \"2021-04-13T09:09:51.569888Z\", \"duration\": \"0:00:58\", \"iteration\": \"20\", \"goal\": \"normalized_mean_absolute_error_min\", \"run_name\": \"MaxAbsScaler, DecisionTree\", \"run_properties\": \"copy=True\", \"primary_metric\": 0.0187271, \"best_metric\": 0.01130444}, {\"run_id\": \"AutoML_b90fbda5-c200-42aa-8e50-2732d82c0a55_21\", \"run_number\": 26, \"metric\": null, \"status\": \"Completed\", \"run_type\": \"azureml.scriptrun\", \"training_percent\": \"100\", \"start_time\": \"2021-04-13T09:10:04.271885Z\", \"end_time\": \"2021-04-13T09:10:49.152717Z\", \"created_time\": \"2021-04-13T09:09:56.347022Z\", \"created_time_dt\": \"2021-04-13T09:09:56.347022Z\", \"duration\": \"0:00:52\", \"iteration\": \"21\", \"goal\": \"normalized_mean_absolute_error_min\", \"run_name\": \"MaxAbsScaler, DecisionTree\", \"run_properties\": \"copy=True\", \"primary_metric\": 0.02389162, \"best_metric\": 0.01130444}, {\"run_id\": \"AutoML_b90fbda5-c200-42aa-8e50-2732d82c0a55_22\", \"run_number\": 27, \"metric\": null, \"status\": \"Completed\", \"run_type\": \"azureml.scriptrun\", \"training_percent\": \"100\", \"start_time\": \"2021-04-13T09:10:23.967075Z\", \"end_time\": \"2021-04-13T09:11:09.920485Z\", \"created_time\": \"2021-04-13T09:10:12.722829Z\", \"created_time_dt\": \"2021-04-13T09:10:12.722829Z\", \"duration\": \"0:00:57\", \"iteration\": \"22\", \"goal\": \"normalized_mean_absolute_error_min\", \"run_name\": \"MaxAbsScaler, DecisionTree\", \"run_properties\": \"copy=True\", \"primary_metric\": 0.01746285, \"best_metric\": 0.01130444}, {\"run_id\": \"AutoML_b90fbda5-c200-42aa-8e50-2732d82c0a55_23\", \"run_number\": 28, \"metric\": null, \"status\": \"Completed\", \"run_type\": \"azureml.scriptrun\", \"training_percent\": \"100\", \"start_time\": \"2021-04-13T09:10:39.619308Z\", \"end_time\": \"2021-04-13T09:11:24.861076Z\", \"created_time\": \"2021-04-13T09:10:30.769401Z\", \"created_time_dt\": \"2021-04-13T09:10:30.769401Z\", \"duration\": \"0:00:54\", \"iteration\": \"23\", \"goal\": \"normalized_mean_absolute_error_min\", \"run_name\": \"MaxAbsScaler, DecisionTree\", \"run_properties\": \"copy=True\", \"primary_metric\": 0.02738482, \"best_metric\": 0.01130444}, {\"run_id\": \"AutoML_b90fbda5-c200-42aa-8e50-2732d82c0a55_24\", \"run_number\": 29, \"metric\": null, \"status\": \"Completed\", \"run_type\": \"azureml.scriptrun\", \"training_percent\": \"100\", \"start_time\": \"2021-04-13T09:10:49.791345Z\", \"end_time\": \"2021-04-13T09:11:52.634048Z\", \"created_time\": \"2021-04-13T09:10:39.777208Z\", \"created_time_dt\": \"2021-04-13T09:10:39.777208Z\", \"duration\": \"0:01:12\", \"iteration\": \"24\", \"goal\": \"normalized_mean_absolute_error_min\", \"run_name\": \"MaxAbsScaler, RandomForest\", \"run_properties\": \"copy=True\", \"primary_metric\": 0.01979992, \"best_metric\": 0.01130444}, {\"run_id\": \"AutoML_b90fbda5-c200-42aa-8e50-2732d82c0a55_25\", \"run_number\": 30, \"metric\": null, \"status\": \"Completed\", \"run_type\": \"azureml.scriptrun\", \"training_percent\": \"100\", \"start_time\": \"2021-04-13T09:11:05.603785Z\", \"end_time\": \"2021-04-13T09:11:51.02675Z\", \"created_time\": \"2021-04-13T09:10:53.885054Z\", \"created_time_dt\": \"2021-04-13T09:10:53.885054Z\", \"duration\": \"0:00:57\", \"iteration\": \"25\", \"goal\": \"normalized_mean_absolute_error_min\", \"run_name\": \"MaxAbsScaler, LightGBM\", \"run_properties\": \"copy=True\", \"primary_metric\": 0.02105172, \"best_metric\": 0.01130444}, {\"run_id\": \"AutoML_b90fbda5-c200-42aa-8e50-2732d82c0a55_26\", \"run_number\": 31, \"metric\": null, \"status\": \"Completed\", \"run_type\": \"azureml.scriptrun\", \"training_percent\": \"100\", \"start_time\": \"2021-04-13T09:11:02.773355Z\", \"end_time\": \"2021-04-13T09:11:47.60296Z\", \"created_time\": \"2021-04-13T09:10:53.938301Z\", \"created_time_dt\": \"2021-04-13T09:10:53.938301Z\", \"duration\": \"0:00:53\", \"iteration\": \"26\", \"goal\": \"normalized_mean_absolute_error_min\", \"run_name\": \"MaxAbsScaler, DecisionTree\", \"run_properties\": \"copy=True\", \"primary_metric\": 0.01567334, \"best_metric\": 0.01130444}, {\"run_id\": \"AutoML_b90fbda5-c200-42aa-8e50-2732d82c0a55_27\", \"run_number\": 32, \"metric\": null, \"status\": \"Completed\", \"run_type\": \"azureml.scriptrun\", \"training_percent\": \"100\", \"start_time\": \"2021-04-13T09:11:25.591933Z\", \"end_time\": \"2021-04-13T09:12:16.171344Z\", \"created_time\": \"2021-04-13T09:11:12.446065Z\", \"created_time_dt\": \"2021-04-13T09:11:12.446065Z\", \"duration\": \"0:01:03\", \"iteration\": \"27\", \"goal\": \"normalized_mean_absolute_error_min\", \"run_name\": \"MaxAbsScaler, RandomForest\", \"run_properties\": \"copy=True\", \"primary_metric\": 0.02216201, \"best_metric\": 0.01130444}, {\"run_id\": \"AutoML_b90fbda5-c200-42aa-8e50-2732d82c0a55_28\", \"run_number\": 33, \"metric\": null, \"status\": \"Completed\", \"run_type\": \"azureml.scriptrun\", \"training_percent\": \"100\", \"start_time\": \"2021-04-13T09:11:37.694086Z\", \"end_time\": \"2021-04-13T09:12:25.709218Z\", \"created_time\": \"2021-04-13T09:11:27.529886Z\", \"created_time_dt\": \"2021-04-13T09:11:27.529886Z\", \"duration\": \"0:00:58\", \"iteration\": \"28\", \"goal\": \"normalized_mean_absolute_error_min\", \"run_name\": \"MaxAbsScaler, ExtremeRandomTrees\", \"run_properties\": \"copy=True\", \"primary_metric\": 0.01780076, \"best_metric\": 0.01130444}, {\"run_id\": \"AutoML_b90fbda5-c200-42aa-8e50-2732d82c0a55_29\", \"run_number\": 34, \"metric\": null, \"status\": \"Completed\", \"run_type\": \"azureml.scriptrun\", \"training_percent\": \"100\", \"start_time\": \"2021-04-13T09:12:03.103915Z\", \"end_time\": \"2021-04-13T09:12:55.547249Z\", \"created_time\": \"2021-04-13T09:11:50.099987Z\", \"created_time_dt\": \"2021-04-13T09:11:50.099987Z\", \"duration\": \"0:01:05\", \"iteration\": \"29\", \"goal\": \"normalized_mean_absolute_error_min\", \"run_name\": \"MaxAbsScaler, RandomForest\", \"run_properties\": \"copy=True\", \"primary_metric\": 0.01780376, \"best_metric\": 0.01130444}, {\"run_id\": \"AutoML_b90fbda5-c200-42aa-8e50-2732d82c0a55_30\", \"run_number\": 35, \"metric\": null, \"status\": \"Completed\", \"run_type\": \"azureml.scriptrun\", \"training_percent\": \"100\", \"start_time\": \"2021-04-13T09:12:09.308611Z\", \"end_time\": \"2021-04-13T09:13:01.774098Z\", \"created_time\": \"2021-04-13T09:11:54.974294Z\", \"created_time_dt\": \"2021-04-13T09:11:54.974294Z\", \"duration\": \"0:01:06\", \"iteration\": \"30\", \"goal\": \"normalized_mean_absolute_error_min\", \"run_name\": \"MaxAbsScaler, LightGBM\", \"run_properties\": \"copy=True\", \"primary_metric\": 0.02327456, \"best_metric\": 0.01130444}, {\"run_id\": \"AutoML_b90fbda5-c200-42aa-8e50-2732d82c0a55_31\", \"run_number\": 36, \"metric\": null, \"status\": \"Completed\", \"run_type\": \"azureml.scriptrun\", \"training_percent\": \"100\", \"start_time\": \"2021-04-13T09:12:09.990131Z\", \"end_time\": \"2021-04-13T09:12:55.564787Z\", \"created_time\": \"2021-04-13T09:11:58.903812Z\", \"created_time_dt\": \"2021-04-13T09:11:58.903812Z\", \"duration\": \"0:00:56\", \"iteration\": \"31\", \"goal\": \"normalized_mean_absolute_error_min\", \"run_name\": \"MaxAbsScaler, RandomForest\", \"run_properties\": \"copy=True\", \"primary_metric\": 0.02277199, \"best_metric\": 0.01130444}, {\"run_id\": \"AutoML_b90fbda5-c200-42aa-8e50-2732d82c0a55_32\", \"run_number\": 37, \"metric\": null, \"status\": \"Completed\", \"run_type\": \"azureml.scriptrun\", \"training_percent\": \"100\", \"start_time\": \"2021-04-13T09:12:29.679965Z\", \"end_time\": \"2021-04-13T09:13:24.56482Z\", \"created_time\": \"2021-04-13T09:12:18.630309Z\", \"created_time_dt\": \"2021-04-13T09:12:18.630309Z\", \"duration\": \"0:01:05\", \"iteration\": \"32\", \"goal\": \"normalized_mean_absolute_error_min\", \"run_name\": \"MaxAbsScaler, RandomForest\", \"run_properties\": \"copy=True\", \"primary_metric\": 0.03044203, \"best_metric\": 0.01130444}, {\"run_id\": \"AutoML_b90fbda5-c200-42aa-8e50-2732d82c0a55_33\", \"run_number\": 38, \"metric\": null, \"status\": \"Completed\", \"run_type\": \"azureml.scriptrun\", \"training_percent\": \"100\", \"start_time\": \"2021-04-13T09:12:41.312976Z\", \"end_time\": \"2021-04-13T09:13:43.232296Z\", \"created_time\": \"2021-04-13T09:12:28.124325Z\", \"created_time_dt\": \"2021-04-13T09:12:28.124325Z\", \"duration\": \"0:01:15\", \"iteration\": \"33\", \"goal\": \"normalized_mean_absolute_error_min\", \"run_name\": \"MaxAbsScaler, ExtremeRandomTrees\", \"run_properties\": \"copy=True\", \"primary_metric\": 0.02374217, \"best_metric\": 0.01130444}, {\"run_id\": \"AutoML_b90fbda5-c200-42aa-8e50-2732d82c0a55_34\", \"run_number\": 39, \"metric\": null, \"status\": \"Canceled\", \"run_type\": \"azureml.scriptrun\", \"training_percent\": \"100\", \"start_time\": \"2021-04-13T09:13:10.882643Z\", \"end_time\": \"2021-04-13T09:13:50.241589Z\", \"created_time\": \"2021-04-13T09:12:59.970865Z\", \"created_time_dt\": \"2021-04-13T09:12:59.970865Z\", \"duration\": \"0:00:50\", \"iteration\": \"34\", \"goal\": \"normalized_mean_absolute_error_min\", \"run_name\": \"MaxAbsScaler, LightGBM\", \"run_properties\": \"copy=True\", \"primary_metric\": 0.02428158, \"best_metric\": 0.01130444}, {\"run_id\": \"AutoML_b90fbda5-c200-42aa-8e50-2732d82c0a55_35\", \"run_number\": 40, \"metric\": null, \"status\": \"Canceled\", \"run_type\": \"azureml.scriptrun\", \"training_percent\": \"100\", \"start_time\": \"2021-04-13T09:13:10.348042Z\", \"end_time\": \"2021-04-13T09:13:50.047489Z\", \"created_time\": \"2021-04-13T09:13:00.094738Z\", \"created_time_dt\": \"2021-04-13T09:13:00.094738Z\", \"duration\": \"0:00:49\", \"iteration\": \"35\", \"goal\": \"normalized_mean_absolute_error_min\", \"run_name\": \"MaxAbsScaler, GradientBoosting\", \"run_properties\": \"copy=True\", \"primary_metric\": 0.01642456, \"best_metric\": 0.01130444}, {\"run_id\": \"AutoML_b90fbda5-c200-42aa-8e50-2732d82c0a55_36\", \"run_number\": 41, \"metric\": null, \"status\": \"Canceled\", \"run_type\": \"azureml.scriptrun\", \"training_percent\": \"100\", \"start_time\": \"2021-04-13T09:13:14.237344Z\", \"end_time\": \"2021-04-13T09:13:49.974489Z\", \"created_time\": \"2021-04-13T09:13:04.221078Z\", \"created_time_dt\": \"2021-04-13T09:13:04.221078Z\", \"duration\": \"0:00:45\", \"iteration\": \"36\", \"goal\": null, \"run_name\": \"MaxAbsScaler, RandomForest\", \"run_properties\": null}, {\"run_id\": \"AutoML_b90fbda5-c200-42aa-8e50-2732d82c0a55_37\", \"run_number\": 42, \"metric\": null, \"status\": \"Canceled\", \"run_type\": \"azureml.scriptrun\", \"training_percent\": \"100\", \"start_time\": \"2021-04-13T09:13:39.344463Z\", \"end_time\": \"2021-04-13T09:13:50.08897Z\", \"created_time\": \"2021-04-13T09:13:27.401031Z\", \"created_time_dt\": \"2021-04-13T09:13:27.401031Z\", \"duration\": \"0:00:22\", \"iteration\": \"37\", \"goal\": null, \"run_name\": \"Canceled\", \"run_properties\": null}, {\"run_id\": \"AutoML_b90fbda5-c200-42aa-8e50-2732d82c0a55_38\", \"run_number\": 43, \"metric\": null, \"status\": \"Completed\", \"run_type\": \"azureml.scriptrun\", \"training_percent\": \"100\", \"start_time\": \"2021-04-13T09:13:59.394412Z\", \"end_time\": \"2021-04-13T09:14:58.354357Z\", \"created_time\": \"2021-04-13T09:13:51.702661Z\", \"created_time_dt\": \"2021-04-13T09:13:51.702661Z\", \"duration\": \"0:01:06\", \"iteration\": \"38\", \"goal\": \"normalized_mean_absolute_error_min\", \"run_name\": \"VotingEnsemble\", \"run_properties\": \"estimators=[('0',\\n                                          Pipeline(memory=None,\\n                                                   steps=[('maxabsscaler',\\n                                                           MaxAbsScaler(copy=True\", \"primary_metric\": 0.01130444, \"best_metric\": 0.01130444}, {\"run_id\": \"AutoML_b90fbda5-c200-42aa-8e50-2732d82c0a55_39\", \"run_number\": 44, \"metric\": null, \"status\": \"Completed\", \"run_type\": \"azureml.scriptrun\", \"training_percent\": \"100\", \"start_time\": \"2021-04-13T09:13:59.325408Z\", \"end_time\": \"2021-04-13T09:15:04.463854Z\", \"created_time\": \"2021-04-13T09:13:51.815401Z\", \"created_time_dt\": \"2021-04-13T09:13:51.815401Z\", \"duration\": \"0:01:12\", \"iteration\": \"39\", \"goal\": \"normalized_mean_absolute_error_min\", \"run_name\": \"StackEnsemble\", \"run_properties\": \"base_learners=[('0',\\n                                       Pipeline(memory=None,\\n                                                steps=[('maxabsscaler',\\n                                                        MaxAbsScaler(copy=True\", \"primary_metric\": 0.01133684, \"best_metric\": 0.01130444}], \"children_metrics\": {\"categories\": [0], \"series\": {\"normalized_median_absolute_error\": [{\"categories\": [\"0\", \"1\", \"2\", \"3\", \"4\", \"5\", \"6\", \"7\", \"8\", \"9\", \"10\", \"11\", \"12\", \"13\", \"14\", \"15\", \"16\", \"17\", \"18\", \"19\", \"20\", \"21\", \"22\", \"23\", \"24\", \"25\", \"26\", \"27\", \"28\", \"29\", \"30\", \"31\", \"32\", \"33\", \"34\", \"35\", \"38\", \"39\"], \"mode\": \"markers\", \"name\": \"normalized_median_absolute_error\", \"stepped\": false, \"type\": \"scatter\", \"data\": [0.007296114624030951, 0.010331440344777815, 0.016680271035706153, 0.01330532015776837, 0.01311817670224838, 0.01155743653252655, 0.013248599899444791, 0.016227662978193242, 0.0113418218511422, 0.018099222068667296, 0.016076266354337777, 0.013676730275859555, 0.010577240796257973, 0.015213499404851678, 0.015716705237723522, 0.01704871089317708, 0.013217038993565466, 0.015626622942357435, 0.011892687897634988, 0.015152316388907993, 0.011470444077922614, 0.014969286382095215, 0.010613920863373321, 0.018280226102710323, 0.012393831104850664, 0.01275414349937682, 0.009601310175050832, 0.013919825288962906, 0.011253718182004302, 0.011034165409522678, 0.01499223945366939, 0.014521840411614485, 0.02069413073903367, 0.015877206249703613, 0.01549071118539431, 0.010668888635512408, 0.007296114624030951, 0.007318577558873616]}, {\"categories\": [\"0\", \"1\", \"2\", \"3\", \"4\", \"5\", \"6\", \"7\", \"8\", \"9\", \"10\", \"11\", \"12\", \"13\", \"14\", \"15\", \"16\", \"17\", \"18\", \"19\", \"20\", \"21\", \"22\", \"23\", \"24\", \"25\", \"26\", \"27\", \"28\", \"29\", \"30\", \"31\", \"32\", \"33\", \"34\", \"35\", \"38\", \"39\"], \"mode\": \"lines\", \"name\": \"normalized_median_absolute_error_min\", \"stepped\": true, \"type\": \"scatter\", \"data\": [0.007296114624030951, 0.007296114624030951, 0.007296114624030951, 0.007296114624030951, 0.007296114624030951, 0.007296114624030951, 0.007296114624030951, 0.007296114624030951, 0.007296114624030951, 0.007296114624030951, 0.007296114624030951, 0.007296114624030951, 0.007296114624030951, 0.007296114624030951, 0.007296114624030951, 0.007296114624030951, 0.007296114624030951, 0.007296114624030951, 0.007296114624030951, 0.007296114624030951, 0.007296114624030951, 0.007296114624030951, 0.007296114624030951, 0.007296114624030951, 0.007296114624030951, 0.007296114624030951, 0.007296114624030951, 0.007296114624030951, 0.007296114624030951, 0.007296114624030951, 0.007296114624030951, 0.007296114624030951, 0.007296114624030951, 0.007296114624030951, 0.007296114624030951, 0.007296114624030951, 0.007296114624030951, 0.007296114624030951]}], \"median_absolute_error\": [{\"categories\": [\"0\", \"1\", \"2\", \"3\", \"4\", \"5\", \"6\", \"7\", \"8\", \"9\", \"10\", \"11\", \"12\", \"13\", \"14\", \"15\", \"16\", \"17\", \"18\", \"19\", \"20\", \"21\", \"22\", \"23\", \"24\", \"25\", \"26\", \"27\", \"28\", \"29\", \"30\", \"31\", \"32\", \"33\", \"34\", \"35\", \"38\", \"39\"], \"mode\": \"markers\", \"name\": \"median_absolute_error\", \"stepped\": false, \"type\": \"scatter\", \"data\": [1162.6285692247081, 1646.3046875, 2657.9845092687397, 2120.189461820232, 2090.368339326577, 1841.6659540215733, 2111.1511453766284, 2585.861867912115, 1807.3079701576582, 2884.0929374200655, 2561.7369672973705, 2179.373292727944, 1685.4727436429118, 2424.2559166637097, 2504.4412629260055, 2716.6950321168747, 2106.1219465856634, 2490.086739241715, 1895.087923800238, 2414.5064642560997, 1827.8037933728908, 2385.3408157004906, 1691.3176756576752, 2912.935749240787, 1974.9445927268487, 2032.360012482197, 1529.9591750841748, 2218.1102399709503, 1793.2687385842037, 1758.2832238420294, 2388.9983647027634, 2314.0407477503563, 3297.5890391342764, 2530.0169386840207, 2468.429336681398, 1700.0767351802667, 1162.6285692247081, 1166.2080154289517]}, {\"categories\": [\"0\", \"1\", \"2\", \"3\", \"4\", \"5\", \"6\", \"7\", \"8\", \"9\", \"10\", \"11\", \"12\", \"13\", \"14\", \"15\", \"16\", \"17\", \"18\", \"19\", \"20\", \"21\", \"22\", \"23\", \"24\", \"25\", \"26\", \"27\", \"28\", \"29\", \"30\", \"31\", \"32\", \"33\", \"34\", \"35\", \"38\", \"39\"], \"mode\": \"lines\", \"name\": \"median_absolute_error_min\", \"stepped\": true, \"type\": \"scatter\", \"data\": [1162.6285692247081, 1162.6285692247081, 1162.6285692247081, 1162.6285692247081, 1162.6285692247081, 1162.6285692247081, 1162.6285692247081, 1162.6285692247081, 1162.6285692247081, 1162.6285692247081, 1162.6285692247081, 1162.6285692247081, 1162.6285692247081, 1162.6285692247081, 1162.6285692247081, 1162.6285692247081, 1162.6285692247081, 1162.6285692247081, 1162.6285692247081, 1162.6285692247081, 1162.6285692247081, 1162.6285692247081, 1162.6285692247081, 1162.6285692247081, 1162.6285692247081, 1162.6285692247081, 1162.6285692247081, 1162.6285692247081, 1162.6285692247081, 1162.6285692247081, 1162.6285692247081, 1162.6285692247081, 1162.6285692247081, 1162.6285692247081, 1162.6285692247081, 1162.6285692247081, 1162.6285692247081, 1162.6285692247081]}], \"mean_absolute_error\": [{\"categories\": [\"0\", \"1\", \"2\", \"3\", \"4\", \"5\", \"6\", \"7\", \"8\", \"9\", \"10\", \"11\", \"12\", \"13\", \"14\", \"15\", \"16\", \"17\", \"18\", \"19\", \"20\", \"21\", \"22\", \"23\", \"24\", \"25\", \"26\", \"27\", \"28\", \"29\", \"30\", \"31\", \"32\", \"33\", \"34\", \"35\", \"38\", \"39\"], \"mode\": \"markers\", \"name\": \"mean_absolute_error\", \"stepped\": false, \"type\": \"scatter\", \"data\": [1801.3507542906725, 2403.8492799368255, 4009.4522008902586, 3494.2154163368746, 3360.252191533766, 3005.594030184436, 3396.367572058413, 3925.0516828396717, 2987.0124150985207, 4391.562049733086, 3455.8673356960867, 3440.5802999743914, 2744.340575417397, 3283.37186757721, 3944.607433194029, 4077.347668973209, 3375.108871848946, 3941.7554262278477, 3107.544178699878, 3819.0525100636573, 2984.1442086046177, 3807.105589821578, 2782.6881229536516, 4363.743905919536, 3155.097996991158, 3354.5708889433495, 2497.5315355894304, 3531.493822298118, 2836.533665529409, 2837.012055838373, 3708.778228960566, 3628.6945760920353, 4850.90650698989, 3783.290633130148, 3869.2453492362206, 2617.23780051167, 1801.3507542906725, 1806.5135949576827]}, {\"categories\": [\"0\", \"1\", \"2\", \"3\", \"4\", \"5\", \"6\", \"7\", \"8\", \"9\", \"10\", \"11\", \"12\", \"13\", \"14\", \"15\", \"16\", \"17\", \"18\", \"19\", \"20\", \"21\", \"22\", \"23\", \"24\", \"25\", \"26\", \"27\", \"28\", \"29\", \"30\", \"31\", \"32\", \"33\", \"34\", \"35\", \"38\", \"39\"], \"mode\": \"lines\", \"name\": \"mean_absolute_error_min\", \"stepped\": true, \"type\": \"scatter\", \"data\": [1801.3507542906725, 1801.3507542906725, 1801.3507542906725, 1801.3507542906725, 1801.3507542906725, 1801.3507542906725, 1801.3507542906725, 1801.3507542906725, 1801.3507542906725, 1801.3507542906725, 1801.3507542906725, 1801.3507542906725, 1801.3507542906725, 1801.3507542906725, 1801.3507542906725, 1801.3507542906725, 1801.3507542906725, 1801.3507542906725, 1801.3507542906725, 1801.3507542906725, 1801.3507542906725, 1801.3507542906725, 1801.3507542906725, 1801.3507542906725, 1801.3507542906725, 1801.3507542906725, 1801.3507542906725, 1801.3507542906725, 1801.3507542906725, 1801.3507542906725, 1801.3507542906725, 1801.3507542906725, 1801.3507542906725, 1801.3507542906725, 1801.3507542906725, 1801.3507542906725, 1801.3507542906725, 1801.3507542906725]}], \"spearman_correlation\": [{\"categories\": [\"0\", \"1\", \"2\", \"3\", \"4\", \"5\", \"6\", \"7\", \"8\", \"9\", \"10\", \"11\", \"12\", \"13\", \"14\", \"15\", \"16\", \"17\", \"18\", \"19\", \"20\", \"21\", \"22\", \"23\", \"24\", \"25\", \"26\", \"27\", \"28\", \"29\", \"30\", \"31\", \"32\", \"33\", \"34\", \"35\", \"38\", \"39\"], \"mode\": \"markers\", \"name\": \"spearman_correlation\", \"stepped\": false, \"type\": \"scatter\", \"data\": [0.9674561446281308, 0.9436758287241013, 0.8592111888630752, 0.8930988222935956, 0.9026438960327746, 0.9206619939162661, 0.8984551093233168, 0.860381324274261, 0.9150866520990325, 0.8310640976926251, 0.9136321173535032, 0.8969398220918379, 0.9302923034314557, 0.9148193049846641, 0.8672482775398945, 0.8548252827613959, 0.8998410083001818, 0.8675702265573758, 0.9137976042496713, 0.8784288218107195, 0.9172106417352505, 0.8788502149626817, 0.9298831835596445, 0.8239615534571584, 0.9245367214692487, 0.9050145916334204, 0.9386910425886869, 0.8968707071567331, 0.9383589750705594, 0.9353930420392081, 0.8928778427955032, 0.8877658609359959, 0.8130906038820952, 0.9045468843460448, 0.8710459421936463, 0.9388993532183374, 0.9674561446281308, 0.9674561446281308]}, {\"categories\": [\"0\", \"1\", \"2\", \"3\", \"4\", \"5\", \"6\", \"7\", \"8\", \"9\", \"10\", \"11\", \"12\", \"13\", \"14\", \"15\", \"16\", \"17\", \"18\", \"19\", \"20\", \"21\", \"22\", \"23\", \"24\", \"25\", \"26\", \"27\", \"28\", \"29\", \"30\", \"31\", \"32\", \"33\", \"34\", \"35\", \"38\", \"39\"], \"mode\": \"lines\", \"name\": \"spearman_correlation_max\", \"stepped\": true, \"type\": \"scatter\", \"data\": [0.9674561446281308, 0.9674561446281308, 0.9674561446281308, 0.9674561446281308, 0.9674561446281308, 0.9674561446281308, 0.9674561446281308, 0.9674561446281308, 0.9674561446281308, 0.9674561446281308, 0.9674561446281308, 0.9674561446281308, 0.9674561446281308, 0.9674561446281308, 0.9674561446281308, 0.9674561446281308, 0.9674561446281308, 0.9674561446281308, 0.9674561446281308, 0.9674561446281308, 0.9674561446281308, 0.9674561446281308, 0.9674561446281308, 0.9674561446281308, 0.9674561446281308, 0.9674561446281308, 0.9674561446281308, 0.9674561446281308, 0.9674561446281308, 0.9674561446281308, 0.9674561446281308, 0.9674561446281308, 0.9674561446281308, 0.9674561446281308, 0.9674561446281308, 0.9674561446281308, 0.9674561446281308, 0.9674561446281308]}], \"normalized_root_mean_squared_log_error\": [{\"categories\": [\"0\", \"1\", \"2\", \"3\", \"4\", \"5\", \"6\", \"7\", \"8\", \"9\", \"10\", \"11\", \"12\", \"13\", \"14\", \"15\", \"16\", \"17\", \"18\", \"19\", \"20\", \"21\", \"22\", \"23\", \"24\", \"25\", \"26\", \"27\", \"28\", \"29\", \"30\", \"31\", \"32\", \"33\", \"34\", \"35\", \"38\", \"39\"], \"mode\": \"markers\", \"name\": \"normalized_root_mean_squared_log_error\", \"stepped\": false, \"type\": \"scatter\", \"data\": [0.0256368636386055, 0.0284169247564753, 0.04430437353206482, 0.04073447905573304, 0.03828494219859243, 0.035254626761239354, 0.03898701090785207, 0.04275008772983147, 0.03612396541340404, 0.04769271613020981, NaN, 0.03904772256201466, 0.0326491534617463, NaN, 0.04327180402857305, 0.0456113039681642, 0.038314494067422274, 0.04350745671572912, 0.03651302939129728, 0.04258697173431808, 0.03576859239789569, 0.0425592409440845, 0.0329877384395724, 0.04827317443822199, 0.040749555315260165, 0.042598738479427974, 0.029818317365381316, 0.04328664483160483, 0.0333627359548029, 0.0364373331917473, 0.043775617726425985, 0.043391087808030006, 0.05324638472331424, 0.04277850807661774, 0.045879903765108164, 0.03147503441368507, 0.0256368636386055, 0.024151762325812988]}, {\"categories\": [\"0\", \"1\", \"2\", \"3\", \"4\", \"5\", \"6\", \"7\", \"8\", \"9\", \"10\", \"11\", \"12\", \"13\", \"14\", \"15\", \"16\", \"17\", \"18\", \"19\", \"20\", \"21\", \"22\", \"23\", \"24\", \"25\", \"26\", \"27\", \"28\", \"29\", \"30\", \"31\", \"32\", \"33\", \"34\", \"35\", \"38\", \"39\"], \"mode\": \"lines\", \"name\": \"normalized_root_mean_squared_log_error_min\", \"stepped\": true, \"type\": \"scatter\", \"data\": [0.0256368636386055, 0.0256368636386055, 0.0256368636386055, 0.0256368636386055, 0.0256368636386055, 0.0256368636386055, 0.0256368636386055, 0.0256368636386055, 0.0256368636386055, 0.0256368636386055, 0.0256368636386055, 0.0256368636386055, 0.0256368636386055, 0.0256368636386055, 0.0256368636386055, 0.0256368636386055, 0.0256368636386055, 0.0256368636386055, 0.0256368636386055, 0.0256368636386055, 0.0256368636386055, 0.0256368636386055, 0.0256368636386055, 0.0256368636386055, 0.0256368636386055, 0.0256368636386055, 0.0256368636386055, 0.0256368636386055, 0.0256368636386055, 0.0256368636386055, 0.0256368636386055, 0.0256368636386055, 0.0256368636386055, 0.0256368636386055, 0.0256368636386055, 0.0256368636386055, 0.0256368636386055, 0.024151762325812988]}], \"mean_absolute_percentage_error\": [{\"categories\": [\"0\", \"1\", \"2\", \"3\", \"4\", \"5\", \"6\", \"7\", \"8\", \"9\", \"10\", \"11\", \"12\", \"13\", \"14\", \"15\", \"16\", \"17\", \"18\", \"19\", \"20\", \"21\", \"22\", \"23\", \"24\", \"25\", \"26\", \"27\", \"28\", \"29\", \"30\", \"31\", \"32\", \"33\", \"34\", \"35\", \"38\", \"39\"], \"mode\": \"markers\", \"name\": \"mean_absolute_percentage_error\", \"stepped\": false, \"type\": \"scatter\", \"data\": [8.314871311449652, 11.047676305105197, 18.688949830947166, 16.13060756211098, 15.121108292176237, 13.53905287279556, 15.455335297651212, 17.93885441411083, 13.801368715112032, 20.47775596903871, 16.02504740237103, 15.526471601741155, 12.321744938321984, 15.174766272385904, 17.933486028728115, 19.2312973915769, 15.257046176704753, 18.024629271024498, 14.120492541968646, 17.497466417154783, 13.715350775304664, 17.45806045788505, 12.465893395561716, 20.76296415371289, 16.048243102430252, 16.812756765702236, 11.108029592350846, 17.619945786330756, 12.940436016963075, 13.953707778067729, 17.96405169929103, 17.769996919890406, 23.717629505814894, 17.67706528157113, 19.102971737541687, 12.156485261318325, 8.314871311449652, 8.308500931915566]}, {\"categories\": [\"0\", \"1\", \"2\", \"3\", \"4\", \"5\", \"6\", \"7\", \"8\", \"9\", \"10\", \"11\", \"12\", \"13\", \"14\", \"15\", \"16\", \"17\", \"18\", \"19\", \"20\", \"21\", \"22\", \"23\", \"24\", \"25\", \"26\", \"27\", \"28\", \"29\", \"30\", \"31\", \"32\", \"33\", \"34\", \"35\", \"38\", \"39\"], \"mode\": \"lines\", \"name\": \"mean_absolute_percentage_error_min\", \"stepped\": true, \"type\": \"scatter\", \"data\": [8.314871311449652, 8.314871311449652, 8.314871311449652, 8.314871311449652, 8.314871311449652, 8.314871311449652, 8.314871311449652, 8.314871311449652, 8.314871311449652, 8.314871311449652, 8.314871311449652, 8.314871311449652, 8.314871311449652, 8.314871311449652, 8.314871311449652, 8.314871311449652, 8.314871311449652, 8.314871311449652, 8.314871311449652, 8.314871311449652, 8.314871311449652, 8.314871311449652, 8.314871311449652, 8.314871311449652, 8.314871311449652, 8.314871311449652, 8.314871311449652, 8.314871311449652, 8.314871311449652, 8.314871311449652, 8.314871311449652, 8.314871311449652, 8.314871311449652, 8.314871311449652, 8.314871311449652, 8.314871311449652, 8.314871311449652, 8.308500931915566]}], \"root_mean_squared_error\": [{\"categories\": [\"0\", \"1\", \"2\", \"3\", \"4\", \"5\", \"6\", \"7\", \"8\", \"9\", \"10\", \"11\", \"12\", \"13\", \"14\", \"15\", \"16\", \"17\", \"18\", \"19\", \"20\", \"21\", \"22\", \"23\", \"24\", \"25\", \"26\", \"27\", \"28\", \"29\", \"30\", \"31\", \"32\", \"33\", \"34\", \"35\", \"38\", \"39\"], \"mode\": \"markers\", \"name\": \"root_mean_squared_error\", \"stepped\": false, \"type\": \"scatter\", \"data\": [3126.7717021229514, 3698.951637880136, 6611.837093440098, 6186.56317162959, 5916.668933325629, 5503.132591095506, 5962.104981056032, 6486.858225724113, 5360.71125294831, 7271.104190251429, 5541.962074174952, 5982.700731985872, 4865.010836569557, 5351.8762499805625, 6661.733569594588, 6729.712393458548, 5765.906590446325, 6743.708084768041, 5481.936971790495, 6633.10188441307, 5344.317118315768, 6636.157692137062, 4973.612556949581, 7169.9659611143, 5848.754609420891, 6213.0883713747, 4499.295488487592, 6321.224668731068, 5226.922610647819, 5226.724008017319, 6366.807457222069, 6355.027320634209, 8027.4490579465455, 6816.579201554192, 6650.872606028531, 4446.579826811743, 3126.7717021229514, 3126.6913371121213]}, {\"categories\": [\"0\", \"1\", \"2\", \"3\", \"4\", \"5\", \"6\", \"7\", \"8\", \"9\", \"10\", \"11\", \"12\", \"13\", \"14\", \"15\", \"16\", \"17\", \"18\", \"19\", \"20\", \"21\", \"22\", \"23\", \"24\", \"25\", \"26\", \"27\", \"28\", \"29\", \"30\", \"31\", \"32\", \"33\", \"34\", \"35\", \"38\", \"39\"], \"mode\": \"lines\", \"name\": \"root_mean_squared_error_min\", \"stepped\": true, \"type\": \"scatter\", \"data\": [3126.7717021229514, 3126.7717021229514, 3126.7717021229514, 3126.7717021229514, 3126.7717021229514, 3126.7717021229514, 3126.7717021229514, 3126.7717021229514, 3126.7717021229514, 3126.7717021229514, 3126.7717021229514, 3126.7717021229514, 3126.7717021229514, 3126.7717021229514, 3126.7717021229514, 3126.7717021229514, 3126.7717021229514, 3126.7717021229514, 3126.7717021229514, 3126.7717021229514, 3126.7717021229514, 3126.7717021229514, 3126.7717021229514, 3126.7717021229514, 3126.7717021229514, 3126.7717021229514, 3126.7717021229514, 3126.7717021229514, 3126.7717021229514, 3126.7717021229514, 3126.7717021229514, 3126.7717021229514, 3126.7717021229514, 3126.7717021229514, 3126.7717021229514, 3126.7717021229514, 3126.7717021229514, 3126.6913371121213]}], \"normalized_mean_absolute_error\": [{\"categories\": [\"0\", \"1\", \"2\", \"3\", \"4\", \"5\", \"6\", \"7\", \"8\", \"9\", \"10\", \"11\", \"12\", \"13\", \"14\", \"15\", \"16\", \"17\", \"18\", \"19\", \"20\", \"21\", \"22\", \"23\", \"24\", \"25\", \"26\", \"27\", \"28\", \"29\", \"30\", \"31\", \"32\", \"33\", \"34\", \"35\", \"38\", \"39\"], \"mode\": \"markers\", \"name\": \"normalized_mean_absolute_error\", \"stepped\": false, \"type\": \"scatter\", \"data\": [0.011304437142942048, 0.015085436870873525, 0.025161451913035277, 0.021928066171340105, 0.02108737545597253, 0.018861706255981752, 0.021314018739109833, 0.024631793628072166, 0.018745096706590695, 0.027559395099643457, 0.02168741150365604, 0.02159147719768804, 0.01722220142842062, 0.020604910401553888, 0.024754516396049104, 0.02558753220273242, 0.021180609052136787, 0.02473661853057031, 0.01950149783619526, 0.023966592260156367, 0.01872709718043174, 0.023891618961032566, 0.017462852750589283, 0.027384821404084974, 0.019799923419608272, 0.02105172225080389, 0.015673343011813255, 0.022162008059655968, 0.017800762261008286, 0.01780376441545521, 0.023274562306387653, 0.022771994653822968, 0.030442026664678722, 0.023742167400674922, 0.024281579107720917, 0.01642456369673904, 0.011304437142942048, 0.011336836722901825]}, {\"categories\": [\"0\", \"1\", \"2\", \"3\", \"4\", \"5\", \"6\", \"7\", \"8\", \"9\", \"10\", \"11\", \"12\", \"13\", \"14\", \"15\", \"16\", \"17\", \"18\", \"19\", \"20\", \"21\", \"22\", \"23\", \"24\", \"25\", \"26\", \"27\", \"28\", \"29\", \"30\", \"31\", \"32\", \"33\", \"34\", \"35\", \"38\", \"39\"], \"mode\": \"lines\", \"name\": \"normalized_mean_absolute_error_min\", \"stepped\": true, \"type\": \"scatter\", \"data\": [0.011304437142942048, 0.011304437142942048, 0.011304437142942048, 0.011304437142942048, 0.011304437142942048, 0.011304437142942048, 0.011304437142942048, 0.011304437142942048, 0.011304437142942048, 0.011304437142942048, 0.011304437142942048, 0.011304437142942048, 0.011304437142942048, 0.011304437142942048, 0.011304437142942048, 0.011304437142942048, 0.011304437142942048, 0.011304437142942048, 0.011304437142942048, 0.011304437142942048, 0.011304437142942048, 0.011304437142942048, 0.011304437142942048, 0.011304437142942048, 0.011304437142942048, 0.011304437142942048, 0.011304437142942048, 0.011304437142942048, 0.011304437142942048, 0.011304437142942048, 0.011304437142942048, 0.011304437142942048, 0.011304437142942048, 0.011304437142942048, 0.011304437142942048, 0.011304437142942048, 0.011304437142942048, 0.011304437142942048]}], \"normalized_root_mean_squared_error\": [{\"categories\": [\"0\", \"1\", \"2\", \"3\", \"4\", \"5\", \"6\", \"7\", \"8\", \"9\", \"10\", \"11\", \"12\", \"13\", \"14\", \"15\", \"16\", \"17\", \"18\", \"19\", \"20\", \"21\", \"22\", \"23\", \"24\", \"25\", \"26\", \"27\", \"28\", \"29\", \"30\", \"31\", \"32\", \"33\", \"34\", \"35\", \"38\", \"39\"], \"mode\": \"markers\", \"name\": \"normalized_root_mean_squared_error\", \"stepped\": false, \"type\": \"scatter\", \"data\": [0.019622160805043972, 0.023212895204112582, 0.04149280568714015, 0.03882398491129276, 0.037130254556511984, 0.03453509335543684, 0.03741538999966132, 0.040708496606342764, 0.033641323465778326, 0.04563005848955079, 0.03477876908028887, 0.037544639326170054, 0.03053053885854042, 0.033585879107999185, 0.04180593269863373, 0.04223253609033347, 0.03618414041158919, 0.04232036652108292, 0.0344020795347978, 0.04162625359690409, 0.033538441523421975, 0.04164543042088161, 0.031212072601331547, 0.0449953621366579, 0.03670405593647209, 0.038990444692936256, 0.028235479911939153, 0.039669057657914814, 0.03280172834876792, 0.03280048201129169, 0.03995511397763444, 0.039881187334932816, 0.050376526102746455, 0.042777671661285564, 0.04173777435709374, 0.027904661007045816, 0.019622160805043972, 0.01962165647172007]}, {\"categories\": [\"0\", \"1\", \"2\", \"3\", \"4\", \"5\", \"6\", \"7\", \"8\", \"9\", \"10\", \"11\", \"12\", \"13\", \"14\", \"15\", \"16\", \"17\", \"18\", \"19\", \"20\", \"21\", \"22\", \"23\", \"24\", \"25\", \"26\", \"27\", \"28\", \"29\", \"30\", \"31\", \"32\", \"33\", \"34\", \"35\", \"38\", \"39\"], \"mode\": \"lines\", \"name\": \"normalized_root_mean_squared_error_min\", \"stepped\": true, \"type\": \"scatter\", \"data\": [0.019622160805043972, 0.019622160805043972, 0.019622160805043972, 0.019622160805043972, 0.019622160805043972, 0.019622160805043972, 0.019622160805043972, 0.019622160805043972, 0.019622160805043972, 0.019622160805043972, 0.019622160805043972, 0.019622160805043972, 0.019622160805043972, 0.019622160805043972, 0.019622160805043972, 0.019622160805043972, 0.019622160805043972, 0.019622160805043972, 0.019622160805043972, 0.019622160805043972, 0.019622160805043972, 0.019622160805043972, 0.019622160805043972, 0.019622160805043972, 0.019622160805043972, 0.019622160805043972, 0.019622160805043972, 0.019622160805043972, 0.019622160805043972, 0.019622160805043972, 0.019622160805043972, 0.019622160805043972, 0.019622160805043972, 0.019622160805043972, 0.019622160805043972, 0.019622160805043972, 0.019622160805043972, 0.01962165647172007]}], \"explained_variance\": [{\"categories\": [\"0\", \"1\", \"2\", \"3\", \"4\", \"5\", \"6\", \"7\", \"8\", \"9\", \"10\", \"11\", \"12\", \"13\", \"14\", \"15\", \"16\", \"17\", \"18\", \"19\", \"20\", \"21\", \"22\", \"23\", \"24\", \"25\", \"26\", \"27\", \"28\", \"29\", \"30\", \"31\", \"32\", \"33\", \"34\", \"35\", \"38\", \"39\"], \"mode\": \"markers\", \"name\": \"explained_variance\", \"stepped\": false, \"type\": \"scatter\", \"data\": [0.9302602410211042, 0.9022317871691995, 0.687876904629149, 0.7269614237008349, 0.7502319598462724, 0.7837084557998674, 0.7463961344350379, 0.6995472811310974, 0.795088245752796, 0.6229684947863158, 0.7849765844848853, 0.744763459734684, 0.8312309713584879, 0.7954713181357115, 0.6831564452447013, 0.6758192489389585, 0.7629297873487356, 0.6747209473546109, 0.7855831834792446, 0.6851218070151397, 0.7963180660937296, 0.6848541054919774, 0.8235487418895207, 0.6330678089982835, 0.7559295801597458, 0.7243797234085966, 0.8556405352352513, 0.7149454453718557, 0.8049494352585537, 0.80484636374297, 0.7107693703927488, 0.711708681752106, 0.540300354026993, 0.6686776561276303, 0.6842134124687408, 0.8589200916491596, 0.9302602410211042, 0.9302694590526889]}, {\"categories\": [\"0\", \"1\", \"2\", \"3\", \"4\", \"5\", \"6\", \"7\", \"8\", \"9\", \"10\", \"11\", \"12\", \"13\", \"14\", \"15\", \"16\", \"17\", \"18\", \"19\", \"20\", \"21\", \"22\", \"23\", \"24\", \"25\", \"26\", \"27\", \"28\", \"29\", \"30\", \"31\", \"32\", \"33\", \"34\", \"35\", \"38\", \"39\"], \"mode\": \"lines\", \"name\": \"explained_variance_max\", \"stepped\": true, \"type\": \"scatter\", \"data\": [0.9302602410211042, 0.9302602410211042, 0.9302602410211042, 0.9302602410211042, 0.9302602410211042, 0.9302602410211042, 0.9302602410211042, 0.9302602410211042, 0.9302602410211042, 0.9302602410211042, 0.9302602410211042, 0.9302602410211042, 0.9302602410211042, 0.9302602410211042, 0.9302602410211042, 0.9302602410211042, 0.9302602410211042, 0.9302602410211042, 0.9302602410211042, 0.9302602410211042, 0.9302602410211042, 0.9302602410211042, 0.9302602410211042, 0.9302602410211042, 0.9302602410211042, 0.9302602410211042, 0.9302602410211042, 0.9302602410211042, 0.9302602410211042, 0.9302602410211042, 0.9302602410211042, 0.9302602410211042, 0.9302602410211042, 0.9302602410211042, 0.9302602410211042, 0.9302602410211042, 0.9302602410211042, 0.9302694590526889]}], \"r2_score\": [{\"categories\": [\"0\", \"1\", \"2\", \"3\", \"4\", \"5\", \"6\", \"7\", \"8\", \"9\", \"10\", \"11\", \"12\", \"13\", \"14\", \"15\", \"16\", \"17\", \"18\", \"19\", \"20\", \"21\", \"22\", \"23\", \"24\", \"25\", \"26\", \"27\", \"28\", \"29\", \"30\", \"31\", \"32\", \"33\", \"34\", \"35\", \"38\", \"39\"], \"mode\": \"markers\", \"name\": \"r2_score\", \"stepped\": false, \"type\": \"scatter\", \"data\": [0.9302502821897441, 0.9022187270752634, 0.6877721348488061, 0.7269440309897846, 0.7501630564756683, 0.7837022518167872, 0.7463308183016079, 0.6994386615356122, 0.7950470805926523, 0.6229449204241225, 0.7808558242292208, 0.7446719224346162, 0.8312121403586262, 0.7954225190908241, 0.6830312878084629, 0.6757791677746355, 0.7629028998301713, 0.6746808364730308, 0.7855495211798912, 0.685017912922589, 0.7962983247026448, 0.6848195011639925, 0.823510079234277, 0.6330196896509114, 0.7559129213851518, 0.7243429198831413, 0.8556075231553857, 0.7149087373220399, 0.8049386141463463, 0.8048297823562865, 0.7106543630447447, 0.7116731575895919, 0.5402585436390758, 0.6686072471970547, 0.6841238752340884, 0.8589125259225151, 0.9302502821897441, 0.9302538999232035]}, {\"categories\": [\"0\", \"1\", \"2\", \"3\", \"4\", \"5\", \"6\", \"7\", \"8\", \"9\", \"10\", \"11\", \"12\", \"13\", \"14\", \"15\", \"16\", \"17\", \"18\", \"19\", \"20\", \"21\", \"22\", \"23\", \"24\", \"25\", \"26\", \"27\", \"28\", \"29\", \"30\", \"31\", \"32\", \"33\", \"34\", \"35\", \"38\", \"39\"], \"mode\": \"lines\", \"name\": \"r2_score_max\", \"stepped\": true, \"type\": \"scatter\", \"data\": [0.9302502821897441, 0.9302502821897441, 0.9302502821897441, 0.9302502821897441, 0.9302502821897441, 0.9302502821897441, 0.9302502821897441, 0.9302502821897441, 0.9302502821897441, 0.9302502821897441, 0.9302502821897441, 0.9302502821897441, 0.9302502821897441, 0.9302502821897441, 0.9302502821897441, 0.9302502821897441, 0.9302502821897441, 0.9302502821897441, 0.9302502821897441, 0.9302502821897441, 0.9302502821897441, 0.9302502821897441, 0.9302502821897441, 0.9302502821897441, 0.9302502821897441, 0.9302502821897441, 0.9302502821897441, 0.9302502821897441, 0.9302502821897441, 0.9302502821897441, 0.9302502821897441, 0.9302502821897441, 0.9302502821897441, 0.9302502821897441, 0.9302502821897441, 0.9302502821897441, 0.9302502821897441, 0.9302538999232035]}], \"root_mean_squared_log_error\": [{\"categories\": [\"0\", \"1\", \"2\", \"3\", \"4\", \"5\", \"6\", \"7\", \"8\", \"9\", \"10\", \"11\", \"12\", \"13\", \"14\", \"15\", \"16\", \"17\", \"18\", \"19\", \"20\", \"21\", \"22\", \"23\", \"24\", \"25\", \"26\", \"27\", \"28\", \"29\", \"30\", \"31\", \"32\", \"33\", \"34\", \"35\", \"38\", \"39\"], \"mode\": \"markers\", \"name\": \"root_mean_squared_log_error\", \"stepped\": false, \"type\": \"scatter\", \"data\": [0.14111605090080118, 0.15641867339577312, 0.24386985547889917, 0.22421965888176473, 0.21073638055691093, 0.1940562533178263, 0.2146008612168054, 0.235314414475107, 0.1988414579051835, 0.2625207143861937, NaN, 0.2149350436269415, 0.1797146354064109, NaN, 0.23818615981832944, 0.25106374879378507, 0.2108990464385411, 0.23948329105342914, 0.2009830292331745, 0.23441655561646949, 0.19688533576590084, 0.23426391371528832, 0.18157834914451443, 0.2657158003878953, 0.22430264493796934, 0.23448132471713923, 0.16413252613213478, 0.238267849823221, 0.18364249276180358, 0.20056636559992855, 0.24095936173697896, 0.23884274777428124, 0.29309043582008026, 0.2354708519847902, 0.2525422347408887, 0.17325179167929028, 0.14111605090080118, 0.13294143034646436]}, {\"categories\": [\"0\", \"1\", \"2\", \"3\", \"4\", \"5\", \"6\", \"7\", \"8\", \"9\", \"10\", \"11\", \"12\", \"13\", \"14\", \"15\", \"16\", \"17\", \"18\", \"19\", \"20\", \"21\", \"22\", \"23\", \"24\", \"25\", \"26\", \"27\", \"28\", \"29\", \"30\", \"31\", \"32\", \"33\", \"34\", \"35\", \"38\", \"39\"], \"mode\": \"lines\", \"name\": \"root_mean_squared_log_error_min\", \"stepped\": true, \"type\": \"scatter\", \"data\": [0.14111605090080118, 0.14111605090080118, 0.14111605090080118, 0.14111605090080118, 0.14111605090080118, 0.14111605090080118, 0.14111605090080118, 0.14111605090080118, 0.14111605090080118, 0.14111605090080118, 0.14111605090080118, 0.14111605090080118, 0.14111605090080118, 0.14111605090080118, 0.14111605090080118, 0.14111605090080118, 0.14111605090080118, 0.14111605090080118, 0.14111605090080118, 0.14111605090080118, 0.14111605090080118, 0.14111605090080118, 0.14111605090080118, 0.14111605090080118, 0.14111605090080118, 0.14111605090080118, 0.14111605090080118, 0.14111605090080118, 0.14111605090080118, 0.14111605090080118, 0.14111605090080118, 0.14111605090080118, 0.14111605090080118, 0.14111605090080118, 0.14111605090080118, 0.14111605090080118, 0.14111605090080118, 0.13294143034646436]}]}, \"metricName\": null, \"primaryMetricName\": \"normalized_mean_absolute_error\", \"showLegend\": false}, \"run_metrics\": [{\"name\": \"experiment_status\", \"run_id\": \"AutoML_b90fbda5-c200-42aa-8e50-2732d82c0a55\", \"categories\": [0, 1, 2, 3, 4, 5, 6, 7, 8, 9, 10, 11, 12, 13], \"series\": [{\"data\": [\"DatasetEvaluation\", \"FeaturesGeneration\", \"DatasetFeaturization\", \"DatasetFeaturizationCompleted\", \"DatasetCrossValidationSplit\", \"ModelSelection\", \"BestRunExplainModel\", \"ModelExplanationDataSetSetup\", \"PickSurrogateModel\", \"EngineeredFeatureExplanations\", \"EngineeredFeatureExplanations\", \"RawFeaturesExplanations\", \"RawFeaturesExplanations\", \"BestRunExplainModel\"]}]}, {\"name\": \"experiment_status_description\", \"run_id\": \"AutoML_b90fbda5-c200-42aa-8e50-2732d82c0a55\", \"categories\": [0, 1, 2, 3, 4, 5, 6, 7, 8, 9, 10, 11, 12, 13], \"series\": [{\"data\": [\"Gathering dataset statistics.\", \"Generating features for the dataset.\", \"Beginning to fit featurizers and featurize the dataset.\", \"Completed fit featurizers and featurizing the dataset.\", \"Generating individually featurized CV splits.\", \"Beginning model selection.\", \"Best run model explanations started\", \"Model explanations data setup completed\", \"Choosing LightGBM as the surrogate model for explanations\", \"Computation of engineered features started\", \"Computation of engineered features completed\", \"Computation of raw features started\", \"Computation of raw features completed\", \"Best run model explanations completed\"]}]}, {\"name\": \"normalized_root_mean_squared_error\", \"run_id\": \"AutoML_b90fbda5-c200-42aa-8e50-2732d82c0a55\", \"categories\": [0], \"series\": [{\"data\": [0.019622160805043972]}]}, {\"name\": \"median_absolute_error\", \"run_id\": \"AutoML_b90fbda5-c200-42aa-8e50-2732d82c0a55\", \"categories\": [0], \"series\": [{\"data\": [1162.6285692247081]}]}, {\"name\": \"root_mean_squared_error\", \"run_id\": \"AutoML_b90fbda5-c200-42aa-8e50-2732d82c0a55\", \"categories\": [0], \"series\": [{\"data\": [3126.7717021229514]}]}, {\"name\": \"spearman_correlation\", \"run_id\": \"AutoML_b90fbda5-c200-42aa-8e50-2732d82c0a55\", \"categories\": [0], \"series\": [{\"data\": [0.9674561446281308]}]}, {\"name\": \"normalized_root_mean_squared_log_error\", \"run_id\": \"AutoML_b90fbda5-c200-42aa-8e50-2732d82c0a55\", \"categories\": [0], \"series\": [{\"data\": [0.0256368636386055]}]}, {\"name\": \"root_mean_squared_log_error\", \"run_id\": \"AutoML_b90fbda5-c200-42aa-8e50-2732d82c0a55\", \"categories\": [0], \"series\": [{\"data\": [0.14111605090080118]}]}, {\"name\": \"explained_variance\", \"run_id\": \"AutoML_b90fbda5-c200-42aa-8e50-2732d82c0a55\", \"categories\": [0], \"series\": [{\"data\": [0.9302602410211042]}]}, {\"name\": \"normalized_median_absolute_error\", \"run_id\": \"AutoML_b90fbda5-c200-42aa-8e50-2732d82c0a55\", \"categories\": [0], \"series\": [{\"data\": [0.007296114624030951]}]}, {\"name\": \"normalized_mean_absolute_error\", \"run_id\": \"AutoML_b90fbda5-c200-42aa-8e50-2732d82c0a55\", \"categories\": [0], \"series\": [{\"data\": [0.011304437142942048]}]}, {\"name\": \"r2_score\", \"run_id\": \"AutoML_b90fbda5-c200-42aa-8e50-2732d82c0a55\", \"categories\": [0], \"series\": [{\"data\": [0.9302502821897441]}]}, {\"name\": \"mean_absolute_percentage_error\", \"run_id\": \"AutoML_b90fbda5-c200-42aa-8e50-2732d82c0a55\", \"categories\": [0], \"series\": [{\"data\": [8.314871311449652]}]}, {\"name\": \"mean_absolute_error\", \"run_id\": \"AutoML_b90fbda5-c200-42aa-8e50-2732d82c0a55\", \"categories\": [0], \"series\": [{\"data\": [1801.3507542906725]}]}], \"run_logs\": \"\\nRun is completed.\", \"graph\": {}, \"widget_settings\": {\"childWidgetDisplay\": \"popup\", \"send_telemetry\": false, \"log_level\": \"INFO\", \"sdk_version\": \"1.24.0\"}, \"loading\": false}"
          },
          "metadata": {}
        },
        {
          "output_type": "stream",
          "name": "stdout",
          "text": [
            "              Learn more about high cardinality feature handling: https://aka.ms/AutomatedMLFeaturization\n",
            "\n",
            "****************************************************************************************************\n",
            "\n",
            "****************************************************************************************************\n",
            "ITERATION: The iteration being evaluated.\n",
            "PIPELINE: A summary description of the pipeline being evaluated.\n",
            "DURATION: Time taken for the current iteration.\n",
            "METRIC: The result of computing score on the fitted pipeline.\n",
            "BEST: The best observed score thus far.\n",
            "****************************************************************************************************\n",
            "\n",
            " ITERATION   PIPELINE                                       DURATION      METRIC      BEST\n",
            "         0   MaxAbsScaler LightGBM                          0:00:48       0.0113    0.0113\n",
            "         1   MaxAbsScaler XGBoostRegressor                  0:02:36       0.0151    0.0113\n",
            "         2   StandardScalerWrapper DecisionTree             0:00:46       0.0252    0.0113\n",
            "         3   MaxAbsScaler DecisionTree                      0:00:45       0.0219    0.0113\n",
            "         4   MaxAbsScaler DecisionTree                      0:02:39       0.0211    0.0113\n",
            "         5   MaxAbsScaler DecisionTree                      0:01:54       0.0189    0.0113\n",
            "         6   MaxAbsScaler DecisionTree                      0:02:13       0.0213    0.0113\n",
            "         7   MaxAbsScaler DecisionTree                      0:00:43       0.0246    0.0113\n",
            "         8   MaxAbsScaler DecisionTree                      0:00:43       0.0187    0.0113\n",
            "         9   MaxAbsScaler DecisionTree                      0:00:45       0.0276    0.0113\n",
            "        10   MaxAbsScaler SGD                               0:00:42       0.0217    0.0113\n",
            "        11   MaxAbsScaler DecisionTree                      0:00:43       0.0216    0.0113\n",
            "        12   MaxAbsScaler DecisionTree                      0:00:45       0.0172    0.0113\n",
            "        13   MaxAbsScaler ElasticNet                        0:01:00       0.0206    0.0113\n",
            "        14   MaxAbsScaler DecisionTree                      0:00:45       0.0248    0.0113\n",
            "        15   MaxAbsScaler DecisionTree                      0:00:44       0.0256    0.0113\n",
            "        16   MaxAbsScaler DecisionTree                      0:00:43       0.0212    0.0113\n",
            "        17   MaxAbsScaler DecisionTree                      0:00:46       0.0247    0.0113\n",
            "        18   MaxAbsScaler DecisionTree                      0:00:45       0.0195    0.0113\n",
            "        19   MaxAbsScaler DecisionTree                      0:00:49       0.0240    0.0113\n",
            "        20   MaxAbsScaler DecisionTree                      0:00:48       0.0187    0.0113\n",
            "        21   MaxAbsScaler DecisionTree                      0:00:45       0.0239    0.0113\n",
            "        22   MaxAbsScaler DecisionTree                      0:00:46       0.0175    0.0113\n",
            "        23   MaxAbsScaler DecisionTree                      0:00:45       0.0274    0.0113\n",
            "        24   MaxAbsScaler RandomForest                      0:01:03       0.0198    0.0113\n",
            "        25   MaxAbsScaler LightGBM                          0:00:45       0.0211    0.0113\n",
            "        26   MaxAbsScaler DecisionTree                      0:00:45       0.0157    0.0113\n",
            "        27   MaxAbsScaler RandomForest                      0:00:51       0.0222    0.0113\n",
            "        28   MaxAbsScaler ExtremeRandomTrees                0:00:48       0.0178    0.0113\n",
            "        29   MaxAbsScaler RandomForest                      0:00:52       0.0178    0.0113\n",
            "        30   MaxAbsScaler LightGBM                          0:00:52       0.0233    0.0113\n",
            "        31   MaxAbsScaler RandomForest                      0:00:46       0.0228    0.0113\n",
            "        32   MaxAbsScaler RandomForest                      0:00:55       0.0304    0.0113\n",
            "        33   MaxAbsScaler ExtremeRandomTrees                0:01:02       0.0237    0.0113\n",
            "        34   MaxAbsScaler LightGBM                          0:00:39       0.0243    0.0113\n",
            "        35   MaxAbsScaler GradientBoosting                  0:00:40       0.0164    0.0113\n",
            "        36   MaxAbsScaler RandomForest                      0:00:36          nan    0.0113\n",
            "        37                                                  0:00:11          nan    0.0113\n",
            "        38    VotingEnsemble                                0:00:59       0.0113    0.0113\n",
            "        39    StackEnsemble                                 0:01:05       0.0113    0.0113\n"
          ]
        },
        {
          "output_type": "execute_result",
          "execution_count": 8,
          "data": {
            "text/plain": "{'runId': 'AutoML_b90fbda5-c200-42aa-8e50-2732d82c0a55',\n 'target': 'mercedes-cc',\n 'status': 'Completed',\n 'startTimeUtc': '2021-04-13T08:59:03.985838Z',\n 'endTimeUtc': '2021-04-13T09:15:08.021619Z',\n 'properties': {'num_iterations': '1000',\n  'training_type': 'TrainFull',\n  'acquisition_function': 'EI',\n  'primary_metric': 'normalized_mean_absolute_error',\n  'train_split': '0',\n  'acquisition_parameter': '0',\n  'num_cross_validation': None,\n  'target': 'mercedes-cc',\n  'AMLSettingsJsonString': '{\"path\":null,\"name\":\"mercedes-price-prediction-experiment-2nd-version\",\"subscription_id\":\"009f51ba-ba0a-4c91-aadf-56aa26b996cb\",\"resource_group\":\"udacity-rg\",\"workspace_name\":\"udacity-ws\",\"region\":\"westeurope\",\"compute_target\":\"mercedes-cc\",\"spark_service\":null,\"azure_service\":\"remote\",\"many_models\":false,\"pipeline_fetch_max_batch_size\":1,\"enable_batch_run\":false,\"iterations\":1000,\"primary_metric\":\"normalized_mean_absolute_error\",\"task_type\":\"regression\",\"data_script\":null,\"validation_size\":0.0,\"n_cross_validations\":null,\"y_min\":null,\"y_max\":null,\"num_classes\":null,\"featurization\":\"auto\",\"_ignore_package_version_incompatibilities\":false,\"is_timeseries\":false,\"max_cores_per_iteration\":1,\"max_concurrent_iterations\":5,\"iteration_timeout_minutes\":null,\"mem_in_mb\":null,\"enforce_time_on_windows\":false,\"experiment_timeout_minutes\":15,\"experiment_exit_score\":null,\"whitelist_models\":null,\"blacklist_algos\":[\"TensorFlowDNN\",\"TensorFlowLinearRegressor\"],\"supported_models\":[\"GradientBoosting\",\"XGBoostRegressor\",\"OnlineGradientDescentRegressor\",\"TensorFlowDNN\",\"ExtremeRandomTrees\",\"SGD\",\"DecisionTree\",\"RandomForest\",\"FastLinearRegressor\",\"ElasticNet\",\"LightGBM\",\"LassoLars\",\"TensorFlowLinearRegressor\",\"KNN\"],\"private_models\":[],\"auto_blacklist\":true,\"blacklist_samples_reached\":false,\"exclude_nan_labels\":true,\"verbosity\":20,\"_debug_log\":\"azureml_automl.log\",\"show_warnings\":false,\"model_explainability\":true,\"service_url\":null,\"sdk_url\":null,\"sdk_packages\":null,\"enable_onnx_compatible_models\":false,\"enable_split_onnx_featurizer_estimator_models\":false,\"vm_type\":\"STANDARD_DS2_V2\",\"telemetry_verbosity\":20,\"send_telemetry\":true,\"enable_dnn\":false,\"scenario\":\"SDK-1.13.0\",\"environment_label\":null,\"save_mlflow\":false,\"force_text_dnn\":false,\"enable_feature_sweeping\":true,\"enable_early_stopping\":true,\"early_stopping_n_iters\":10,\"metrics\":null,\"enable_metric_confidence\":false,\"enable_ensembling\":true,\"enable_stack_ensembling\":true,\"ensemble_iterations\":15,\"enable_tf\":false,\"enable_subsampling\":null,\"subsample_seed\":null,\"enable_nimbusml\":false,\"enable_streaming\":false,\"force_streaming\":false,\"track_child_runs\":true,\"allowed_private_models\":[],\"label_column_name\":\"price\",\"weight_column_name\":null,\"cv_split_column_names\":null,\"enable_local_managed\":false,\"_local_managed_run_id\":null,\"cost_mode\":1,\"lag_length\":0,\"metric_operation\":\"minimize\",\"preprocess\":true}',\n  'DataPrepJsonString': '{\\\\\"training_data\\\\\": \\\\\"{\\\\\\\\\\\\\"blocks\\\\\\\\\\\\\": [{\\\\\\\\\\\\\"id\\\\\\\\\\\\\": \\\\\\\\\\\\\"543556d6-4dde-4c48-a6c4-fe59c7df04c3\\\\\\\\\\\\\", \\\\\\\\\\\\\"type\\\\\\\\\\\\\": \\\\\\\\\\\\\"Microsoft.DPrep.GetDatastoreFilesBlock\\\\\\\\\\\\\", \\\\\\\\\\\\\"arguments\\\\\\\\\\\\\": {\\\\\\\\\\\\\"datastores\\\\\\\\\\\\\": [{\\\\\\\\\\\\\"datastoreName\\\\\\\\\\\\\": \\\\\\\\\\\\\"workspaceblobstore\\\\\\\\\\\\\", \\\\\\\\\\\\\"path\\\\\\\\\\\\\": \\\\\\\\\\\\\"UI/04-09-2021_013558_UTC/mercedes.csv\\\\\\\\\\\\\", \\\\\\\\\\\\\"resourceGroup\\\\\\\\\\\\\": \\\\\\\\\\\\\"udacity-rg\\\\\\\\\\\\\", \\\\\\\\\\\\\"subscription\\\\\\\\\\\\\": \\\\\\\\\\\\\"009f51ba-ba0a-4c91-aadf-56aa26b996cb\\\\\\\\\\\\\", \\\\\\\\\\\\\"workspaceName\\\\\\\\\\\\\": \\\\\\\\\\\\\"udacity-ws\\\\\\\\\\\\\"}]}, \\\\\\\\\\\\\"localData\\\\\\\\\\\\\": {}, \\\\\\\\\\\\\"isEnabled\\\\\\\\\\\\\": true, \\\\\\\\\\\\\"name\\\\\\\\\\\\\": null, \\\\\\\\\\\\\"annotation\\\\\\\\\\\\\": null}, {\\\\\\\\\\\\\"id\\\\\\\\\\\\\": \\\\\\\\\\\\\"3fc72366-2b43-416d-a5d1-c0052df01d8f\\\\\\\\\\\\\", \\\\\\\\\\\\\"type\\\\\\\\\\\\\": \\\\\\\\\\\\\"Microsoft.DPrep.ParseDelimitedBlock\\\\\\\\\\\\\", \\\\\\\\\\\\\"arguments\\\\\\\\\\\\\": {\\\\\\\\\\\\\"columnHeadersMode\\\\\\\\\\\\\": 1, \\\\\\\\\\\\\"fileEncoding\\\\\\\\\\\\\": 0, \\\\\\\\\\\\\"handleQuotedLineBreaks\\\\\\\\\\\\\": false, \\\\\\\\\\\\\"preview\\\\\\\\\\\\\": false, \\\\\\\\\\\\\"separator\\\\\\\\\\\\\": \\\\\\\\\\\\\",\\\\\\\\\\\\\", \\\\\\\\\\\\\"skipRows\\\\\\\\\\\\\": 0, \\\\\\\\\\\\\"skipRowsMode\\\\\\\\\\\\\": 0}, \\\\\\\\\\\\\"localData\\\\\\\\\\\\\": {}, \\\\\\\\\\\\\"isEnabled\\\\\\\\\\\\\": true, \\\\\\\\\\\\\"name\\\\\\\\\\\\\": null, \\\\\\\\\\\\\"annotation\\\\\\\\\\\\\": null}, {\\\\\\\\\\\\\"id\\\\\\\\\\\\\": \\\\\\\\\\\\\"4f406372-67b6-44cf-9d81-ae5563b44e6d\\\\\\\\\\\\\", \\\\\\\\\\\\\"type\\\\\\\\\\\\\": \\\\\\\\\\\\\"Microsoft.DPrep.DropColumnsBlock\\\\\\\\\\\\\", \\\\\\\\\\\\\"arguments\\\\\\\\\\\\\": {\\\\\\\\\\\\\"columns\\\\\\\\\\\\\": {\\\\\\\\\\\\\"type\\\\\\\\\\\\\": 0, \\\\\\\\\\\\\"details\\\\\\\\\\\\\": {\\\\\\\\\\\\\"selectedColumns\\\\\\\\\\\\\": [\\\\\\\\\\\\\"Path\\\\\\\\\\\\\"]}}}, \\\\\\\\\\\\\"localData\\\\\\\\\\\\\": {}, \\\\\\\\\\\\\"isEnabled\\\\\\\\\\\\\": true, \\\\\\\\\\\\\"name\\\\\\\\\\\\\": null, \\\\\\\\\\\\\"annotation\\\\\\\\\\\\\": null}, {\\\\\\\\\\\\\"id\\\\\\\\\\\\\": \\\\\\\\\\\\\"0e3fee80-9319-4764-8af3-5f55dd62326c\\\\\\\\\\\\\", \\\\\\\\\\\\\"type\\\\\\\\\\\\\": \\\\\\\\\\\\\"Microsoft.DPrep.SetColumnTypesBlock\\\\\\\\\\\\\", \\\\\\\\\\\\\"arguments\\\\\\\\\\\\\": {\\\\\\\\\\\\\"columnConversion\\\\\\\\\\\\\": [{\\\\\\\\\\\\\"column\\\\\\\\\\\\\": {\\\\\\\\\\\\\"type\\\\\\\\\\\\\": 2, \\\\\\\\\\\\\"details\\\\\\\\\\\\\": {\\\\\\\\\\\\\"selectedColumn\\\\\\\\\\\\\": \\\\\\\\\\\\\"Path\\\\\\\\\\\\\"}}, \\\\\\\\\\\\\"typeProperty\\\\\\\\\\\\\": 0}, {\\\\\\\\\\\\\"column\\\\\\\\\\\\\": {\\\\\\\\\\\\\"type\\\\\\\\\\\\\": 2, \\\\\\\\\\\\\"details\\\\\\\\\\\\\": {\\\\\\\\\\\\\"selectedColumn\\\\\\\\\\\\\": \\\\\\\\\\\\\"model\\\\\\\\\\\\\"}}, \\\\\\\\\\\\\"typeProperty\\\\\\\\\\\\\": 0}, {\\\\\\\\\\\\\"column\\\\\\\\\\\\\": {\\\\\\\\\\\\\"type\\\\\\\\\\\\\": 2, \\\\\\\\\\\\\"details\\\\\\\\\\\\\": {\\\\\\\\\\\\\"selectedColumn\\\\\\\\\\\\\": \\\\\\\\\\\\\"year\\\\\\\\\\\\\"}}, \\\\\\\\\\\\\"typeProperty\\\\\\\\\\\\\": 2}, {\\\\\\\\\\\\\"column\\\\\\\\\\\\\": {\\\\\\\\\\\\\"type\\\\\\\\\\\\\": 2, \\\\\\\\\\\\\"details\\\\\\\\\\\\\": {\\\\\\\\\\\\\"selectedColumn\\\\\\\\\\\\\": \\\\\\\\\\\\\"price\\\\\\\\\\\\\"}}, \\\\\\\\\\\\\"typeProperty\\\\\\\\\\\\\": 2}, {\\\\\\\\\\\\\"column\\\\\\\\\\\\\": {\\\\\\\\\\\\\"type\\\\\\\\\\\\\": 2, \\\\\\\\\\\\\"details\\\\\\\\\\\\\": {\\\\\\\\\\\\\"selectedColumn\\\\\\\\\\\\\": \\\\\\\\\\\\\"transmission\\\\\\\\\\\\\"}}, \\\\\\\\\\\\\"typeProperty\\\\\\\\\\\\\": 0}, {\\\\\\\\\\\\\"column\\\\\\\\\\\\\": {\\\\\\\\\\\\\"type\\\\\\\\\\\\\": 2, \\\\\\\\\\\\\"details\\\\\\\\\\\\\": {\\\\\\\\\\\\\"selectedColumn\\\\\\\\\\\\\": \\\\\\\\\\\\\"mileage\\\\\\\\\\\\\"}}, \\\\\\\\\\\\\"typeProperty\\\\\\\\\\\\\": 2}, {\\\\\\\\\\\\\"column\\\\\\\\\\\\\": {\\\\\\\\\\\\\"type\\\\\\\\\\\\\": 2, \\\\\\\\\\\\\"details\\\\\\\\\\\\\": {\\\\\\\\\\\\\"selectedColumn\\\\\\\\\\\\\": \\\\\\\\\\\\\"fuelType\\\\\\\\\\\\\"}}, \\\\\\\\\\\\\"typeProperty\\\\\\\\\\\\\": 0}, {\\\\\\\\\\\\\"column\\\\\\\\\\\\\": {\\\\\\\\\\\\\"type\\\\\\\\\\\\\": 2, \\\\\\\\\\\\\"details\\\\\\\\\\\\\": {\\\\\\\\\\\\\"selectedColumn\\\\\\\\\\\\\": \\\\\\\\\\\\\"tax\\\\\\\\\\\\\"}}, \\\\\\\\\\\\\"typeProperty\\\\\\\\\\\\\": 2}, {\\\\\\\\\\\\\"column\\\\\\\\\\\\\": {\\\\\\\\\\\\\"type\\\\\\\\\\\\\": 2, \\\\\\\\\\\\\"details\\\\\\\\\\\\\": {\\\\\\\\\\\\\"selectedColumn\\\\\\\\\\\\\": \\\\\\\\\\\\\"mpg\\\\\\\\\\\\\"}}, \\\\\\\\\\\\\"typeProperty\\\\\\\\\\\\\": 3}, {\\\\\\\\\\\\\"column\\\\\\\\\\\\\": {\\\\\\\\\\\\\"type\\\\\\\\\\\\\": 2, \\\\\\\\\\\\\"details\\\\\\\\\\\\\": {\\\\\\\\\\\\\"selectedColumn\\\\\\\\\\\\\": \\\\\\\\\\\\\"engineSize\\\\\\\\\\\\\"}}, \\\\\\\\\\\\\"typeProperty\\\\\\\\\\\\\": 3}]}, \\\\\\\\\\\\\"localData\\\\\\\\\\\\\": {}, \\\\\\\\\\\\\"isEnabled\\\\\\\\\\\\\": true, \\\\\\\\\\\\\"name\\\\\\\\\\\\\": null, \\\\\\\\\\\\\"annotation\\\\\\\\\\\\\": null}], \\\\\\\\\\\\\"inspectors\\\\\\\\\\\\\": [], \\\\\\\\\\\\\"meta\\\\\\\\\\\\\": {\\\\\\\\\\\\\"savedDatasetId\\\\\\\\\\\\\": \\\\\\\\\\\\\"29ec6654-0822-4852-aae0-a878839dc57e\\\\\\\\\\\\\", \\\\\\\\\\\\\"datasetType\\\\\\\\\\\\\": \\\\\\\\\\\\\"tabular\\\\\\\\\\\\\", \\\\\\\\\\\\\"subscriptionId\\\\\\\\\\\\\": \\\\\\\\\\\\\"009f51ba-ba0a-4c91-aadf-56aa26b996cb\\\\\\\\\\\\\", \\\\\\\\\\\\\"workspaceId\\\\\\\\\\\\\": \\\\\\\\\\\\\"50f47abe-8354-4f60-8b6e-ba5d59e5b00e\\\\\\\\\\\\\", \\\\\\\\\\\\\"workspaceLocation\\\\\\\\\\\\\": \\\\\\\\\\\\\"westeurope\\\\\\\\\\\\\"}}\\\\\", \\\\\"activities\\\\\": 0}',\n  'EnableSubsampling': None,\n  'runTemplate': 'AutoML',\n  'azureml.runsource': 'automl',\n  'display_task_type': 'regression',\n  'dependencies_versions': '{\"azureml-widgets\": \"1.24.0\", \"azureml-train\": \"1.24.0\", \"azureml-train-restclients-hyperdrive\": \"1.24.0\", \"azureml-train-core\": \"1.24.0\", \"azureml-train-automl\": \"1.24.0\", \"azureml-train-automl-runtime\": \"1.24.0\", \"azureml-train-automl-client\": \"1.24.0\", \"azureml-tensorboard\": \"1.24.0\", \"azureml-telemetry\": \"1.24.0\", \"azureml-sdk\": \"1.24.0\", \"azureml-samples\": \"0+unknown\", \"azureml-pipeline\": \"1.24.0\", \"azureml-pipeline-steps\": \"1.24.0\", \"azureml-pipeline-core\": \"1.24.0\", \"azureml-opendatasets\": \"1.24.0\", \"azureml-model-management-sdk\": \"1.0.1b6.post1\", \"azureml-mlflow\": \"1.24.0\", \"azureml-interpret\": \"1.24.0\", \"azureml-explain-model\": \"1.24.0\", \"azureml-defaults\": \"1.24.0\", \"azureml-dataset-runtime\": \"1.24.0\", \"azureml-dataprep\": \"2.11.2\", \"azureml-dataprep-rslex\": \"1.9.1\", \"azureml-dataprep-native\": \"30.0.0\", \"azureml-datadrift\": \"1.24.0\", \"azureml-core\": \"1.24.0.post2\", \"azureml-contrib-services\": \"1.24.0\", \"azureml-contrib-server\": \"1.24.0\", \"azureml-contrib-reinforcementlearning\": \"1.24.0\", \"azureml-contrib-pipeline-steps\": \"1.24.0\", \"azureml-contrib-notebook\": \"1.24.0\", \"azureml-contrib-gbdt\": \"1.24.0\", \"azureml-contrib-fairness\": \"1.24.0\", \"azureml-contrib-dataset\": \"1.24.0\", \"azureml-cli-common\": \"1.24.0\", \"azureml-automl-runtime\": \"1.24.0\", \"azureml-automl-dnn-nlp\": \"1.24.0\", \"azureml-automl-core\": \"1.24.0\", \"azureml-accel-models\": \"1.24.0\"}',\n  '_aml_system_scenario_identification': 'Remote.Parent',\n  'ClientType': 'SDK',\n  'environment_cpu_name': 'AzureML-AutoML',\n  'environment_cpu_label': 'prod',\n  'environment_gpu_name': 'AzureML-AutoML-GPU',\n  'environment_gpu_label': 'prod',\n  'root_attribution': 'automl',\n  'attribution': 'AutoML',\n  'Orchestrator': 'AutoML',\n  'CancelUri': 'https://westeurope.experiments.azureml.net/jasmine/v1.0/subscriptions/009f51ba-ba0a-4c91-aadf-56aa26b996cb/resourceGroups/udacity-rg/providers/Microsoft.MachineLearningServices/workspaces/udacity-ws/experimentids/aa06eb7e-bbde-43e0-97fa-f137930b5036/cancel/AutoML_b90fbda5-c200-42aa-8e50-2732d82c0a55',\n  'ClientSdkVersion': '1.25.0',\n  'snapshotId': '00000000-0000-0000-0000-000000000000',\n  'SetupRunId': 'AutoML_b90fbda5-c200-42aa-8e50-2732d82c0a55_setup',\n  'SetupRunContainerId': 'dcid.AutoML_b90fbda5-c200-42aa-8e50-2732d82c0a55_setup',\n  'FeaturizationRunJsonPath': 'featurizer_container.json',\n  'FeaturizationRunId': 'AutoML_b90fbda5-c200-42aa-8e50-2732d82c0a55_featurize',\n  'ProblemInfoJsonString': '{\"dataset_num_categorical\": 0, \"is_sparse\": true, \"subsampling\": false, \"dataset_classes\": 4424, \"dataset_features\": 103, \"dataset_samples\": 13119, \"single_frequency_class_detected\": false}',\n  'ModelExplainRunId': 'AutoML_b90fbda5-c200-42aa-8e50-2732d82c0a55_ModelExplain'},\n 'inputDatasets': [{'dataset': {'id': '29ec6654-0822-4852-aae0-a878839dc57e'}, 'consumptionDetails': {'type': 'RunInput', 'inputName': 'training_data', 'mechanism': 'Direct'}}],\n 'outputDatasets': [],\n 'logFiles': {},\n 'submittedBy': 'cz. official'}"
          },
          "metadata": {}
        }
      ],
      "execution_count": 8,
      "metadata": {
        "gather": {
          "logged": 1618305503987
        },
        "jupyter": {
          "outputs_hidden": false,
          "source_hidden": false
        },
        "nteract": {
          "transient": {
            "deleting": false
          }
        }
      }
    },
    {
      "cell_type": "markdown",
      "source": [
        "### Best Model\n",
        "\n",
        "Gets the best model from the automl experiments and displays all the properties of the model.\n",
        "\n"
      ],
      "metadata": {}
    },
    {
      "cell_type": "code",
      "source": [
        "best_run, best_model = automl_run.get_output()\n",
        "print('\\n')\n",
        "print(best_run)\n",
        "print('\\n')\n",
        "print(best_model)"
      ],
      "outputs": [
        {
          "output_type": "stream",
          "name": "stderr",
          "text": [
            "WARNING:root:The version of the SDK does not match the version the model was trained on.\n",
            "WARNING:root:The consistency in the result may not be guaranteed.\n",
            "WARNING:root:Package:azureml-automl-core, training version:1.25.0, current version:1.24.0\n",
            "Package:azureml-automl-runtime, training version:1.25.0, current version:1.24.0\n",
            "Package:azureml-core, training version:1.25.0, current version:1.24.0.post2\n",
            "Package:azureml-dataset-runtime, training version:1.25.0, current version:1.24.0\n",
            "Package:azureml-defaults, training version:1.25.0, current version:1.24.0\n",
            "Package:azureml-interpret, training version:1.25.0, current version:1.24.0\n",
            "Package:azureml-mlflow, training version:1.25.0, current version:1.24.0\n",
            "Package:azureml-pipeline-core, training version:1.25.0, current version:1.24.0\n",
            "Package:azureml-telemetry, training version:1.25.0, current version:1.24.0\n",
            "Package:azureml-train-automl-client, training version:1.25.0, current version:1.24.0\n",
            "Package:azureml-train-automl-runtime, training version:1.25.0, current version:1.24.0\n",
            "WARNING:root:Please ensure the version of your local conda dependencies match the version on which your model was trained in order to properly retrieve your model.\n"
          ]
        },
        {
          "output_type": "stream",
          "name": "stdout",
          "text": [
            "\n",
            "\n",
            "Run(Experiment: mercedes-price-prediction-experiment-2nd-version,\n",
            "Id: AutoML_b90fbda5-c200-42aa-8e50-2732d82c0a55_0,\n",
            "Type: azureml.scriptrun,\n",
            "Status: Completed)\n",
            "\n",
            "\n",
            "RegressionPipeline(pipeline=Pipeline(memory=None,\n",
            "                                     steps=[('datatransformer',\n",
            "                                             DataTransformer(enable_dnn=None,\n",
            "                                                             enable_feature_sweeping=None,\n",
            "                                                             feature_sweeping_config=None,\n",
            "                                                             feature_sweeping_timeout=None,\n",
            "                                                             featurization_config=None,\n",
            "                                                             force_text_dnn=None,\n",
            "                                                             is_cross_validation=None,\n",
            "                                                             is_onnx_compatible=None,\n",
            "                                                             logger=None,\n",
            "                                                             observer=None,\n",
            "                                                             task=None,\n",
            "                                                             working_dir=None)),\n",
            "                                            ('Max...\n",
            "                                                               colsample_bytree=1.0,\n",
            "                                                               importance_type='split',\n",
            "                                                               learning_rate=0.1,\n",
            "                                                               max_depth=-1,\n",
            "                                                               min_child_samples=20,\n",
            "                                                               min_child_weight=0.001,\n",
            "                                                               min_split_gain=0.0,\n",
            "                                                               n_estimators=100,\n",
            "                                                               n_jobs=1,\n",
            "                                                               num_leaves=31,\n",
            "                                                               objective=None,\n",
            "                                                               random_state=None,\n",
            "                                                               reg_alpha=0.0,\n",
            "                                                               reg_lambda=0.0,\n",
            "                                                               silent=True,\n",
            "                                                               subsample=1.0,\n",
            "                                                               subsample_for_bin=200000,\n",
            "                                                               subsample_freq=0,\n",
            "                                                               verbose=-1))],\n",
            "                                     verbose=False),\n",
            "                   stddev=[3136.606791428484])\n"
          ]
        }
      ],
      "execution_count": 9,
      "metadata": {
        "gather": {
          "logged": 1618306247655
        },
        "jupyter": {
          "outputs_hidden": false,
          "source_hidden": false
        },
        "nteract": {
          "transient": {
            "deleting": false
          }
        }
      }
    },
    {
      "cell_type": "markdown",
      "source": [
        "Prints out all available metrics of the best model."
      ],
      "metadata": {
        "nteract": {
          "transient": {
            "deleting": false
          }
        }
      }
    },
    {
      "cell_type": "code",
      "source": [
        "automl_run_metrics = automl_run.get_metrics()\n",
        "automl_run_metrics"
      ],
      "outputs": [
        {
          "output_type": "execute_result",
          "execution_count": 10,
          "data": {
            "text/plain": "{'experiment_status': ['DatasetEvaluation',\n  'FeaturesGeneration',\n  'DatasetFeaturization',\n  'DatasetFeaturizationCompleted',\n  'DatasetCrossValidationSplit',\n  'ModelSelection',\n  'BestRunExplainModel',\n  'ModelExplanationDataSetSetup',\n  'PickSurrogateModel',\n  'EngineeredFeatureExplanations',\n  'EngineeredFeatureExplanations',\n  'RawFeaturesExplanations',\n  'RawFeaturesExplanations',\n  'BestRunExplainModel'],\n 'experiment_status_description': ['Gathering dataset statistics.',\n  'Generating features for the dataset.',\n  'Beginning to fit featurizers and featurize the dataset.',\n  'Completed fit featurizers and featurizing the dataset.',\n  'Generating individually featurized CV splits.',\n  'Beginning model selection.',\n  'Best run model explanations started',\n  'Model explanations data setup completed',\n  'Choosing LightGBM as the surrogate model for explanations',\n  'Computation of engineered features started',\n  'Computation of engineered features completed',\n  'Computation of raw features started',\n  'Computation of raw features completed',\n  'Best run model explanations completed'],\n 'normalized_root_mean_squared_error': 0.019622160805043972,\n 'median_absolute_error': 1162.6285692247081,\n 'root_mean_squared_error': 3126.7717021229514,\n 'spearman_correlation': 0.9674561446281308,\n 'normalized_root_mean_squared_log_error': 0.0256368636386055,\n 'root_mean_squared_log_error': 0.14111605090080118,\n 'explained_variance': 0.9302602410211042,\n 'normalized_median_absolute_error': 0.007296114624030951,\n 'normalized_mean_absolute_error': 0.011304437142942048,\n 'r2_score': 0.9302502821897441,\n 'mean_absolute_percentage_error': 8.314871311449652,\n 'mean_absolute_error': 1801.3507542906725}"
          },
          "metadata": {}
        }
      ],
      "execution_count": 10,
      "metadata": {
        "collapsed": true,
        "jupyter": {
          "source_hidden": false,
          "outputs_hidden": false
        },
        "nteract": {
          "transient": {
            "deleting": false
          }
        },
        "gather": {
          "logged": 1618306269922
        }
      }
    },
    {
      "cell_type": "markdown",
      "source": [
        "Prints out the best rund id and the mean absolute error of the best model."
      ],
      "metadata": {
        "nteract": {
          "transient": {
            "deleting": false
          }
        }
      }
    },
    {
      "cell_type": "code",
      "source": [
        "print('Best Run ID:', automl_run.id)\n",
        "print('Mean Absolute Error:', automl_run_metrics['mean_absolute_error'])"
      ],
      "outputs": [
        {
          "output_type": "stream",
          "name": "stdout",
          "text": [
            "Best Run ID: AutoML_b90fbda5-c200-42aa-8e50-2732d82c0a55\n",
            "Mean Absolute Error: 1801.3507542906725\n"
          ]
        }
      ],
      "execution_count": 11,
      "metadata": {
        "collapsed": true,
        "jupyter": {
          "source_hidden": false,
          "outputs_hidden": false
        },
        "nteract": {
          "transient": {
            "deleting": false
          }
        },
        "gather": {
          "logged": 1618306287058
        }
      }
    },
    {
      "cell_type": "markdown",
      "source": [
        "Saves the best model as pkl file."
      ],
      "metadata": {
        "nteract": {
          "transient": {
            "deleting": false
          }
        }
      }
    },
    {
      "cell_type": "code",
      "source": [
        "#Save the best model\n",
        "\n",
        "import joblib  \n",
        "joblib.dump(best_model, \"model.pkl\")"
      ],
      "outputs": [
        {
          "output_type": "execute_result",
          "execution_count": 55,
          "data": {
            "text/plain": "['model.pkl']"
          },
          "metadata": {}
        }
      ],
      "execution_count": 55,
      "metadata": {
        "gather": {
          "logged": 1618310162044
        },
        "jupyter": {
          "outputs_hidden": false,
          "source_hidden": false
        },
        "nteract": {
          "transient": {
            "deleting": false
          }
        }
      }
    },
    {
      "cell_type": "markdown",
      "source": [
        "### Model Deployment\n",
        "\n",
        "Registers best model."
      ],
      "metadata": {}
    },
    {
      "cell_type": "code",
      "source": [
        "model_name = best_run.properties['model_name']\n",
        "model_name"
      ],
      "outputs": [
        {
          "output_type": "execute_result",
          "execution_count": 56,
          "data": {
            "text/plain": "'AutoMLb90fbda5c0'"
          },
          "metadata": {}
        }
      ],
      "execution_count": 56,
      "metadata": {
        "collapsed": true,
        "jupyter": {
          "source_hidden": false,
          "outputs_hidden": false
        },
        "nteract": {
          "transient": {
            "deleting": false
          }
        },
        "gather": {
          "logged": 1618310181889
        }
      }
    },
    {
      "cell_type": "code",
      "source": [
        "model = automl_run.register_model(model_name=model_name)\n",
        "\n",
        "print(model.name, model.id, model.version)"
      ],
      "outputs": [
        {
          "output_type": "stream",
          "name": "stdout",
          "text": [
            "AutoMLb90fbda5c0 AutoMLb90fbda5c0:5 5\n"
          ]
        }
      ],
      "execution_count": 59,
      "metadata": {
        "gather": {
          "logged": 1618310356245
        },
        "jupyter": {
          "outputs_hidden": false,
          "source_hidden": false
        },
        "nteract": {
          "transient": {
            "deleting": false
          }
        }
      }
    },
    {
      "cell_type": "markdown",
      "source": [
        "Creates an inference config and deploys the model as a web service."
      ],
      "metadata": {
        "nteract": {
          "transient": {
            "deleting": false
          }
        }
      }
    },
    {
      "cell_type": "code",
      "source": [
        "from azureml.core.model import InferenceConfig\n",
        "from azureml.core.webservice import AciWebservice\n",
        "from azureml.core.environment import Environment\n",
        "from azureml.core.model import Model\n",
        "\n",
        "service_name = 'mercedes-predictor'\n",
        "env = best_run.get_environment()\n",
        "\n",
        "script_file = 'score.py'\n",
        "best_run.download_file('outputs/scoring_file_v_1_0_0.py', script_file)\n",
        "\n",
        "inference_config = InferenceConfig(entry_script=script_file, environment=env)\n",
        "aci_config = AciWebservice.deploy_configuration(cpu_cores=1, memory_gb=1)\n",
        "\n",
        "service = Model.deploy(workspace=ws,\n",
        "                       name=service_name,\n",
        "                       models=[model],\n",
        "                       inference_config=inference_config,\n",
        "                       deployment_config=aci_config)\n",
        "\n",
        "service.wait_for_deployment(show_output=True)\n",
        "\n",
        "print(\"State: \",service.state)"
      ],
      "outputs": [
        {
          "output_type": "stream",
          "name": "stdout",
          "text": [
            "Tips: You can try get_logs(): https://aka.ms/debugimage#dockerlog or local deployment: https://aka.ms/debugimage#debug-locally to debug if deployment takes longer than 10 minutes.\n",
            "Running\n",
            "2021-04-13 10:51:08+00:00 Creating Container Registry if not exists.\n",
            "2021-04-13 10:51:08+00:00 Registering the environment.\n",
            "2021-04-13 10:51:08+00:00 Use the existing image.\n",
            "2021-04-13 10:51:10+00:00 Submitting deployment to compute..\n",
            "2021-04-13 10:51:14+00:00 Checking the status of deployment mercedes-predictor..\n",
            "2021-04-13 10:56:38+00:00 Checking the status of inference endpoint mercedes-predictor.\n",
            "Succeeded\n",
            "ACI service creation operation finished, operation \"Succeeded\"\n",
            "State:  Healthy\n"
          ]
        }
      ],
      "execution_count": 68,
      "metadata": {
        "collapsed": true,
        "jupyter": {
          "source_hidden": false,
          "outputs_hidden": false
        },
        "nteract": {
          "transient": {
            "deleting": false
          }
        },
        "gather": {
          "logged": 1618311401062
        }
      }
    },
    {
      "cell_type": "markdown",
      "source": [
        "Sends a request to the deployed web service to test it."
      ],
      "metadata": {
        "nteract": {
          "transient": {
            "deleting": false
          }
        }
      }
    },
    {
      "cell_type": "code",
      "source": [
        "data = [{\n",
        "    \"model\": \"G Class\",\n",
        "    \"year\": 2016,\n",
        "    \"transmission\": \"Automatic\",\n",
        "    \"mileage\": 16000,\n",
        "    \"fuelType\": \"Petrol\",\n",
        "    \"tax\": 325,\n",
        "    \"mpg\": 30.4,\n",
        "    \"engineSize\": 4.0, \n",
        "     }]\n",
        "\n",
        "print(data)"
      ],
      "outputs": [
        {
          "output_type": "stream",
          "name": "stdout",
          "text": [
            "[{'model': 'G Class', 'year': 2016, 'transmission': 'Automatic', 'mileage': 16000, 'fuelType': 'Petrol', 'tax': 325, 'mpg': 30.4, 'engineSize': 4.0}]\n"
          ]
        }
      ],
      "execution_count": 69,
      "metadata": {
        "collapsed": true,
        "jupyter": {
          "source_hidden": false,
          "outputs_hidden": false
        },
        "nteract": {
          "transient": {
            "deleting": false
          }
        },
        "gather": {
          "logged": 1618311404297
        }
      }
    },
    {
      "cell_type": "code",
      "source": [
        "import json\n",
        "\n",
        "input_payload = json.dumps({\n",
        "    'data': data\n",
        "})\n",
        "\n",
        "output = service.run(input_payload)\n",
        "\n",
        "print(output)"
      ],
      "outputs": [
        {
          "output_type": "stream",
          "name": "stdout",
          "text": [
            "{\"result\": [56265.4312647257]}\n"
          ]
        }
      ],
      "execution_count": 72,
      "metadata": {
        "gather": {
          "logged": 1618311409919
        },
        "jupyter": {
          "outputs_hidden": false,
          "source_hidden": false
        },
        "nteract": {
          "transient": {
            "deleting": false
          }
        }
      }
    },
    {
      "cell_type": "markdown",
      "source": [
        "Prints the logs of the web service."
      ],
      "metadata": {
        "nteract": {
          "transient": {
            "deleting": false
          }
        }
      }
    },
    {
      "cell_type": "code",
      "source": [
        "service.get_logs()"
      ],
      "outputs": [
        {
          "output_type": "execute_result",
          "execution_count": 73,
          "data": {
            "text/plain": "'2021-04-13T10:56:30,189761000+00:00 - gunicorn/run \\n2021-04-13T10:56:30,190649900+00:00 - rsyslog/run \\n2021-04-13T10:56:30,206212900+00:00 - iot-server/run \\n/usr/sbin/nginx: /azureml-envs/azureml_8e5a5a51349877e7d47c6a2872e0ebfd/lib/libcrypto.so.1.0.0: no version information available (required by /usr/sbin/nginx)\\n/usr/sbin/nginx: /azureml-envs/azureml_8e5a5a51349877e7d47c6a2872e0ebfd/lib/libcrypto.so.1.0.0: no version information available (required by /usr/sbin/nginx)\\n/usr/sbin/nginx: /azureml-envs/azureml_8e5a5a51349877e7d47c6a2872e0ebfd/lib/libssl.so.1.0.0: no version information available (required by /usr/sbin/nginx)\\n/usr/sbin/nginx: /azureml-envs/azureml_8e5a5a51349877e7d47c6a2872e0ebfd/lib/libssl.so.1.0.0: no version information available (required by /usr/sbin/nginx)\\n/usr/sbin/nginx: /azureml-envs/azureml_8e5a5a51349877e7d47c6a2872e0ebfd/lib/libssl.so.1.0.0: no version information available (required by /usr/sbin/nginx)\\n2021-04-13T10:56:30,232362100+00:00 - nginx/run \\nrsyslogd: /azureml-envs/azureml_8e5a5a51349877e7d47c6a2872e0ebfd/lib/libuuid.so.1: no version information available (required by rsyslogd)\\nEdgeHubConnectionString and IOTEDGE_IOTHUBHOSTNAME are not set. Exiting...\\n2021-04-13T10:56:30,541268600+00:00 - iot-server/finish 1 0\\n2021-04-13T10:56:30,543515400+00:00 - Exit code 1 is normal. Not restarting iot-server.\\nStarting gunicorn 19.9.0\\nListening at: http://127.0.0.1:31311 (72)\\nUsing worker: sync\\nworker timeout is set to 300\\nBooting worker with pid: 98\\nSPARK_HOME not set. Skipping PySpark Initialization.\\nGenerating new fontManager, this may take some time...\\nInitializing logger\\n2021-04-13 10:56:33,046 | root | INFO | Starting up app insights client\\n2021-04-13 10:56:33,046 | root | INFO | Starting up request id generator\\n2021-04-13 10:56:33,047 | root | INFO | Starting up app insight hooks\\n2021-04-13 10:56:33,047 | root | INFO | Invoking user\\'s init function\\n2021-04-13 10:56:37,417 | azureml.core | WARNING | Failure while loading azureml_run_type_providers. Failed to load entrypoint automl = azureml.train.automl.run:AutoMLRun._from_run_dto with exception cannot import name \\'RunType\\'.\\nFailure while loading azureml_run_type_providers. Failed to load entrypoint automl = azureml.train.automl.run:AutoMLRun._from_run_dto with exception cannot import name \\'RunType\\'.\\n2021-04-13 10:56:37,842 | root | INFO | Users\\'s init has completed successfully\\n2021-04-13 10:56:37,847 | root | INFO | Skipping middleware: dbg_model_info as it\\'s not enabled.\\n2021-04-13 10:56:37,848 | root | INFO | Skipping middleware: dbg_resource_usage as it\\'s not enabled.\\n2021-04-13 10:56:37,852 | root | INFO | Scoring timeout is found from os.environ: 60000 ms\\n2021-04-13 10:56:38,312 | root | INFO | 200\\n127.0.0.1 - - [13/Apr/2021:10:56:38 +0000] \"GET /swagger.json HTTP/1.0\" 200 2470 \"-\" \"Go-http-client/1.1\"\\n2021-04-13 10:56:40,570 | root | INFO | 200\\n127.0.0.1 - - [13/Apr/2021:10:56:40 +0000] \"GET /swagger.json HTTP/1.0\" 200 2470 \"-\" \"Go-http-client/1.1\"\\n2021-04-13 10:56:46,109 | root | INFO | Validation Request Content-Type\\n2021-04-13 10:56:46,110 | root | INFO | Scoring Timer is set to 60.0 seconds\\n2021-04-13 10:56:46,188 | root | INFO | 200\\n127.0.0.1 - - [13/Apr/2021:10:56:46 +0000] \"POST /score HTTP/1.0\" 200 34 \"-\" \"python-requests/2.25.1\"\\n2021-04-13 10:56:48,538 | root | INFO | Validation Request Content-Type\\n2021-04-13 10:56:48,539 | root | INFO | Scoring Timer is set to 60.0 seconds\\n2021-04-13 10:56:48,581 | root | INFO | 200\\n127.0.0.1 - - [13/Apr/2021:10:56:48 +0000] \"POST /score HTTP/1.0\" 200 34 \"-\" \"python-requests/2.25.1\"\\n2021-04-13 10:56:49,732 | root | INFO | Validation Request Content-Type\\n2021-04-13 10:56:49,733 | root | INFO | Scoring Timer is set to 60.0 seconds\\n2021-04-13 10:56:49,775 | root | INFO | 200\\n127.0.0.1 - - [13/Apr/2021:10:56:49 +0000] \"POST /score HTTP/1.0\" 200 34 \"-\" \"python-requests/2.25.1\"\\n'"
          },
          "metadata": {}
        }
      ],
      "execution_count": 73,
      "metadata": {
        "jupyter": {
          "outputs_hidden": false,
          "source_hidden": false
        },
        "nteract": {
          "transient": {
            "deleting": false
          }
        },
        "gather": {
          "logged": 1618311412990
        }
      }
    },
    {
      "cell_type": "markdown",
      "source": [
        "Deletes the service."
      ],
      "metadata": {
        "nteract": {
          "transient": {
            "deleting": false
          }
        }
      }
    },
    {
      "cell_type": "code",
      "source": [
        "service.delete()"
      ],
      "outputs": [],
      "execution_count": 67,
      "metadata": {
        "collapsed": true,
        "jupyter": {
          "source_hidden": false,
          "outputs_hidden": false
        },
        "nteract": {
          "transient": {
            "deleting": false
          }
        },
        "gather": {
          "logged": 1618311007354
        }
      }
    }
  ],
  "metadata": {
    "kernel_info": {
      "name": "python3"
    },
    "kernelspec": {
      "name": "python3",
      "language": "python",
      "display_name": "Python 3"
    },
    "language_info": {
      "name": "python",
      "version": "3.6.9",
      "mimetype": "text/x-python",
      "codemirror_mode": {
        "name": "ipython",
        "version": 3
      },
      "pygments_lexer": "ipython3",
      "nbconvert_exporter": "python",
      "file_extension": ".py"
    },
    "nteract": {
      "version": "nteract-front-end@1.0.0"
    },
    "microsoft": {
      "host": {
        "AzureML": {
          "notebookHasBeenCompleted": true
        }
      }
    }
  },
  "nbformat": 4,
  "nbformat_minor": 2
}